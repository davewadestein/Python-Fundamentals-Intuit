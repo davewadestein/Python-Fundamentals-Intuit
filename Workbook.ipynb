{
  "nbformat": 4,
  "nbformat_minor": 0,
  "metadata": {
    "colab": {
      "provenance": []
    },
    "kernelspec": {
      "name": "python3",
      "display_name": "Python 3"
    },
    "language_info": {
      "name": "python"
    }
  },
  "cells": [
    {
      "cell_type": "markdown",
      "source": [
        "# Scripting vs. Programming\n",
        "* scripting is\n",
        "  * simpler\n",
        "  * smaller tasks\n",
        "  * automation\n",
        "  * shorter (or longer)\n",
        "  * possibly one-off\n",
        "  * not well documented\n",
        "* programming\n",
        "  * more complex\n",
        "  * larger tasks\n",
        "  * longer (or shorter)"
      ],
      "metadata": {
        "id": "Q5dOef86ARxh"
      }
    },
    {
      "cell_type": "markdown",
      "source": [
        "# Important Things About Python\n",
        "* built-in functions DO NOT change the data/arguments that are passed into them\n",
        "  * in addition, the built-in functions are \"general\", in that they often can take lots of different datatypes (e.g., __`print()`__, __`str()`__)\n",
        "  * if you want to change an object in Python, you must call/invoke/apply a method on/to that object\n",
        "    * NOT ALL methods make changes to an object\n",
        "* scalars vs. containers\n",
        "  * scalar = one single value\n",
        "    * int, float, bool\n",
        "  * container = object that holds 0+ other values\n",
        "    * str, list\n",
        "* mutable vs. immutable types\n",
        "  * immutable = str, tuple\n",
        "  * mutable = list"
      ],
      "metadata": {
        "id": "rjXyxjtPH6jD"
      }
    },
    {
      "cell_type": "markdown",
      "source": [
        "# Important things to keep in mind about programming\n",
        "* \"Efficiency doesn't matter until it matters, and it rarely matters.\" –DWS\n",
        "* \"We should forget about small efficiencies, say about 97% of the time: premature optimization is the root of all evil. Yet we should not pass up our opportunities in that critical 3%.\""
      ],
      "metadata": {
        "id": "4paDIaewAaP6"
      }
    },
    {
      "cell_type": "markdown",
      "source": [
        "# Pythonic\n",
        "* Dom's explanation: Using the conventions of the language, and therefore readers of the code will see what they expect\n",
        "* \"My name is Rick and I'm a Java programmer. I've been dabbling in Python, but my Python looks like Java.\"\n",
        "* examples\n",
        "  * prefer __`container[-1]`__, which always means the last item in a container\n",
        "  * __`container[-n]`__ always means the item which is __`n`__ items from the end of the container\n",
        "  * __`container[:n]`__ means the first __`n`__ items in the container\n",
        "  * __`container[::-1]`__ means a reversed version of the container\n",
        "  * __`container[-n:]`__ means the last __`n`__ items in the container\n",
        "  * __`for _ in range(n)`__ means \"repeat the following code n times\"\n",
        "  * don't use indexing to access lists (or other containers) unless you need it\n",
        "  * because strings are immutable and therefore \"brittle\", one strategy is to turn them into lists, and then do whatever processing you want, and then put them back into being strings\n",
        "  * if a datatype is difficult to work with, consider converting your data into a different datatype, which is more flexible"
      ],
      "metadata": {
        "id": "jC3DXGW7_UQF"
      }
    },
    {
      "cell_type": "markdown",
      "source": [
        "## DWS's two sure-fire ways to get better at coding\n",
        "1. once you have a working solution, try to write the code another way\n",
        "2. add features to existing code (anticipating what the customer may need down the line)"
      ],
      "metadata": {
        "id": "oBT6ZHu5c7sP"
      }
    },
    {
      "cell_type": "code",
      "source": [],
      "metadata": {
        "id": "y0BBe98pc7PH"
      },
      "execution_count": null,
      "outputs": []
    },
    {
      "cell_type": "code",
      "source": [],
      "metadata": {
        "id": "3dOQ6Zp4vdhU"
      },
      "execution_count": null,
      "outputs": []
    },
    {
      "cell_type": "code",
      "source": [],
      "metadata": {
        "id": "ch4UDpeAvdeZ"
      },
      "execution_count": null,
      "outputs": []
    },
    {
      "cell_type": "code",
      "source": [
        "'nohtyP'[::-1]"
      ],
      "metadata": {
        "colab": {
          "base_uri": "https://localhost:8080/",
          "height": 35
        },
        "id": "xvOPbS8sn39E",
        "outputId": "d24bef9c-a947-4101-f706-75710b53ba47"
      },
      "execution_count": 42,
      "outputs": [
        {
          "output_type": "execute_result",
          "data": {
            "text/plain": [
              "'Python'"
            ],
            "application/vnd.google.colaboratory.intrinsic+json": {
              "type": "string"
            }
          },
          "metadata": {},
          "execution_count": 42
        }
      ]
    },
    {
      "cell_type": "code",
      "source": [
        "name = 'Dave'"
      ],
      "metadata": {
        "id": "_KFSpVBP_fqa"
      },
      "execution_count": 1,
      "outputs": []
    },
    {
      "cell_type": "code",
      "source": [
        "name"
      ],
      "metadata": {
        "colab": {
          "base_uri": "https://localhost:8080/",
          "height": 35
        },
        "id": "8uoB1FJoFDoA",
        "outputId": "a0c8c4c4-8a40-4708-ccab-9b68a0e9a407"
      },
      "execution_count": 2,
      "outputs": [
        {
          "output_type": "execute_result",
          "data": {
            "text/plain": [
              "'Dave'"
            ],
            "application/vnd.google.colaboratory.intrinsic+json": {
              "type": "string"
            }
          },
          "metadata": {},
          "execution_count": 2
        }
      ]
    },
    {
      "cell_type": "code",
      "source": [
        "name = 5"
      ],
      "metadata": {
        "id": "D1wHk7AzFFRo"
      },
      "execution_count": 3,
      "outputs": []
    },
    {
      "cell_type": "code",
      "source": [
        "name"
      ],
      "metadata": {
        "colab": {
          "base_uri": "https://localhost:8080/"
        },
        "id": "JDmYFi8MFGRg",
        "outputId": "3567007a-a2fc-4262-e873-625aac2da5e3"
      },
      "execution_count": 4,
      "outputs": [
        {
          "output_type": "execute_result",
          "data": {
            "text/plain": [
              "5"
            ]
          },
          "metadata": {},
          "execution_count": 4
        }
      ]
    },
    {
      "cell_type": "code",
      "source": [
        "year = 1999\n",
        "str(year)"
      ],
      "metadata": {
        "colab": {
          "base_uri": "https://localhost:8080/",
          "height": 35
        },
        "id": "TRACpBinFG6U",
        "outputId": "c186c794-59c2-4faa-dc76-5a647359c50e"
      },
      "execution_count": 5,
      "outputs": [
        {
          "output_type": "execute_result",
          "data": {
            "text/plain": [
              "'1999'"
            ],
            "application/vnd.google.colaboratory.intrinsic+json": {
              "type": "string"
            }
          },
          "metadata": {},
          "execution_count": 5
        }
      ]
    },
    {
      "cell_type": "code",
      "source": [
        "year"
      ],
      "metadata": {
        "colab": {
          "base_uri": "https://localhost:8080/"
        },
        "id": "6FMoH88LIW14",
        "outputId": "4b79bd7b-bb91-452a-fa1f-3a9cc8cf1c14"
      },
      "execution_count": 6,
      "outputs": [
        {
          "output_type": "execute_result",
          "data": {
            "text/plain": [
              "1999"
            ]
          },
          "metadata": {},
          "execution_count": 6
        }
      ]
    },
    {
      "cell_type": "code",
      "source": [
        "1/13"
      ],
      "metadata": {
        "colab": {
          "base_uri": "https://localhost:8080/"
        },
        "id": "o9JbVKnKIXVI",
        "outputId": "19ffa4ab-d096-41c7-834f-b87ecd07e10f"
      },
      "execution_count": 7,
      "outputs": [
        {
          "output_type": "execute_result",
          "data": {
            "text/plain": [
              "0.07692307692307693"
            ]
          },
          "metadata": {},
          "execution_count": 7
        }
      ]
    },
    {
      "cell_type": "code",
      "source": [
        "round(0.1 + 0.1 + 0.1, ndigits=17)"
      ],
      "metadata": {
        "colab": {
          "base_uri": "https://localhost:8080/"
        },
        "id": "XQE1yTY_KBU0",
        "outputId": "d3c33bdb-d69d-4c45-f0db-2fb80cb59c3c"
      },
      "execution_count": 10,
      "outputs": [
        {
          "output_type": "execute_result",
          "data": {
            "text/plain": [
              "0.30000000000000004"
            ]
          },
          "metadata": {},
          "execution_count": 10
        }
      ]
    },
    {
      "cell_type": "code",
      "source": [
        "print()"
      ],
      "metadata": {
        "colab": {
          "base_uri": "https://localhost:8080/"
        },
        "id": "R--PRaOsKpTj",
        "outputId": "d7370e42-e47f-4bde-cf3c-18bcb1407be2"
      },
      "execution_count": 11,
      "outputs": [
        {
          "output_type": "stream",
          "name": "stdout",
          "text": [
            "\n"
          ]
        }
      ]
    },
    {
      "cell_type": "code",
      "source": [
        "print(1, 2, 3, 4, 5, 6)\n",
        "print(7, 8, 9)"
      ],
      "metadata": {
        "colab": {
          "base_uri": "https://localhost:8080/"
        },
        "id": "r1YmqKXPLd9C",
        "outputId": "915096ab-55e0-4d27-8154-5473b4bf2953"
      },
      "execution_count": 13,
      "outputs": [
        {
          "output_type": "stream",
          "name": "stdout",
          "text": [
            "1 2 3 4 5 6\n",
            "7 8 9\n"
          ]
        }
      ]
    },
    {
      "cell_type": "code",
      "source": [
        "print(1, 2, 3, end='\\n\\n')\n",
        "print(4, 5, 6)"
      ],
      "metadata": {
        "colab": {
          "base_uri": "https://localhost:8080/"
        },
        "id": "fGxvt3PGLfnu",
        "outputId": "5497ee1b-caa8-4cec-98f5-737ae318cbd0"
      },
      "execution_count": 16,
      "outputs": [
        {
          "output_type": "stream",
          "name": "stdout",
          "text": [
            "1 2 3\n",
            "\n",
            "4 5 6\n"
          ]
        }
      ]
    },
    {
      "cell_type": "code",
      "source": [
        "help(print)"
      ],
      "metadata": {
        "colab": {
          "base_uri": "https://localhost:8080/"
        },
        "id": "WRilvHbkNBJS",
        "outputId": "7e05ed5b-6bc9-4313-915f-9298ebb7224c"
      },
      "execution_count": 17,
      "outputs": [
        {
          "output_type": "stream",
          "name": "stdout",
          "text": [
            "Help on built-in function print in module builtins:\n",
            "\n",
            "print(*args, sep=' ', end='\\n', file=None, flush=False)\n",
            "    Prints the values to a stream, or to sys.stdout by default.\n",
            "    \n",
            "    sep\n",
            "      string inserted between values, default a space.\n",
            "    end\n",
            "      string appended after the last value, default a newline.\n",
            "    file\n",
            "      a file-like object (stream); defaults to the current sys.stdout.\n",
            "    flush\n",
            "      whether to forcibly flush the stream.\n",
            "\n"
          ]
        }
      ]
    },
    {
      "cell_type": "code",
      "source": [
        "print(1, 2, 3)"
      ],
      "metadata": {
        "colab": {
          "base_uri": "https://localhost:8080/"
        },
        "id": "Fp8uqM_nNCEY",
        "outputId": "d5f3e182-e931-477c-91a1-ec32ab69835b"
      },
      "execution_count": 20,
      "outputs": [
        {
          "output_type": "stream",
          "name": "stdout",
          "text": [
            "1 2 3\n"
          ]
        }
      ]
    },
    {
      "cell_type": "code",
      "source": [
        "a, b, o, p = 'b', 'a', 'p', 'o'"
      ],
      "metadata": {
        "id": "_M9_emA-NPRR"
      },
      "execution_count": 22,
      "outputs": []
    },
    {
      "cell_type": "code",
      "source": [
        "a * 3 + b"
      ],
      "metadata": {
        "colab": {
          "base_uri": "https://localhost:8080/",
          "height": 35
        },
        "id": "s8DnUA3SUilX",
        "outputId": "fca0de99-29f6-440f-bb69-7717f75c7569"
      },
      "execution_count": 24,
      "outputs": [
        {
          "output_type": "execute_result",
          "data": {
            "text/plain": [
              "'bbba'"
            ],
            "application/vnd.google.colaboratory.intrinsic+json": {
              "type": "string"
            }
          },
          "metadata": {},
          "execution_count": 24
        }
      ]
    },
    {
      "cell_type": "code",
      "source": [
        "o + p + o"
      ],
      "metadata": {
        "colab": {
          "base_uri": "https://localhost:8080/",
          "height": 35
        },
        "id": "H0MOp6UaUILd",
        "outputId": "28a4d4f6-61af-4bf4-e55f-05827bd7c06e"
      },
      "execution_count": 23,
      "outputs": [
        {
          "output_type": "execute_result",
          "data": {
            "text/plain": [
              "'pop'"
            ],
            "application/vnd.google.colaboratory.intrinsic+json": {
              "type": "string"
            }
          },
          "metadata": {},
          "execution_count": 23
        }
      ]
    },
    {
      "cell_type": "code",
      "source": [
        "a + p * 2 + 'k' * 2 + 'e' * 2 + o + 'er'"
      ],
      "metadata": {
        "colab": {
          "base_uri": "https://localhost:8080/",
          "height": 35
        },
        "id": "xMtnSoGRUpXC",
        "outputId": "4cc37737-8796-4dac-fd82-f59bee750e15"
      },
      "execution_count": 25,
      "outputs": [
        {
          "output_type": "execute_result",
          "data": {
            "text/plain": [
              "'bookkeeper'"
            ],
            "application/vnd.google.colaboratory.intrinsic+json": {
              "type": "string"
            }
          },
          "metadata": {},
          "execution_count": 25
        }
      ]
    },
    {
      "cell_type": "code",
      "source": [
        "%%writefile program.py\n",
        "name = input('Enter your name: ')\n",
        "print('You entered', name)"
      ],
      "metadata": {
        "colab": {
          "base_uri": "https://localhost:8080/"
        },
        "id": "-kOlc6hmn5FL",
        "outputId": "10af2332-fa5a-49bb-f2e7-d9d207a97590"
      },
      "execution_count": 26,
      "outputs": [
        {
          "output_type": "stream",
          "name": "stdout",
          "text": [
            "Writing program.py\n"
          ]
        }
      ]
    },
    {
      "cell_type": "code",
      "source": [
        "%run program.py"
      ],
      "metadata": {
        "colab": {
          "base_uri": "https://localhost:8080/"
        },
        "id": "BjYJdNkToTnv",
        "outputId": "b9eac033-16d5-403a-b922-33908e35c983"
      },
      "execution_count": 27,
      "outputs": [
        {
          "output_type": "stream",
          "name": "stdout",
          "text": [
            "Enter your name: Dave\n",
            "You entered Dave\n"
          ]
        }
      ]
    },
    {
      "cell_type": "code",
      "source": [],
      "metadata": {
        "id": "qkxjkkdDoq4K"
      },
      "execution_count": null,
      "outputs": []
    },
    {
      "cell_type": "code",
      "source": [
        "!python program.py"
      ],
      "metadata": {
        "colab": {
          "base_uri": "https://localhost:8080/"
        },
        "id": "6QBVT8L7oibJ",
        "outputId": "ba95b6b9-6e0f-4be1-ba92-86653c895f4e"
      },
      "execution_count": 29,
      "outputs": [
        {
          "output_type": "stream",
          "name": "stdout",
          "text": [
            "Enter your name: Dave\n",
            "You entered Dave\n"
          ]
        }
      ]
    },
    {
      "cell_type": "code",
      "source": [
        "if 5 > 3:\n",
        "    print('we are now pep8 compliant')"
      ],
      "metadata": {
        "colab": {
          "base_uri": "https://localhost:8080/"
        },
        "id": "dFPoUUHbrj5a",
        "outputId": "044dd20a-1314-4cba-c9b5-4b1a810810bd"
      },
      "execution_count": 31,
      "outputs": [
        {
          "output_type": "stream",
          "name": "stdout",
          "text": [
            "we are now pep8 compliant\n"
          ]
        }
      ]
    },
    {
      "cell_type": "code",
      "source": [
        "result = input('Enter an int: ')"
      ],
      "metadata": {
        "colab": {
          "base_uri": "https://localhost:8080/"
        },
        "id": "iCSnwVV9shxi",
        "outputId": "a03b587e-13f1-41e0-df82-39f8d24f3696"
      },
      "execution_count": 32,
      "outputs": [
        {
          "name": "stdout",
          "output_type": "stream",
          "text": [
            "Enter an int: 45\n"
          ]
        }
      ]
    },
    {
      "cell_type": "code",
      "source": [
        "int(result)"
      ],
      "metadata": {
        "colab": {
          "base_uri": "https://localhost:8080/"
        },
        "id": "JG_LDduNuBF1",
        "outputId": "f8657420-af01-4baf-f6f3-33e255954d11"
      },
      "execution_count": 34,
      "outputs": [
        {
          "output_type": "execute_result",
          "data": {
            "text/plain": [
              "45"
            ]
          },
          "metadata": {},
          "execution_count": 34
        }
      ]
    },
    {
      "cell_type": "code",
      "source": [
        "# \"in\" operator?\n",
        "# allows us to ask the question is something IN a container\n",
        "\n",
        "'z' in 'Intuit'\n"
      ],
      "metadata": {
        "colab": {
          "base_uri": "https://localhost:8080/"
        },
        "id": "HDY6RvkRuCYa",
        "outputId": "80191e88-d104-4785-d202-d282e96023ab"
      },
      "execution_count": 38,
      "outputs": [
        {
          "output_type": "execute_result",
          "data": {
            "text/plain": [
              "False"
            ]
          },
          "metadata": {},
          "execution_count": 38
        }
      ]
    },
    {
      "cell_type": "code",
      "source": [
        "import random # bring into memory the random module"
      ],
      "metadata": {
        "id": "H6hAufJkvSJc"
      },
      "execution_count": 39,
      "outputs": []
    },
    {
      "cell_type": "code",
      "source": [
        "dir(random)"
      ],
      "metadata": {
        "colab": {
          "base_uri": "https://localhost:8080/"
        },
        "id": "OnbZXQG7xUXb",
        "outputId": "364a341d-fcb0-40cb-836e-a16d3694ed7f"
      },
      "execution_count": 40,
      "outputs": [
        {
          "output_type": "execute_result",
          "data": {
            "text/plain": [
              "['BPF',\n",
              " 'LOG4',\n",
              " 'NV_MAGICCONST',\n",
              " 'RECIP_BPF',\n",
              " 'Random',\n",
              " 'SG_MAGICCONST',\n",
              " 'SystemRandom',\n",
              " 'TWOPI',\n",
              " '_ONE',\n",
              " '_Sequence',\n",
              " '_Set',\n",
              " '__all__',\n",
              " '__builtins__',\n",
              " '__cached__',\n",
              " '__doc__',\n",
              " '__file__',\n",
              " '__loader__',\n",
              " '__name__',\n",
              " '__package__',\n",
              " '__spec__',\n",
              " '_accumulate',\n",
              " '_acos',\n",
              " '_bisect',\n",
              " '_ceil',\n",
              " '_cos',\n",
              " '_e',\n",
              " '_exp',\n",
              " '_floor',\n",
              " '_index',\n",
              " '_inst',\n",
              " '_isfinite',\n",
              " '_log',\n",
              " '_os',\n",
              " '_pi',\n",
              " '_random',\n",
              " '_repeat',\n",
              " '_sha512',\n",
              " '_sin',\n",
              " '_sqrt',\n",
              " '_test',\n",
              " '_test_generator',\n",
              " '_urandom',\n",
              " '_warn',\n",
              " 'betavariate',\n",
              " 'choice',\n",
              " 'choices',\n",
              " 'expovariate',\n",
              " 'gammavariate',\n",
              " 'gauss',\n",
              " 'getrandbits',\n",
              " 'getstate',\n",
              " 'lognormvariate',\n",
              " 'normalvariate',\n",
              " 'paretovariate',\n",
              " 'randbytes',\n",
              " 'randint',\n",
              " 'random',\n",
              " 'randrange',\n",
              " 'sample',\n",
              " 'seed',\n",
              " 'setstate',\n",
              " 'shuffle',\n",
              " 'triangular',\n",
              " 'uniform',\n",
              " 'vonmisesvariate',\n",
              " 'weibullvariate']"
            ]
          },
          "metadata": {},
          "execution_count": 40
        }
      ]
    },
    {
      "cell_type": "code",
      "source": [
        "help(random.randint)"
      ],
      "metadata": {
        "colab": {
          "base_uri": "https://localhost:8080/"
        },
        "id": "mvPkD5ZZxmS7",
        "outputId": "ce62703c-67d2-44dc-c210-07aa7a7149d4"
      },
      "execution_count": 42,
      "outputs": [
        {
          "output_type": "stream",
          "name": "stdout",
          "text": [
            "Help on method randint in module random:\n",
            "\n",
            "randint(a, b) method of random.Random instance\n",
            "    Return random integer in range [a, b], including both end points.\n",
            "\n"
          ]
        }
      ]
    },
    {
      "cell_type": "code",
      "source": [
        "import math"
      ],
      "metadata": {
        "id": "tfXhwu8Nx8_C"
      },
      "execution_count": 44,
      "outputs": []
    },
    {
      "cell_type": "code",
      "source": [
        "dir(math)"
      ],
      "metadata": {
        "colab": {
          "base_uri": "https://localhost:8080/"
        },
        "id": "_bbh_DQQyDTe",
        "outputId": "e8d40bb5-3f0d-4ac9-cfad-0c82ac21a1aa"
      },
      "execution_count": 45,
      "outputs": [
        {
          "output_type": "execute_result",
          "data": {
            "text/plain": [
              "['__doc__',\n",
              " '__loader__',\n",
              " '__name__',\n",
              " '__package__',\n",
              " '__spec__',\n",
              " 'acos',\n",
              " 'acosh',\n",
              " 'asin',\n",
              " 'asinh',\n",
              " 'atan',\n",
              " 'atan2',\n",
              " 'atanh',\n",
              " 'cbrt',\n",
              " 'ceil',\n",
              " 'comb',\n",
              " 'copysign',\n",
              " 'cos',\n",
              " 'cosh',\n",
              " 'degrees',\n",
              " 'dist',\n",
              " 'e',\n",
              " 'erf',\n",
              " 'erfc',\n",
              " 'exp',\n",
              " 'exp2',\n",
              " 'expm1',\n",
              " 'fabs',\n",
              " 'factorial',\n",
              " 'floor',\n",
              " 'fmod',\n",
              " 'frexp',\n",
              " 'fsum',\n",
              " 'gamma',\n",
              " 'gcd',\n",
              " 'hypot',\n",
              " 'inf',\n",
              " 'isclose',\n",
              " 'isfinite',\n",
              " 'isinf',\n",
              " 'isnan',\n",
              " 'isqrt',\n",
              " 'lcm',\n",
              " 'ldexp',\n",
              " 'lgamma',\n",
              " 'log',\n",
              " 'log10',\n",
              " 'log1p',\n",
              " 'log2',\n",
              " 'modf',\n",
              " 'nan',\n",
              " 'nextafter',\n",
              " 'perm',\n",
              " 'pi',\n",
              " 'pow',\n",
              " 'prod',\n",
              " 'radians',\n",
              " 'remainder',\n",
              " 'sin',\n",
              " 'sinh',\n",
              " 'sqrt',\n",
              " 'tan',\n",
              " 'tanh',\n",
              " 'tau',\n",
              " 'trunc',\n",
              " 'ulp']"
            ]
          },
          "metadata": {},
          "execution_count": 45
        }
      ]
    },
    {
      "cell_type": "code",
      "source": [
        "help(math)"
      ],
      "metadata": {
        "colab": {
          "base_uri": "https://localhost:8080/"
        },
        "id": "J_iQhGJvyGw1",
        "outputId": "ca5d01c9-d06d-4f17-847e-3dff30a35021"
      },
      "execution_count": 46,
      "outputs": [
        {
          "output_type": "stream",
          "name": "stdout",
          "text": [
            "Help on built-in module math:\n",
            "\n",
            "NAME\n",
            "    math\n",
            "\n",
            "DESCRIPTION\n",
            "    This module provides access to the mathematical functions\n",
            "    defined by the C standard.\n",
            "\n",
            "FUNCTIONS\n",
            "    acos(x, /)\n",
            "        Return the arc cosine (measured in radians) of x.\n",
            "        \n",
            "        The result is between 0 and pi.\n",
            "    \n",
            "    acosh(x, /)\n",
            "        Return the inverse hyperbolic cosine of x.\n",
            "    \n",
            "    asin(x, /)\n",
            "        Return the arc sine (measured in radians) of x.\n",
            "        \n",
            "        The result is between -pi/2 and pi/2.\n",
            "    \n",
            "    asinh(x, /)\n",
            "        Return the inverse hyperbolic sine of x.\n",
            "    \n",
            "    atan(x, /)\n",
            "        Return the arc tangent (measured in radians) of x.\n",
            "        \n",
            "        The result is between -pi/2 and pi/2.\n",
            "    \n",
            "    atan2(y, x, /)\n",
            "        Return the arc tangent (measured in radians) of y/x.\n",
            "        \n",
            "        Unlike atan(y/x), the signs of both x and y are considered.\n",
            "    \n",
            "    atanh(x, /)\n",
            "        Return the inverse hyperbolic tangent of x.\n",
            "    \n",
            "    cbrt(x, /)\n",
            "        Return the cube root of x.\n",
            "    \n",
            "    ceil(x, /)\n",
            "        Return the ceiling of x as an Integral.\n",
            "        \n",
            "        This is the smallest integer >= x.\n",
            "    \n",
            "    comb(n, k, /)\n",
            "        Number of ways to choose k items from n items without repetition and without order.\n",
            "        \n",
            "        Evaluates to n! / (k! * (n - k)!) when k <= n and evaluates\n",
            "        to zero when k > n.\n",
            "        \n",
            "        Also called the binomial coefficient because it is equivalent\n",
            "        to the coefficient of k-th term in polynomial expansion of the\n",
            "        expression (1 + x)**n.\n",
            "        \n",
            "        Raises TypeError if either of the arguments are not integers.\n",
            "        Raises ValueError if either of the arguments are negative.\n",
            "    \n",
            "    copysign(x, y, /)\n",
            "        Return a float with the magnitude (absolute value) of x but the sign of y.\n",
            "        \n",
            "        On platforms that support signed zeros, copysign(1.0, -0.0)\n",
            "        returns -1.0.\n",
            "    \n",
            "    cos(x, /)\n",
            "        Return the cosine of x (measured in radians).\n",
            "    \n",
            "    cosh(x, /)\n",
            "        Return the hyperbolic cosine of x.\n",
            "    \n",
            "    degrees(x, /)\n",
            "        Convert angle x from radians to degrees.\n",
            "    \n",
            "    dist(p, q, /)\n",
            "        Return the Euclidean distance between two points p and q.\n",
            "        \n",
            "        The points should be specified as sequences (or iterables) of\n",
            "        coordinates.  Both inputs must have the same dimension.\n",
            "        \n",
            "        Roughly equivalent to:\n",
            "            sqrt(sum((px - qx) ** 2.0 for px, qx in zip(p, q)))\n",
            "    \n",
            "    erf(x, /)\n",
            "        Error function at x.\n",
            "    \n",
            "    erfc(x, /)\n",
            "        Complementary error function at x.\n",
            "    \n",
            "    exp(x, /)\n",
            "        Return e raised to the power of x.\n",
            "    \n",
            "    exp2(x, /)\n",
            "        Return 2 raised to the power of x.\n",
            "    \n",
            "    expm1(x, /)\n",
            "        Return exp(x)-1.\n",
            "        \n",
            "        This function avoids the loss of precision involved in the direct evaluation of exp(x)-1 for small x.\n",
            "    \n",
            "    fabs(x, /)\n",
            "        Return the absolute value of the float x.\n",
            "    \n",
            "    factorial(n, /)\n",
            "        Find n!.\n",
            "        \n",
            "        Raise a ValueError if x is negative or non-integral.\n",
            "    \n",
            "    floor(x, /)\n",
            "        Return the floor of x as an Integral.\n",
            "        \n",
            "        This is the largest integer <= x.\n",
            "    \n",
            "    fmod(x, y, /)\n",
            "        Return fmod(x, y), according to platform C.\n",
            "        \n",
            "        x % y may differ.\n",
            "    \n",
            "    frexp(x, /)\n",
            "        Return the mantissa and exponent of x, as pair (m, e).\n",
            "        \n",
            "        m is a float and e is an int, such that x = m * 2.**e.\n",
            "        If x is 0, m and e are both 0.  Else 0.5 <= abs(m) < 1.0.\n",
            "    \n",
            "    fsum(seq, /)\n",
            "        Return an accurate floating point sum of values in the iterable seq.\n",
            "        \n",
            "        Assumes IEEE-754 floating point arithmetic.\n",
            "    \n",
            "    gamma(x, /)\n",
            "        Gamma function at x.\n",
            "    \n",
            "    gcd(*integers)\n",
            "        Greatest Common Divisor.\n",
            "    \n",
            "    hypot(...)\n",
            "        hypot(*coordinates) -> value\n",
            "        \n",
            "        Multidimensional Euclidean distance from the origin to a point.\n",
            "        \n",
            "        Roughly equivalent to:\n",
            "            sqrt(sum(x**2 for x in coordinates))\n",
            "        \n",
            "        For a two dimensional point (x, y), gives the hypotenuse\n",
            "        using the Pythagorean theorem:  sqrt(x*x + y*y).\n",
            "        \n",
            "        For example, the hypotenuse of a 3/4/5 right triangle is:\n",
            "        \n",
            "            >>> hypot(3.0, 4.0)\n",
            "            5.0\n",
            "    \n",
            "    isclose(a, b, *, rel_tol=1e-09, abs_tol=0.0)\n",
            "        Determine whether two floating point numbers are close in value.\n",
            "        \n",
            "          rel_tol\n",
            "            maximum difference for being considered \"close\", relative to the\n",
            "            magnitude of the input values\n",
            "          abs_tol\n",
            "            maximum difference for being considered \"close\", regardless of the\n",
            "            magnitude of the input values\n",
            "        \n",
            "        Return True if a is close in value to b, and False otherwise.\n",
            "        \n",
            "        For the values to be considered close, the difference between them\n",
            "        must be smaller than at least one of the tolerances.\n",
            "        \n",
            "        -inf, inf and NaN behave similarly to the IEEE 754 Standard.  That\n",
            "        is, NaN is not close to anything, even itself.  inf and -inf are\n",
            "        only close to themselves.\n",
            "    \n",
            "    isfinite(x, /)\n",
            "        Return True if x is neither an infinity nor a NaN, and False otherwise.\n",
            "    \n",
            "    isinf(x, /)\n",
            "        Return True if x is a positive or negative infinity, and False otherwise.\n",
            "    \n",
            "    isnan(x, /)\n",
            "        Return True if x is a NaN (not a number), and False otherwise.\n",
            "    \n",
            "    isqrt(n, /)\n",
            "        Return the integer part of the square root of the input.\n",
            "    \n",
            "    lcm(*integers)\n",
            "        Least Common Multiple.\n",
            "    \n",
            "    ldexp(x, i, /)\n",
            "        Return x * (2**i).\n",
            "        \n",
            "        This is essentially the inverse of frexp().\n",
            "    \n",
            "    lgamma(x, /)\n",
            "        Natural logarithm of absolute value of Gamma function at x.\n",
            "    \n",
            "    log(...)\n",
            "        log(x, [base=math.e])\n",
            "        Return the logarithm of x to the given base.\n",
            "        \n",
            "        If the base not specified, returns the natural logarithm (base e) of x.\n",
            "    \n",
            "    log10(x, /)\n",
            "        Return the base 10 logarithm of x.\n",
            "    \n",
            "    log1p(x, /)\n",
            "        Return the natural logarithm of 1+x (base e).\n",
            "        \n",
            "        The result is computed in a way which is accurate for x near zero.\n",
            "    \n",
            "    log2(x, /)\n",
            "        Return the base 2 logarithm of x.\n",
            "    \n",
            "    modf(x, /)\n",
            "        Return the fractional and integer parts of x.\n",
            "        \n",
            "        Both results carry the sign of x and are floats.\n",
            "    \n",
            "    nextafter(x, y, /)\n",
            "        Return the next floating-point value after x towards y.\n",
            "    \n",
            "    perm(n, k=None, /)\n",
            "        Number of ways to choose k items from n items without repetition and with order.\n",
            "        \n",
            "        Evaluates to n! / (n - k)! when k <= n and evaluates\n",
            "        to zero when k > n.\n",
            "        \n",
            "        If k is not specified or is None, then k defaults to n\n",
            "        and the function returns n!.\n",
            "        \n",
            "        Raises TypeError if either of the arguments are not integers.\n",
            "        Raises ValueError if either of the arguments are negative.\n",
            "    \n",
            "    pow(x, y, /)\n",
            "        Return x**y (x to the power of y).\n",
            "    \n",
            "    prod(iterable, /, *, start=1)\n",
            "        Calculate the product of all the elements in the input iterable.\n",
            "        \n",
            "        The default start value for the product is 1.\n",
            "        \n",
            "        When the iterable is empty, return the start value.  This function is\n",
            "        intended specifically for use with numeric values and may reject\n",
            "        non-numeric types.\n",
            "    \n",
            "    radians(x, /)\n",
            "        Convert angle x from degrees to radians.\n",
            "    \n",
            "    remainder(x, y, /)\n",
            "        Difference between x and the closest integer multiple of y.\n",
            "        \n",
            "        Return x - n*y where n*y is the closest integer multiple of y.\n",
            "        In the case where x is exactly halfway between two multiples of\n",
            "        y, the nearest even value of n is used. The result is always exact.\n",
            "    \n",
            "    sin(x, /)\n",
            "        Return the sine of x (measured in radians).\n",
            "    \n",
            "    sinh(x, /)\n",
            "        Return the hyperbolic sine of x.\n",
            "    \n",
            "    sqrt(x, /)\n",
            "        Return the square root of x.\n",
            "    \n",
            "    tan(x, /)\n",
            "        Return the tangent of x (measured in radians).\n",
            "    \n",
            "    tanh(x, /)\n",
            "        Return the hyperbolic tangent of x.\n",
            "    \n",
            "    trunc(x, /)\n",
            "        Truncates the Real x to the nearest Integral toward 0.\n",
            "        \n",
            "        Uses the __trunc__ magic method.\n",
            "    \n",
            "    ulp(x, /)\n",
            "        Return the value of the least significant bit of the float x.\n",
            "\n",
            "DATA\n",
            "    e = 2.718281828459045\n",
            "    inf = inf\n",
            "    nan = nan\n",
            "    pi = 3.141592653589793\n",
            "    tau = 6.283185307179586\n",
            "\n",
            "FILE\n",
            "    (built-in)\n",
            "\n",
            "\n"
          ]
        }
      ]
    },
    {
      "cell_type": "code",
      "source": [
        "math.sqrt(25)"
      ],
      "metadata": {
        "colab": {
          "base_uri": "https://localhost:8080/"
        },
        "id": "OSTXGldlyXdx",
        "outputId": "5168dd99-f788-4214-cd31-ab8c0c33b276"
      },
      "execution_count": 47,
      "outputs": [
        {
          "output_type": "execute_result",
          "data": {
            "text/plain": [
              "5.0"
            ]
          },
          "metadata": {},
          "execution_count": 47
        }
      ]
    },
    {
      "cell_type": "code",
      "source": [
        "math.factorial(5)"
      ],
      "metadata": {
        "colab": {
          "base_uri": "https://localhost:8080/"
        },
        "id": "qlQkntGaylZT",
        "outputId": "1ad84bff-4533-4007-ba85-878d84739bcc"
      },
      "execution_count": 48,
      "outputs": [
        {
          "output_type": "execute_result",
          "data": {
            "text/plain": [
              "120"
            ]
          },
          "metadata": {},
          "execution_count": 48
        }
      ]
    },
    {
      "cell_type": "code",
      "source": [
        "random.randint(1, 100)"
      ],
      "metadata": {
        "colab": {
          "base_uri": "https://localhost:8080/"
        },
        "id": "wDa08wrGynYt",
        "outputId": "8369b861-23dc-4251-8a4a-b87eb3f0021a"
      },
      "execution_count": 53,
      "outputs": [
        {
          "output_type": "execute_result",
          "data": {
            "text/plain": [
              "83"
            ]
          },
          "metadata": {},
          "execution_count": 53
        }
      ]
    },
    {
      "cell_type": "code",
      "source": [
        "2/0"
      ],
      "metadata": {
        "colab": {
          "base_uri": "https://localhost:8080/",
          "height": 144
        },
        "id": "pta8ifDszwa5",
        "outputId": "c6161002-2d94-4518-e4ff-a042a137b618"
      },
      "execution_count": 54,
      "outputs": [
        {
          "output_type": "error",
          "ename": "ZeroDivisionError",
          "evalue": "division by zero",
          "traceback": [
            "\u001b[0;31m---------------------------------------------------------------------------\u001b[0m",
            "\u001b[0;31mZeroDivisionError\u001b[0m                         Traceback (most recent call last)",
            "\u001b[0;32m/tmp/ipython-input-54-3627099327.py\u001b[0m in \u001b[0;36m<cell line: 0>\u001b[0;34m()\u001b[0m\n\u001b[0;32m----> 1\u001b[0;31m \u001b[0;36m2\u001b[0m\u001b[0;34m/\u001b[0m\u001b[0;36m0\u001b[0m\u001b[0;34m\u001b[0m\u001b[0;34m\u001b[0m\u001b[0m\n\u001b[0m",
            "\u001b[0;31mZeroDivisionError\u001b[0m: division by zero"
          ]
        }
      ]
    },
    {
      "cell_type": "code",
      "source": [],
      "metadata": {
        "id": "c2sTtXC37aEz"
      },
      "execution_count": null,
      "outputs": []
    },
    {
      "cell_type": "markdown",
      "source": [
        "## Quick Lab: Loops/Strings\n",
        "* have the user enter a string, then loop through the string to generate (or print) a new string in which every character is duplicated, e.g., \"Python\" => \"PPyytthhoonn\""
      ],
      "metadata": {
        "id": "kJILbGMg9Vgd"
      }
    },
    {
      "cell_type": "code",
      "source": [
        "text = input('Enter some text: ')\n",
        "for char in text: # for each character\n",
        "    print(char * 2, end='')"
      ],
      "metadata": {
        "colab": {
          "base_uri": "https://localhost:8080/"
        },
        "id": "WX4VtAsl_8xs",
        "outputId": "86bd4748-1194-4e8c-cc33-900f919de55f"
      },
      "execution_count": 55,
      "outputs": [
        {
          "output_type": "stream",
          "name": "stdout",
          "text": [
            "Enter some text: Python\n",
            "PPyytthhoonn"
          ]
        }
      ]
    },
    {
      "cell_type": "code",
      "source": [
        "text = input('Enter some text: ')\n",
        "for char in text: # for each character\n",
        "    print(char + char, end='')"
      ],
      "metadata": {
        "colab": {
          "base_uri": "https://localhost:8080/"
        },
        "id": "4WGrGTKQAoEW",
        "outputId": "b40d8a24-2eef-430a-ef16-a698e4b0579e"
      },
      "execution_count": 56,
      "outputs": [
        {
          "output_type": "stream",
          "name": "stdout",
          "text": [
            "Enter some text: Python\n",
            "PPyytthhoonn"
          ]
        }
      ]
    },
    {
      "cell_type": "code",
      "source": [
        "# Dom's solution\n",
        "user_input = input(\"Please enter a string: \") # get data\n",
        "dupe_string = \"\" # start w/an empty string\n",
        "\n",
        "for char in user_input:\n",
        "    dupe_string += char * 2\n",
        "print(\"The string is:\", dupe_string)"
      ],
      "metadata": {
        "colab": {
          "base_uri": "https://localhost:8080/"
        },
        "id": "5bcJ_qv-FOwh",
        "outputId": "5013ff21-4693-49f1-893b-bba97a423e19"
      },
      "execution_count": 92,
      "outputs": [
        {
          "output_type": "stream",
          "name": "stdout",
          "text": [
            "Please enter a string: 123\n",
            "The string is: 112233\n"
          ]
        }
      ]
    },
    {
      "cell_type": "code",
      "source": [
        "# Bhuvan's solution\n",
        "\n",
        "stuff = input('Enter something: ')\n",
        "\n",
        "for char in stuff:\n",
        "    print(char * 2, end='')"
      ],
      "metadata": {
        "colab": {
          "base_uri": "https://localhost:8080/"
        },
        "id": "W4nLb5_UFSW-",
        "outputId": "4b1ecc2c-a4a6-47ea-a226-1067ca06c449"
      },
      "execution_count": 93,
      "outputs": [
        {
          "output_type": "stream",
          "name": "stdout",
          "text": [
            "Enter something: 344\n",
            "334444"
          ]
        }
      ]
    },
    {
      "cell_type": "markdown",
      "source": [
        "## Quick Lab: Loops/Numbers\n",
        "* write Python code to generate a 6-digit access/security code, like you get when your try to log in to a website and it sends a code to your phone...e.g., 031728"
      ],
      "metadata": {
        "id": "HMVXCPoT_9nR"
      }
    },
    {
      "cell_type": "code",
      "source": [
        "# let's generate 6 digits, rather than trying to generate a 6-digit number\n",
        "import random # need random module to generate random digits\n",
        "random.randint(0, 9) # looks good"
      ],
      "metadata": {
        "colab": {
          "base_uri": "https://localhost:8080/"
        },
        "id": "HcKkgnm7__Yj",
        "outputId": "20abaccc-4631-440b-c44c-7239f4402170"
      },
      "execution_count": 21,
      "outputs": [
        {
          "output_type": "execute_result",
          "data": {
            "text/plain": [
              "0"
            ]
          },
          "metadata": {},
          "execution_count": 21
        }
      ]
    },
    {
      "cell_type": "code",
      "source": [
        "for count in range(1, 7): # 1..6\n",
        "    print(random.randint(0, 9), end='')"
      ],
      "metadata": {
        "colab": {
          "base_uri": "https://localhost:8080/"
        },
        "id": "b5s0M4MzBA6f",
        "outputId": "2df10f93-2bef-41e5-c846-dcde58b1a720"
      },
      "execution_count": 23,
      "outputs": [
        {
          "output_type": "stream",
          "name": "stdout",
          "text": [
            "077474"
          ]
        }
      ]
    },
    {
      "cell_type": "code",
      "source": [
        "# or we can generate a string of digits...\n",
        "code = ''\n",
        "for count in range(1, 7): # 1..6\n",
        "    code += str(random.randint(0, 9))\n",
        "\n",
        "print(code)"
      ],
      "metadata": {
        "colab": {
          "base_uri": "https://localhost:8080/"
        },
        "id": "FohkeVzrBLhj",
        "outputId": "a520631e-dcd9-4ddf-eadb-d469a04fef6d"
      },
      "execution_count": 25,
      "outputs": [
        {
          "output_type": "stream",
          "name": "stdout",
          "text": [
            "442853\n"
          ]
        }
      ]
    },
    {
      "cell_type": "code",
      "source": [
        "for count in range(0, 6): # 0..5 (6 times)\n",
        "    print(random.randint(0, 9), end='')"
      ],
      "metadata": {
        "colab": {
          "base_uri": "https://localhost:8080/"
        },
        "id": "BqatyOpYGltt",
        "outputId": "3a129dfd-eaf2-4cb1-d753-31debc2c5d61"
      },
      "execution_count": 26,
      "outputs": [
        {
          "output_type": "stream",
          "name": "stdout",
          "text": [
            "376687"
          ]
        }
      ]
    },
    {
      "cell_type": "code",
      "source": [
        "for count in range(6): # 0..5 (6 times)\n",
        "    print(random.randint(0, 9), end='')"
      ],
      "metadata": {
        "colab": {
          "base_uri": "https://localhost:8080/"
        },
        "id": "2oZZ8-rvHZlE",
        "outputId": "75c2f091-7283-49c4-fc26-74a201676ac1"
      },
      "execution_count": 29,
      "outputs": [
        {
          "output_type": "stream",
          "name": "stdout",
          "text": [
            "739813"
          ]
        }
      ]
    },
    {
      "cell_type": "code",
      "source": [
        "for _ in range(6): # \"do this 6 times\"\n",
        "    print(random.randint(0, 9), end='')"
      ],
      "metadata": {
        "colab": {
          "base_uri": "https://localhost:8080/"
        },
        "id": "WslDq_pBHiyo",
        "outputId": "aa81a2b9-7e98-4014-e06d-d88e0e40d6f1"
      },
      "execution_count": 28,
      "outputs": [
        {
          "output_type": "stream",
          "name": "stdout",
          "text": [
            "945182"
          ]
        }
      ]
    },
    {
      "cell_type": "code",
      "source": [
        "import random"
      ],
      "metadata": {
        "id": "ds5uWJJHKyAY"
      },
      "execution_count": 30,
      "outputs": []
    },
    {
      "cell_type": "code",
      "source": [
        "dir(random)"
      ],
      "metadata": {
        "colab": {
          "base_uri": "https://localhost:8080/"
        },
        "id": "vsFWBRkqKyqJ",
        "outputId": "d76f6e3f-0aee-459a-f557-90699fa4f55b"
      },
      "execution_count": 31,
      "outputs": [
        {
          "output_type": "execute_result",
          "data": {
            "text/plain": [
              "['BPF',\n",
              " 'LOG4',\n",
              " 'NV_MAGICCONST',\n",
              " 'RECIP_BPF',\n",
              " 'Random',\n",
              " 'SG_MAGICCONST',\n",
              " 'SystemRandom',\n",
              " 'TWOPI',\n",
              " '_ONE',\n",
              " '_Sequence',\n",
              " '_Set',\n",
              " '__all__',\n",
              " '__builtins__',\n",
              " '__cached__',\n",
              " '__doc__',\n",
              " '__file__',\n",
              " '__loader__',\n",
              " '__name__',\n",
              " '__package__',\n",
              " '__spec__',\n",
              " '_accumulate',\n",
              " '_acos',\n",
              " '_bisect',\n",
              " '_ceil',\n",
              " '_cos',\n",
              " '_e',\n",
              " '_exp',\n",
              " '_floor',\n",
              " '_index',\n",
              " '_inst',\n",
              " '_isfinite',\n",
              " '_log',\n",
              " '_os',\n",
              " '_pi',\n",
              " '_random',\n",
              " '_repeat',\n",
              " '_sha512',\n",
              " '_sin',\n",
              " '_sqrt',\n",
              " '_test',\n",
              " '_test_generator',\n",
              " '_urandom',\n",
              " '_warn',\n",
              " 'betavariate',\n",
              " 'choice',\n",
              " 'choices',\n",
              " 'expovariate',\n",
              " 'gammavariate',\n",
              " 'gauss',\n",
              " 'getrandbits',\n",
              " 'getstate',\n",
              " 'lognormvariate',\n",
              " 'normalvariate',\n",
              " 'paretovariate',\n",
              " 'randbytes',\n",
              " 'randint',\n",
              " 'random',\n",
              " 'randrange',\n",
              " 'sample',\n",
              " 'seed',\n",
              " 'setstate',\n",
              " 'shuffle',\n",
              " 'triangular',\n",
              " 'uniform',\n",
              " 'vonmisesvariate',\n",
              " 'weibullvariate']"
            ]
          },
          "metadata": {},
          "execution_count": 31
        }
      ]
    },
    {
      "cell_type": "code",
      "source": [
        "help(random.randint)"
      ],
      "metadata": {
        "colab": {
          "base_uri": "https://localhost:8080/"
        },
        "id": "qugreyUcK0QU",
        "outputId": "99078727-d20d-415d-fc7d-144afbde38e0"
      },
      "execution_count": 32,
      "outputs": [
        {
          "output_type": "stream",
          "name": "stdout",
          "text": [
            "Help on method randint in module random:\n",
            "\n",
            "randint(a, b) method of random.Random instance\n",
            "    Return random integer in range [a, b], including both end points.\n",
            "\n"
          ]
        }
      ]
    },
    {
      "cell_type": "code",
      "source": [
        "help(random.randrange)"
      ],
      "metadata": {
        "colab": {
          "base_uri": "https://localhost:8080/"
        },
        "id": "XRR3b4wwK4Wi",
        "outputId": "ca09309c-fe1d-4af2-9091-7d2474770afc"
      },
      "execution_count": 33,
      "outputs": [
        {
          "output_type": "stream",
          "name": "stdout",
          "text": [
            "Help on method randrange in module random:\n",
            "\n",
            "randrange(start, stop=None, step=1) method of random.Random instance\n",
            "    Choose a random item from range(stop) or range(start, stop[, step]).\n",
            "    \n",
            "    Roughly equivalent to ``choice(range(start, stop, step))`` but\n",
            "    supports arbitrarily large ranges and is optimized for common cases.\n",
            "\n"
          ]
        }
      ]
    },
    {
      "cell_type": "code",
      "source": [
        "for _ in range(100):\n",
        "    print(random.randint(1, 2))"
      ],
      "metadata": {
        "colab": {
          "base_uri": "https://localhost:8080/"
        },
        "id": "s2cRf5nPK9jr",
        "outputId": "4defabc1-58c3-42ff-f7e1-23b20febd32a"
      },
      "execution_count": 41,
      "outputs": [
        {
          "output_type": "stream",
          "name": "stdout",
          "text": [
            "1\n",
            "1\n",
            "1\n",
            "1\n",
            "2\n",
            "2\n",
            "1\n",
            "2\n",
            "1\n",
            "2\n",
            "1\n",
            "2\n",
            "2\n",
            "2\n",
            "1\n",
            "2\n",
            "1\n",
            "1\n",
            "2\n",
            "2\n",
            "2\n",
            "2\n",
            "1\n",
            "2\n",
            "1\n",
            "2\n",
            "1\n",
            "2\n",
            "2\n",
            "2\n",
            "2\n",
            "1\n",
            "1\n",
            "1\n",
            "1\n",
            "2\n",
            "1\n",
            "2\n",
            "1\n",
            "2\n",
            "2\n",
            "2\n",
            "2\n",
            "1\n",
            "1\n",
            "1\n",
            "2\n",
            "1\n",
            "1\n",
            "2\n",
            "2\n",
            "2\n",
            "1\n",
            "2\n",
            "2\n",
            "1\n",
            "2\n",
            "2\n",
            "1\n",
            "1\n",
            "2\n",
            "1\n",
            "2\n",
            "2\n",
            "1\n",
            "1\n",
            "2\n",
            "1\n",
            "2\n",
            "1\n",
            "2\n",
            "2\n",
            "1\n",
            "1\n",
            "1\n",
            "2\n",
            "1\n",
            "2\n",
            "1\n",
            "2\n",
            "2\n",
            "1\n",
            "2\n",
            "2\n",
            "1\n",
            "1\n",
            "2\n",
            "2\n",
            "2\n",
            "1\n",
            "2\n",
            "2\n",
            "2\n",
            "1\n",
            "1\n",
            "1\n",
            "2\n",
            "2\n",
            "2\n",
            "2\n"
          ]
        }
      ]
    },
    {
      "cell_type": "code",
      "source": [
        "word = 'abcdefg'\n",
        "      # 0123456\n",
        "      # 7654321"
      ],
      "metadata": {
        "id": "cJvJaugJQjx2"
      },
      "execution_count": null,
      "outputs": []
    },
    {
      "cell_type": "code",
      "source": [
        "word[5:-6:-1] # \"start at \""
      ],
      "metadata": {
        "colab": {
          "base_uri": "https://localhost:8080/",
          "height": 35
        },
        "id": "8C9ipzdPLE17",
        "outputId": "085ae189-8161-4b78-df9e-e8c511f71f00"
      },
      "execution_count": 53,
      "outputs": [
        {
          "output_type": "execute_result",
          "data": {
            "text/plain": [
              "'fedc'"
            ],
            "application/vnd.google.colaboratory.intrinsic+json": {
              "type": "string"
            }
          },
          "metadata": {},
          "execution_count": 53
        }
      ]
    },
    {
      "cell_type": "code",
      "source": [
        "'abcdefg'[5:60]"
      ],
      "metadata": {
        "colab": {
          "base_uri": "https://localhost:8080/",
          "height": 35
        },
        "id": "EzwduUU_Pq5Z",
        "outputId": "55fb7d74-b2af-4cb1-d5c5-df7e64ad6b8c"
      },
      "execution_count": 52,
      "outputs": [
        {
          "output_type": "execute_result",
          "data": {
            "text/plain": [
              "'fg'"
            ],
            "application/vnd.google.colaboratory.intrinsic+json": {
              "type": "string"
            }
          },
          "metadata": {},
          "execution_count": 52
        }
      ]
    },
    {
      "cell_type": "code",
      "source": [
        "range(6)"
      ],
      "metadata": {
        "colab": {
          "base_uri": "https://localhost:8080/"
        },
        "id": "BW9dYCIdQT9L",
        "outputId": "86b0e386-3751-421a-c8a3-cde260b5ffb3"
      },
      "execution_count": 57,
      "outputs": [
        {
          "output_type": "execute_result",
          "data": {
            "text/plain": [
              "range(0, 6)"
            ]
          },
          "metadata": {},
          "execution_count": 57
        }
      ]
    },
    {
      "cell_type": "code",
      "source": [
        "for num in range(6):\n",
        "    print(num, end=' ')"
      ],
      "metadata": {
        "colab": {
          "base_uri": "https://localhost:8080/"
        },
        "id": "nN8z2bnUSaqp",
        "outputId": "1c8e776f-0fa6-4e7b-c0cb-c8692da35c43"
      },
      "execution_count": 61,
      "outputs": [
        {
          "output_type": "stream",
          "name": "stdout",
          "text": [
            "0 1 2 3 4 5 "
          ]
        }
      ]
    },
    {
      "cell_type": "code",
      "source": [
        "'01234567890'[:6]"
      ],
      "metadata": {
        "colab": {
          "base_uri": "https://localhost:8080/",
          "height": 35
        },
        "id": "uYybRZGrSK-Z",
        "outputId": "278c4928-679e-4258-8275-0e7548e4fa39"
      },
      "execution_count": 66,
      "outputs": [
        {
          "output_type": "execute_result",
          "data": {
            "text/plain": [
              "'012345'"
            ],
            "application/vnd.google.colaboratory.intrinsic+json": {
              "type": "string"
            }
          },
          "metadata": {},
          "execution_count": 66
        }
      ]
    },
    {
      "cell_type": "code",
      "source": [
        "alphabet = 'abcdefghijklmnopqrstuvwxyz'"
      ],
      "metadata": {
        "id": "gPnotHAWSZqR"
      },
      "execution_count": 76,
      "outputs": []
    },
    {
      "cell_type": "code",
      "source": [
        "for char in alphabet[10:]:\n",
        "    print(char)"
      ],
      "metadata": {
        "colab": {
          "base_uri": "https://localhost:8080/"
        },
        "id": "fGOiv6I-S6xm",
        "outputId": "84984d3c-3e9e-4b8e-b71f-8c594b96f55c"
      },
      "execution_count": 77,
      "outputs": [
        {
          "output_type": "stream",
          "name": "stdout",
          "text": [
            "k\n",
            "l\n",
            "m\n",
            "n\n",
            "o\n",
            "p\n",
            "q\n",
            "r\n",
            "s\n",
            "t\n",
            "u\n",
            "v\n",
            "w\n",
            "x\n",
            "y\n",
            "z\n"
          ]
        }
      ]
    },
    {
      "cell_type": "code",
      "source": [
        "print(alphabet[:10], alphabet[10:], sep='\\n')"
      ],
      "metadata": {
        "colab": {
          "base_uri": "https://localhost:8080/"
        },
        "id": "Hg9bOqzHTS5q",
        "outputId": "b56ef9ff-69a2-4d7a-8160-0051b3ad4863"
      },
      "execution_count": 78,
      "outputs": [
        {
          "output_type": "stream",
          "name": "stdout",
          "text": [
            "abcdefghij\n",
            "klmnopqrstuvwxyz\n"
          ]
        }
      ]
    },
    {
      "cell_type": "code",
      "source": [
        "a = 2\n",
        "b = 4\n",
        "print(f'{a} + {b} = {a + b}')\n",
        "print(a, '+', b, '=', a + b)"
      ],
      "metadata": {
        "colab": {
          "base_uri": "https://localhost:8080/"
        },
        "id": "drOpg9JnXe7x",
        "outputId": "0e277276-9cf8-40d2-ac4c-c6e3c2398706"
      },
      "execution_count": 87,
      "outputs": [
        {
          "output_type": "stream",
          "name": "stdout",
          "text": [
            "2 + 4 = 6\n",
            "2 + 4 = 6\n"
          ]
        }
      ]
    },
    {
      "cell_type": "code",
      "source": [
        "for index in range(26):\n",
        "    # f'...' is a Python f-string (f = format)\n",
        "    print(f'alphabet[-{26 - index}], alphabet[{index}] =', alphabet[-(26 - index)], alphabet[index])"
      ],
      "metadata": {
        "colab": {
          "base_uri": "https://localhost:8080/"
        },
        "id": "HKelCLlqTEDk",
        "outputId": "ad8653d0-295c-4660-a7b5-23e24c90c3ce"
      },
      "execution_count": 84,
      "outputs": [
        {
          "output_type": "stream",
          "name": "stdout",
          "text": [
            "alphabet[-26], alphabet[0] = a a\n",
            "alphabet[-25], alphabet[1] = b b\n",
            "alphabet[-24], alphabet[2] = c c\n",
            "alphabet[-23], alphabet[3] = d d\n",
            "alphabet[-22], alphabet[4] = e e\n",
            "alphabet[-21], alphabet[5] = f f\n",
            "alphabet[-20], alphabet[6] = g g\n",
            "alphabet[-19], alphabet[7] = h h\n",
            "alphabet[-18], alphabet[8] = i i\n",
            "alphabet[-17], alphabet[9] = j j\n",
            "alphabet[-16], alphabet[10] = k k\n",
            "alphabet[-15], alphabet[11] = l l\n",
            "alphabet[-14], alphabet[12] = m m\n",
            "alphabet[-13], alphabet[13] = n n\n",
            "alphabet[-12], alphabet[14] = o o\n",
            "alphabet[-11], alphabet[15] = p p\n",
            "alphabet[-10], alphabet[16] = q q\n",
            "alphabet[-9], alphabet[17] = r r\n",
            "alphabet[-8], alphabet[18] = s s\n",
            "alphabet[-7], alphabet[19] = t t\n",
            "alphabet[-6], alphabet[20] = u u\n",
            "alphabet[-5], alphabet[21] = v v\n",
            "alphabet[-4], alphabet[22] = w w\n",
            "alphabet[-3], alphabet[23] = x x\n",
            "alphabet[-2], alphabet[24] = y y\n",
            "alphabet[-1], alphabet[25] = z z\n"
          ]
        }
      ]
    },
    {
      "cell_type": "code",
      "source": [
        "str(1)"
      ],
      "metadata": {
        "colab": {
          "base_uri": "https://localhost:8080/",
          "height": 35
        },
        "id": "CiIB5K7BWVxC",
        "outputId": "eb036311-0273-424e-f088-c156dd800e81"
      },
      "execution_count": 88,
      "outputs": [
        {
          "output_type": "execute_result",
          "data": {
            "text/plain": [
              "'1'"
            ],
            "application/vnd.google.colaboratory.intrinsic+json": {
              "type": "string"
            }
          },
          "metadata": {},
          "execution_count": 88
        }
      ]
    },
    {
      "cell_type": "code",
      "source": [
        "str(1.1)"
      ],
      "metadata": {
        "colab": {
          "base_uri": "https://localhost:8080/",
          "height": 35
        },
        "id": "8IMlPOHxZAnu",
        "outputId": "78dec940-01df-4eb4-c2e5-eb8bd08138d5"
      },
      "execution_count": 89,
      "outputs": [
        {
          "output_type": "execute_result",
          "data": {
            "text/plain": [
              "'1.1'"
            ],
            "application/vnd.google.colaboratory.intrinsic+json": {
              "type": "string"
            }
          },
          "metadata": {},
          "execution_count": 89
        }
      ]
    },
    {
      "cell_type": "code",
      "source": [
        "str('1')"
      ],
      "metadata": {
        "colab": {
          "base_uri": "https://localhost:8080/",
          "height": 35
        },
        "id": "OvN0tpmzZCP4",
        "outputId": "9bcf4150-2afe-4cbf-90a0-0c4e6697cd2b"
      },
      "execution_count": 90,
      "outputs": [
        {
          "output_type": "execute_result",
          "data": {
            "text/plain": [
              "'1'"
            ],
            "application/vnd.google.colaboratory.intrinsic+json": {
              "type": "string"
            }
          },
          "metadata": {},
          "execution_count": 90
        }
      ]
    },
    {
      "cell_type": "code",
      "source": [
        "print(1, 1.1, '1')"
      ],
      "metadata": {
        "colab": {
          "base_uri": "https://localhost:8080/"
        },
        "id": "gvjfbSx_ZD4z",
        "outputId": "b45bbf0b-0b2e-4709-bd6b-8e3c2e851034"
      },
      "execution_count": 91,
      "outputs": [
        {
          "output_type": "stream",
          "name": "stdout",
          "text": [
            "1 1.1 1\n"
          ]
        }
      ]
    },
    {
      "cell_type": "code",
      "source": [
        "min(4.1, 1.2, 3.1, 2.3, -1.0)"
      ],
      "metadata": {
        "colab": {
          "base_uri": "https://localhost:8080/"
        },
        "id": "VwGMp4KwZOPT",
        "outputId": "35b3d5f8-d3ce-4e31-b2d2-5edf102054c7"
      },
      "execution_count": 94,
      "outputs": [
        {
          "output_type": "execute_result",
          "data": {
            "text/plain": [
              "-1.0"
            ]
          },
          "metadata": {},
          "execution_count": 94
        }
      ]
    },
    {
      "cell_type": "code",
      "source": [
        "min('fig', 'pear', 'apple')"
      ],
      "metadata": {
        "colab": {
          "base_uri": "https://localhost:8080/",
          "height": 35
        },
        "id": "2qHsHtyxZczg",
        "outputId": "94abdc50-de6d-4247-9e60-5fac20aacc71"
      },
      "execution_count": 95,
      "outputs": [
        {
          "output_type": "execute_result",
          "data": {
            "text/plain": [
              "'apple'"
            ],
            "application/vnd.google.colaboratory.intrinsic+json": {
              "type": "string"
            }
          },
          "metadata": {},
          "execution_count": 95
        }
      ]
    },
    {
      "cell_type": "code",
      "source": [
        "pow(2.0, 4.3)"
      ],
      "metadata": {
        "colab": {
          "base_uri": "https://localhost:8080/"
        },
        "id": "HfOAUWrXZ13S",
        "outputId": "c6db286f-aca8-4a4f-f0ed-631ea1043fcf"
      },
      "execution_count": 99,
      "outputs": [
        {
          "output_type": "execute_result",
          "data": {
            "text/plain": [
              "19.698310613518657"
            ]
          },
          "metadata": {},
          "execution_count": 99
        }
      ]
    },
    {
      "cell_type": "code",
      "source": [
        "my_string = 'test'"
      ],
      "metadata": {
        "id": "FY8UcdXfZ9jI"
      },
      "execution_count": 100,
      "outputs": []
    },
    {
      "cell_type": "code",
      "source": [
        "my_string."
      ],
      "metadata": {
        "colab": {
          "base_uri": "https://localhost:8080/"
        },
        "id": "1pQ40Oxhcthn",
        "outputId": "cb4e6712-5be7-4911-a154-7c876442ef1e"
      },
      "execution_count": 102,
      "outputs": [
        {
          "output_type": "execute_result",
          "data": {
            "text/plain": [
              "False"
            ]
          },
          "metadata": {},
          "execution_count": 102
        }
      ]
    },
    {
      "cell_type": "code",
      "source": [
        "x = 1"
      ],
      "metadata": {
        "id": "FcEoCtoEdBH2"
      },
      "execution_count": 103,
      "outputs": []
    },
    {
      "cell_type": "code",
      "source": [
        "x = 5"
      ],
      "metadata": {
        "id": "h8DG245NekJ5"
      },
      "execution_count": 104,
      "outputs": []
    },
    {
      "cell_type": "code",
      "source": [
        "name = 'dave'"
      ],
      "metadata": {
        "id": "hJwFvdGrekmy"
      },
      "execution_count": 106,
      "outputs": []
    },
    {
      "cell_type": "code",
      "source": [
        "name = 'Dave'"
      ],
      "metadata": {
        "id": "9_VvBcezhYwL"
      },
      "execution_count": 2,
      "outputs": []
    },
    {
      "cell_type": "markdown",
      "source": [
        "## Quick Lab: String Functions\n",
        "* write a Python program to read in a sentence and tell the user how many vowels are in that sentence\n",
        "* so if the user entered \"Apples are my favorite fruit\", your program would respond with 10 (or 11 if you count 'y' as a vowel)\n",
        "* output the original string with any vowels \"highlighted\" by making them upper case, e.g., **ApplEs ArE my fAvOrItE frUIt**"
      ],
      "metadata": {
        "id": "JhGoTJz0DQC_"
      }
    },
    {
      "cell_type": "code",
      "source": [
        "# 0. ask the other person to provide a sentence\n",
        "# 1. look at each letter of the sentence\n",
        "# 2.     if it's a vowel:\n",
        "# 3.          write it on the other whiteboard as a capital letter\n",
        "# 3a.         add 1 to your count / \"count it\"\n",
        "# 4.     else:\n",
        "# 5.          write it on the other whiteboard as a lowercase letter\n",
        "# 6.  write down or tell what the count is"
      ],
      "metadata": {
        "id": "iM1AAftFDQUe"
      },
      "execution_count": null,
      "outputs": []
    },
    {
      "cell_type": "code",
      "source": [
        "vowel_count = 0 # 3a\n",
        "#sentence = \"Apples are my favorite fruit\".lower()\n",
        "sentence = input('Enter some text: ').lower() # 0\n",
        "\n",
        "for character in sentence: # 1 \"for EACH character in sentence\"\n",
        "    if character.lower() in 'aeiou': # 2\n",
        "        print(character.upper(), end='') # 3\n",
        "        vowel_count += 1 # 3a (vowel_count = vowel_count + 1)\n",
        "    else: # 4\n",
        "        print(character.lower(), end='') # 5\n",
        "\n",
        "print('\\n\\nNumber of vowels:', vowel_count) # 6\n"
      ],
      "metadata": {
        "colab": {
          "base_uri": "https://localhost:8080/"
        },
        "id": "BWIzdyqcElPO",
        "outputId": "eb01200a-1171-4675-bd21-956f18297240"
      },
      "execution_count": 17,
      "outputs": [
        {
          "output_type": "stream",
          "name": "stdout",
          "text": [
            "Enter some text: Ok, now does this work? aeiou.\n",
            "Ok, nOw dOEs thIs wOrk? AEIOU.\n",
            "\n",
            "Number of vowels: 11\n"
          ]
        }
      ]
    },
    {
      "cell_type": "code",
      "source": [
        "character = 'y'\n",
        "character.lower() in 'aeiouy'"
      ],
      "metadata": {
        "colab": {
          "base_uri": "https://localhost:8080/"
        },
        "id": "UaFQqOvIGzcG",
        "outputId": "fbe18f01-cbc8-4998-ddff-9a9decc3900c"
      },
      "execution_count": 13,
      "outputs": [
        {
          "output_type": "execute_result",
          "data": {
            "text/plain": [
              "True"
            ]
          },
          "metadata": {},
          "execution_count": 13
        }
      ]
    },
    {
      "cell_type": "code",
      "source": [
        "# 0. ask the other person to provide a sentence\n",
        "# 1. look at each letter of the sentence\n",
        "# 2.     if it's a vowel:\n",
        "# 3.          write it on the other whiteboard as a capital letter\n",
        "# 3a.         add 1 to your count / \"count it\"\n",
        "# 4.     else:\n",
        "# 5.          write it on the other whiteboard as a lowercase letter\n",
        "# 6.  write down or tell what the count is"
      ],
      "metadata": {
        "id": "rPRo2plDHl16"
      },
      "execution_count": null,
      "outputs": []
    },
    {
      "cell_type": "code",
      "source": [
        "# prompt: # 0. ask the other person to provide a sentence\n",
        "# # 1. look at each letter of the sentence\n",
        "# # 2.     if it's a vowel:\n",
        "# # 3.          write it on the other whiteboard as a capital letter\n",
        "# # 3a.         add 1 to your count / \"count it\"\n",
        "# # 4.     else:\n",
        "# # 5.          write it on the other whiteboard as a lowercase letter\n",
        "# # 6.  write down or tell what the count is\n",
        "\n",
        "vowel_count = 0\n",
        "sentence = input('Enter some text: ')\n",
        "output_sentence = \"\"\n",
        "\n",
        "for character in sentence:\n",
        "    if character.lower() in 'aeiou':\n",
        "        output_sentence += character.upper()\n",
        "        vowel_count += 1\n",
        "    else:\n",
        "        output_sentence += character.lower()\n",
        "\n",
        "print(output_sentence)\n",
        "print('Number of vowels:', vowel_count)\n"
      ],
      "metadata": {
        "id": "0EO309GlK1kK"
      },
      "execution_count": 18,
      "outputs": []
    },
    {
      "cell_type": "markdown",
      "source": [
        "## Lab: String Functions\n",
        "* write a Python program to read in a string/sentence and then read in a number __`n`__ (give it a better name, but we'll use __`n`__ for this explanation)\n",
        "* your program will print out the sentence such that the first __`n`__ characters (including any spaces) are upper case, then the next __`n`__ characters (including any spaces) are lower case, and so on\n",
        "  * so if the user entered __`Now is the time`__ followed by __`4`__, your program would output __`NOW is tHE Time`__\n",
        "  * notice that spaces are characters, so in the above example, __`Now `__ are the first 4 characters and they are printed as upper case (the space will of course not be printed any differently, it will just be a space)"
      ],
      "metadata": {
        "id": "UCYZPxl7OfM1"
      }
    },
    {
      "cell_type": "code",
      "source": [
        "# 0. given some text, an integer n/count\n",
        "# 1. look at/consider each group of n characters on the whiteboard (spaces count\n",
        "#   as a character) starting from the beginning\n",
        "# 2. write those same characters on the other whiteboard\n",
        "#.    - the first group should be written as upper case, the next as lower, and keep alternating\n",
        "# NOTE:\n",
        "#.  spaces count as characters, so if you have the word 'the' followed by a space that's\n",
        "# the final group may not be 4 characters, just use however many are left"
      ],
      "metadata": {
        "id": "YzBj5sucOflq"
      },
      "execution_count": null,
      "outputs": []
    },
    {
      "cell_type": "code",
      "source": [
        "text = 'Now is the time' # 0, eventually we will input()\n",
        "group_size = 4 # 0, how many characters to consider at a time\n",
        "\n",
        "# first let's be sure we can partition the string into groups of 4 (or group_size)\n",
        "# this would be the \"consider\"/\"look at\" step\n",
        "\n",
        "# we could take len() and divide by 4, but it might be better to use slicing\n",
        "# what is the slice that describes first 4...[:4] (or [0:4])\n",
        "\n",
        "text[0:4]"
      ],
      "metadata": {
        "colab": {
          "base_uri": "https://localhost:8080/",
          "height": 35
        },
        "id": "0AvkgjfURGO_",
        "outputId": "f9d2de69-d53f-47b0-b902-052f29c9b126"
      },
      "execution_count": 20,
      "outputs": [
        {
          "output_type": "execute_result",
          "data": {
            "text/plain": [
              "'Now '"
            ],
            "application/vnd.google.colaboratory.intrinsic+json": {
              "type": "string"
            }
          },
          "metadata": {},
          "execution_count": 20
        }
      ]
    },
    {
      "cell_type": "code",
      "source": [
        "text[4:8]"
      ],
      "metadata": {
        "colab": {
          "base_uri": "https://localhost:8080/",
          "height": 35
        },
        "id": "A7r_IzpDRum3",
        "outputId": "563a89ca-4147-4b0b-f381-ef0cdc4d2740"
      },
      "execution_count": 21,
      "outputs": [
        {
          "output_type": "execute_result",
          "data": {
            "text/plain": [
              "'is t'"
            ],
            "application/vnd.google.colaboratory.intrinsic+json": {
              "type": "string"
            }
          },
          "metadata": {},
          "execution_count": 21
        }
      ]
    },
    {
      "cell_type": "code",
      "source": [
        "# we can see that if we count by 4's (or whatever the group size is), we can\n",
        "# determine the bounds of the slice...0:4, 4:8, 8:12, 12:16, etc.\n",
        "for lower_bound in range(0, len(text), group_size): # AI did this\n",
        "    print(f'{text[lower_bound:lower_bound + group_size]} {lower_bound}:{lower_bound + group_size} ')"
      ],
      "metadata": {
        "colab": {
          "base_uri": "https://localhost:8080/"
        },
        "id": "LsIuG7NYRxml",
        "outputId": "259442bc-cfa0-4f72-a55b-d7a47ed330f0"
      },
      "execution_count": 26,
      "outputs": [
        {
          "output_type": "stream",
          "name": "stdout",
          "text": [
            "Now  0:4 \n",
            "is t 4:8 \n",
            "he t 8:12 \n",
            "ime 12:16 \n"
          ]
        }
      ]
    },
    {
      "cell_type": "code",
      "source": [
        "# or, we can iterate 1 character a time, but notice which \"group\" we are in...\n",
        "for index in range(len(text)): # go thru all characters\n",
        "    group_number = index // 4 # divide by 4 to get group number\n",
        "    print(f'{text[index]} {group_number}')"
      ],
      "metadata": {
        "colab": {
          "base_uri": "https://localhost:8080/"
        },
        "id": "HZoWZYnjSLNx",
        "outputId": "afcad839-fcce-4a09-8c83-22973a63815a"
      },
      "execution_count": 28,
      "outputs": [
        {
          "output_type": "stream",
          "name": "stdout",
          "text": [
            "N 0\n",
            "o 0\n",
            "w 0\n",
            "  0\n",
            "i 1\n",
            "s 1\n",
            "  1\n",
            "t 1\n",
            "h 2\n",
            "e 2\n",
            "  2\n",
            "t 2\n",
            "i 3\n",
            "m 3\n",
            "e 3\n"
          ]
        }
      ]
    },
    {
      "cell_type": "code",
      "source": [
        "# if we are in an \"even\" group (0, 2, 4, ...) then UPPER case\n",
        "for index in range(len(text)): # go thru all characters\n",
        "    group_number = index // 4 # divide by 4 to get group number\n",
        "    if group_number % 2 == 0: # AI did this\n",
        "        print(text[index].upper(), end='')\n",
        "    else:\n",
        "        print(text[index].lower(), end='')"
      ],
      "metadata": {
        "colab": {
          "base_uri": "https://localhost:8080/"
        },
        "id": "XELkY8Q2SzEF",
        "outputId": "c5a6db95-6903-458a-9721-463cbaa25b6c"
      },
      "execution_count": 29,
      "outputs": [
        {
          "output_type": "stream",
          "name": "stdout",
          "text": [
            "NOW is tHE Time"
          ]
        }
      ]
    },
    {
      "cell_type": "code",
      "source": [
        "s = 'Now is the time'"
      ],
      "metadata": {
        "id": "VPlhdDMnWPvD"
      },
      "execution_count": 31,
      "outputs": []
    },
    {
      "cell_type": "code",
      "source": [
        "s[:4] # give me the first 4"
      ],
      "metadata": {
        "colab": {
          "base_uri": "https://localhost:8080/",
          "height": 35
        },
        "id": "kBXQM9TAXYC4",
        "outputId": "776c19d0-b38a-4ff2-80e5-e94345904a66"
      },
      "execution_count": 32,
      "outputs": [
        {
          "output_type": "execute_result",
          "data": {
            "text/plain": [
              "'Now '"
            ],
            "application/vnd.google.colaboratory.intrinsic+json": {
              "type": "string"
            }
          },
          "metadata": {},
          "execution_count": 32
        }
      ]
    },
    {
      "cell_type": "code",
      "source": [
        "s[0:4] # 0..3 (4 characters)"
      ],
      "metadata": {
        "colab": {
          "base_uri": "https://localhost:8080/",
          "height": 35
        },
        "id": "UwTujm-5Xa0d",
        "outputId": "5cafb27e-ce3b-44bb-d55e-f88efd679f49"
      },
      "execution_count": 33,
      "outputs": [
        {
          "output_type": "execute_result",
          "data": {
            "text/plain": [
              "'Now '"
            ],
            "application/vnd.google.colaboratory.intrinsic+json": {
              "type": "string"
            }
          },
          "metadata": {},
          "execution_count": 33
        }
      ]
    },
    {
      "cell_type": "code",
      "source": [
        "s[4:8] # 4, 5, 6, 7"
      ],
      "metadata": {
        "colab": {
          "base_uri": "https://localhost:8080/",
          "height": 35
        },
        "id": "4YWIrqKiXiba",
        "outputId": "41a6eed2-b1da-4f45-a84b-613a592353b8"
      },
      "execution_count": 34,
      "outputs": [
        {
          "output_type": "execute_result",
          "data": {
            "text/plain": [
              "'is t'"
            ],
            "application/vnd.google.colaboratory.intrinsic+json": {
              "type": "string"
            }
          },
          "metadata": {},
          "execution_count": 34
        }
      ]
    },
    {
      "cell_type": "code",
      "source": [
        "s[8:12]"
      ],
      "metadata": {
        "colab": {
          "base_uri": "https://localhost:8080/",
          "height": 35
        },
        "id": "lCfGUkF5XqeY",
        "outputId": "122b1439-ef99-4461-91b2-88bdd41d47ce"
      },
      "execution_count": 35,
      "outputs": [
        {
          "output_type": "execute_result",
          "data": {
            "text/plain": [
              "'he t'"
            ],
            "application/vnd.google.colaboratory.intrinsic+json": {
              "type": "string"
            }
          },
          "metadata": {},
          "execution_count": 35
        }
      ]
    },
    {
      "cell_type": "code",
      "source": [
        "s[12:16]"
      ],
      "metadata": {
        "colab": {
          "base_uri": "https://localhost:8080/",
          "height": 35
        },
        "id": "1qIIFLEOX7BW",
        "outputId": "3c3ed1ae-ca27-494f-ae4d-9f4221f99c3b"
      },
      "execution_count": 37,
      "outputs": [
        {
          "output_type": "execute_result",
          "data": {
            "text/plain": [
              "'ime'"
            ],
            "application/vnd.google.colaboratory.intrinsic+json": {
              "type": "string"
            }
          },
          "metadata": {},
          "execution_count": 37
        }
      ]
    },
    {
      "cell_type": "code",
      "source": [
        "chunk_number = 1\n",
        "\n",
        "for index in range(0, len(s), 4):\n",
        "    print(index, ':', index + 4, end=' ')\n",
        "    if chunk_number % 2 == 1:\n",
        "        print(s[index:index + 4].upper())\n",
        "    else:\n",
        "        print(s[index:index + 4].lower())\n",
        "    chunk_number += 1"
      ],
      "metadata": {
        "colab": {
          "base_uri": "https://localhost:8080/"
        },
        "id": "b0eO7KnMX8jU",
        "outputId": "b3480f33-be9f-473b-cf91-3d917ab9105f"
      },
      "execution_count": 44,
      "outputs": [
        {
          "output_type": "stream",
          "name": "stdout",
          "text": [
            "0 : 4 NOW \n",
            "4 : 8 is t\n",
            "8 : 12 HE T\n",
            "12 : 16 ime\n"
          ]
        }
      ]
    },
    {
      "cell_type": "code",
      "source": [
        "for character in s:\n",
        "    print(character)"
      ],
      "metadata": {
        "colab": {
          "base_uri": "https://localhost:8080/"
        },
        "id": "JHzbVbDGZgm3",
        "outputId": "1d20612b-b6c0-4353-e744-50b3ed2a56b8"
      },
      "execution_count": 45,
      "outputs": [
        {
          "output_type": "stream",
          "name": "stdout",
          "text": [
            "N\n",
            "o\n",
            "w\n",
            " \n",
            "i\n",
            "s\n",
            " \n",
            "t\n",
            "h\n",
            "e\n",
            " \n",
            "t\n",
            "i\n",
            "m\n",
            "e\n"
          ]
        }
      ]
    },
    {
      "cell_type": "code",
      "source": [
        "for index in range(0, len(s)): # 0..len(s)-1\n",
        "    # 0, 1, 2, 3, 4, 5, 6, 7, ...\n",
        "    # divide by 4\n",
        "    # 0, 0, 0, 0, 1, 1, 1, 1,\n",
        "    # print(index, index // 4, end=' ')\n",
        "    if (index // 4) % 2 == 0:\n",
        "        print(s[index].upper(), end='')\n",
        "    else:\n",
        "        print(s[index].lower(), end='')"
      ],
      "metadata": {
        "colab": {
          "base_uri": "https://localhost:8080/"
        },
        "id": "iFp2utDibpBt",
        "outputId": "13ee02b8-2b72-4d2d-cbd3-4a75b01a1397"
      },
      "execution_count": 57,
      "outputs": [
        {
          "output_type": "stream",
          "name": "stdout",
          "text": [
            "NOW is tHE Time"
          ]
        }
      ]
    },
    {
      "cell_type": "code",
      "source": [
        "8 // 4"
      ],
      "metadata": {
        "colab": {
          "base_uri": "https://localhost:8080/"
        },
        "id": "DywjEWOacYtv",
        "outputId": "1c53f6e5-7af7-4d72-e55e-de9280778e98"
      },
      "execution_count": 52,
      "outputs": [
        {
          "output_type": "execute_result",
          "data": {
            "text/plain": [
              "2"
            ]
          },
          "metadata": {},
          "execution_count": 52
        }
      ]
    },
    {
      "cell_type": "code",
      "source": [],
      "metadata": {
        "colab": {
          "base_uri": "https://localhost:8080/",
          "height": 35
        },
        "id": "5chbyP-9cbM2",
        "outputId": "a9b6b6f5-e5fb-42ad-b75e-b2eb6d0388b8"
      },
      "execution_count": 58,
      "outputs": [
        {
          "output_type": "execute_result",
          "data": {
            "text/plain": [
              "'Now is the time'"
            ],
            "application/vnd.google.colaboratory.intrinsic+json": {
              "type": "string"
            }
          },
          "metadata": {},
          "execution_count": 58
        }
      ]
    },
    {
      "cell_type": "code",
      "source": [
        "for thing in 'hello':\n",
        "    print(thing)"
      ],
      "metadata": {
        "colab": {
          "base_uri": "https://localhost:8080/"
        },
        "id": "Onaoyw7lew4H",
        "outputId": "dd76384a-88af-419f-d469-3fa0b02a30b6"
      },
      "execution_count": 59,
      "outputs": [
        {
          "output_type": "stream",
          "name": "stdout",
          "text": [
            "h\n",
            "e\n",
            "l\n",
            "l\n",
            "o\n"
          ]
        }
      ]
    },
    {
      "cell_type": "code",
      "source": [
        "'a b c'.split()"
      ],
      "metadata": {
        "colab": {
          "base_uri": "https://localhost:8080/"
        },
        "id": "n_D89ob-zOSu",
        "outputId": "2502fab5-ddfe-47fd-c342-5590dc398bb7"
      },
      "execution_count": 60,
      "outputs": [
        {
          "output_type": "execute_result",
          "data": {
            "text/plain": [
              "['a', 'b', 'c']"
            ]
          },
          "metadata": {},
          "execution_count": 60
        }
      ]
    },
    {
      "cell_type": "code",
      "source": [
        "'abc'.split()"
      ],
      "metadata": {
        "colab": {
          "base_uri": "https://localhost:8080/"
        },
        "id": "lZ4QaORVzQKg",
        "outputId": "5d48129d-9cf8-4460-8ecc-02ed392ed9eb"
      },
      "execution_count": 61,
      "outputs": [
        {
          "output_type": "execute_result",
          "data": {
            "text/plain": [
              "['abc']"
            ]
          },
          "metadata": {},
          "execution_count": 61
        }
      ]
    },
    {
      "cell_type": "code",
      "source": [
        "list('abc')"
      ],
      "metadata": {
        "colab": {
          "base_uri": "https://localhost:8080/"
        },
        "id": "VG2JrShBzane",
        "outputId": "1be5b55d-33ac-4812-a1fa-40df63c84ba4"
      },
      "execution_count": 62,
      "outputs": [
        {
          "output_type": "execute_result",
          "data": {
            "text/plain": [
              "['a', 'b', 'c']"
            ]
          },
          "metadata": {},
          "execution_count": 62
        }
      ]
    },
    {
      "cell_type": "code",
      "source": [
        "weird_list = ['Dave', 1, 1.23, [1, 2, 3], True]"
      ],
      "metadata": {
        "id": "t6EN1kVCzbf6"
      },
      "execution_count": 67,
      "outputs": []
    },
    {
      "cell_type": "code",
      "source": [
        "for item in weird_list:\n",
        "    if type(item) == str:\n",
        "        print('Hi', item)\n",
        "    elif type(item) == int:\n",
        "        print(5 * item)\n",
        "    elif type(item) == float:\n",
        "        print(13 / item)\n",
        "    elif type(item) == list:\n",
        "        for subitem in item:\n",
        "            print(subitem, end='...')\n",
        "    else:\n",
        "        print('\\nunknown type:', type(item))"
      ],
      "metadata": {
        "colab": {
          "base_uri": "https://localhost:8080/"
        },
        "id": "lghPpyVt1DiA",
        "outputId": "909aeb59-bbd0-479f-ebce-0329805d7bb8"
      },
      "execution_count": 68,
      "outputs": [
        {
          "output_type": "stream",
          "name": "stdout",
          "text": [
            "Hi Dave\n",
            "5\n",
            "10.56910569105691\n",
            "1...2...3...unknown type: <class 'bool'>\n"
          ]
        }
      ]
    },
    {
      "cell_type": "code",
      "source": [
        "company = 'intuit'"
      ],
      "metadata": {
        "id": "9kyCoVIX1m44"
      },
      "execution_count": 69,
      "outputs": []
    },
    {
      "cell_type": "code",
      "source": [
        "letters = list(company)"
      ],
      "metadata": {
        "id": "5Y8B5zExBg8F"
      },
      "execution_count": 70,
      "outputs": []
    },
    {
      "cell_type": "code",
      "source": [
        "letters"
      ],
      "metadata": {
        "colab": {
          "base_uri": "https://localhost:8080/"
        },
        "id": "M3PfPNe-BpG2",
        "outputId": "03acf405-686f-46c4-ca58-be028409b6e8"
      },
      "execution_count": 71,
      "outputs": [
        {
          "output_type": "execute_result",
          "data": {
            "text/plain": [
              "['i', 'n', 't', 'u', 'i', 't']"
            ]
          },
          "metadata": {},
          "execution_count": 71
        }
      ]
    },
    {
      "cell_type": "code",
      "source": [
        "import random\n",
        "random.shuffle(letters)\n",
        "letters"
      ],
      "metadata": {
        "colab": {
          "base_uri": "https://localhost:8080/"
        },
        "id": "ZrIU2_nyBsUl",
        "outputId": "734a3012-baef-41d6-92a6-c658d3c9396e"
      },
      "execution_count": 72,
      "outputs": [
        {
          "output_type": "execute_result",
          "data": {
            "text/plain": [
              "['u', 'n', 'i', 't', 't', 'i']"
            ]
          },
          "metadata": {},
          "execution_count": 72
        }
      ]
    },
    {
      "cell_type": "code",
      "source": [
        "''.join(letters)"
      ],
      "metadata": {
        "colab": {
          "base_uri": "https://localhost:8080/",
          "height": 35
        },
        "id": "MfR1S6_cB2VV",
        "outputId": "934b9712-a893-4773-d076-639779c5b8d7"
      },
      "execution_count": 73,
      "outputs": [
        {
          "output_type": "execute_result",
          "data": {
            "text/plain": [
              "'unitti'"
            ],
            "application/vnd.google.colaboratory.intrinsic+json": {
              "type": "string"
            }
          },
          "metadata": {},
          "execution_count": 73
        }
      ]
    },
    {
      "cell_type": "code",
      "source": [
        "list.sort?"
      ],
      "metadata": {
        "id": "9UDtlEQFB7px"
      },
      "execution_count": 76,
      "outputs": []
    },
    {
      "cell_type": "code",
      "source": [
        "input('Enter a list of items: ').split()"
      ],
      "metadata": {
        "colab": {
          "base_uri": "https://localhost:8080/"
        },
        "id": "6-e37EawNiqY",
        "outputId": "d18e6902-a61a-4d7c-850f-806f3b123f78"
      },
      "execution_count": 78,
      "outputs": [
        {
          "name": "stdout",
          "output_type": "stream",
          "text": [
            "Enter a list of items: apple fig pear\n"
          ]
        },
        {
          "output_type": "execute_result",
          "data": {
            "text/plain": [
              "['apple', 'fig', 'pear']"
            ]
          },
          "metadata": {},
          "execution_count": 78
        }
      ]
    },
    {
      "cell_type": "markdown",
      "source": [
        "## Quick Lab: Lists\n",
        "* Write a program that asks the user to input two lists and then finds and prints the common elements between them\n",
        "<pre>\n",
        "Enter a list of items: <b>apple cherry banana lemon</b>\n",
        "Enter a second list of items: <b>apple guava banana lime</b>\n",
        "Common elements: apple banana"
      ],
      "metadata": {
        "id": "0lR3WTXOPGw8"
      }
    },
    {
      "cell_type": "code",
      "source": [
        "first_list = input('Enter a list of items: ').split() # make into a list\n",
        "second_list = input('Enter a second list of items: ').split() # make into a list\n",
        "common = []\n",
        "\n",
        "for item in second_list: # for each item in the (second) list\n",
        "    if item in first_list: # is that item also in the other list?\n",
        "        common.append(item)\n",
        "\n",
        "print(common)"
      ],
      "metadata": {
        "colab": {
          "base_uri": "https://localhost:8080/"
        },
        "id": "TQm0_fO3Nle5",
        "outputId": "4d731310-9b2e-4134-c94e-93cad884f442"
      },
      "execution_count": 81,
      "outputs": [
        {
          "output_type": "stream",
          "name": "stdout",
          "text": [
            "Enter a list of items: apple cherry banana lemon\n",
            "Enter a second list of items: fig\n",
            "[]\n"
          ]
        }
      ]
    },
    {
      "cell_type": "code",
      "source": [],
      "metadata": {
        "id": "7Qc-lpuuPbwA"
      },
      "execution_count": null,
      "outputs": []
    },
    {
      "cell_type": "markdown",
      "source": [
        "## Group Lab: Lists\n",
        "* Write a Python program to maintain a list\n",
        "  * Read input until the user enters 'quit'\n",
        "  * Words that the user enters should be added to the list\n",
        "  * If a word begins with '-' (e.g., '-foo') it should be removed from the list\n",
        "  * If the user enters only a '-', the list should be reversed\n",
        "  * After each operation, print the list\n",
        "  * Extras:\n",
        "      * If user enters more than one word (e.g, __foo bar__), add \"foo\" and \"bar\" to the list, rather than \"foo bar\"\n",
        "      * Same for \"-\", i.e., __-foo bar__ would remove \"foo\" and \"bar\" from the  list"
      ],
      "metadata": {
        "id": "pIkGYgtnT3F7"
      }
    },
    {
      "cell_type": "code",
      "source": [
        "user_response = input('Enter: ') # apple\n",
        "\n",
        "while user_response != 'quit': # not quit\n",
        "    print('process', user_response) # process apple\n",
        "    user_response = input('Enter: ')"
      ],
      "metadata": {
        "colab": {
          "base_uri": "https://localhost:8080/"
        },
        "id": "O1SfsJoVT5hT",
        "outputId": "131f4e91-3448-4933-9848-8c22bad19e9a"
      },
      "execution_count": 84,
      "outputs": [
        {
          "name": "stdout",
          "output_type": "stream",
          "text": [
            "Enter: apple\n",
            "process apple\n",
            "Enter: quit\n"
          ]
        }
      ]
    },
    {
      "cell_type": "code",
      "source": [
        "responses = []\n",
        "\n",
        "while (user_response := input('Enter: ')) != 'quit':\n",
        "    if user_response[0] == '-':\n",
        "        responses.remove(user_response[1:]) # remove everything but the -\n",
        "    else:\n",
        "        responses.append(user_response)\n",
        "    print(responses)"
      ],
      "metadata": {
        "colab": {
          "base_uri": "https://localhost:8080/",
          "height": 412
        },
        "id": "91k5R5B4VggO",
        "outputId": "d53b40f1-3f24-4012-e1df-0b14d4e749a3"
      },
      "execution_count": 90,
      "outputs": [
        {
          "name": "stdout",
          "output_type": "stream",
          "text": [
            "Enter: apple\n",
            "['apple']\n",
            "Enter: -apple\n",
            "[]\n",
            "Enter: fig\n",
            "['fig']\n",
            "Enter: pear\n",
            "['fig', 'pear']\n",
            "Enter: -pear\n",
            "['fig']\n",
            "Enter: -apple\n"
          ]
        },
        {
          "output_type": "error",
          "ename": "ValueError",
          "evalue": "list.remove(x): x not in list",
          "traceback": [
            "\u001b[0;31m---------------------------------------------------------------------------\u001b[0m",
            "\u001b[0;31mValueError\u001b[0m                                Traceback (most recent call last)",
            "\u001b[0;32m/tmp/ipython-input-90-3355135471.py\u001b[0m in \u001b[0;36m<cell line: 0>\u001b[0;34m()\u001b[0m\n\u001b[1;32m      3\u001b[0m \u001b[0;32mwhile\u001b[0m \u001b[0;34m(\u001b[0m\u001b[0muser_response\u001b[0m \u001b[0;34m:=\u001b[0m \u001b[0minput\u001b[0m\u001b[0;34m(\u001b[0m\u001b[0;34m'Enter: '\u001b[0m\u001b[0;34m)\u001b[0m\u001b[0;34m)\u001b[0m \u001b[0;34m!=\u001b[0m \u001b[0;34m'quit'\u001b[0m\u001b[0;34m:\u001b[0m\u001b[0;34m\u001b[0m\u001b[0;34m\u001b[0m\u001b[0m\n\u001b[1;32m      4\u001b[0m     \u001b[0;32mif\u001b[0m \u001b[0muser_response\u001b[0m\u001b[0;34m[\u001b[0m\u001b[0;36m0\u001b[0m\u001b[0;34m]\u001b[0m \u001b[0;34m==\u001b[0m \u001b[0;34m'-'\u001b[0m\u001b[0;34m:\u001b[0m\u001b[0;34m\u001b[0m\u001b[0;34m\u001b[0m\u001b[0m\n\u001b[0;32m----> 5\u001b[0;31m         \u001b[0mresponses\u001b[0m\u001b[0;34m.\u001b[0m\u001b[0mremove\u001b[0m\u001b[0;34m(\u001b[0m\u001b[0muser_response\u001b[0m\u001b[0;34m[\u001b[0m\u001b[0;36m1\u001b[0m\u001b[0;34m:\u001b[0m\u001b[0;34m]\u001b[0m\u001b[0;34m)\u001b[0m \u001b[0;31m# remove everything but the -\u001b[0m\u001b[0;34m\u001b[0m\u001b[0;34m\u001b[0m\u001b[0m\n\u001b[0m\u001b[1;32m      6\u001b[0m     \u001b[0;32melse\u001b[0m\u001b[0;34m:\u001b[0m\u001b[0;34m\u001b[0m\u001b[0;34m\u001b[0m\u001b[0m\n\u001b[1;32m      7\u001b[0m         \u001b[0mresponses\u001b[0m\u001b[0;34m.\u001b[0m\u001b[0mappend\u001b[0m\u001b[0;34m(\u001b[0m\u001b[0muser_response\u001b[0m\u001b[0;34m)\u001b[0m\u001b[0;34m\u001b[0m\u001b[0;34m\u001b[0m\u001b[0m\n",
            "\u001b[0;31mValueError\u001b[0m: list.remove(x): x not in list"
          ]
        }
      ]
    },
    {
      "cell_type": "code",
      "source": [
        "'-apple'[1:]"
      ],
      "metadata": {
        "colab": {
          "base_uri": "https://localhost:8080/",
          "height": 35
        },
        "id": "T3-es5C7Yz7D",
        "outputId": "cda35499-a5bc-4c63-adb9-efd671a2a679"
      },
      "execution_count": 89,
      "outputs": [
        {
          "output_type": "execute_result",
          "data": {
            "text/plain": [
              "'apple'"
            ],
            "application/vnd.google.colaboratory.intrinsic+json": {
              "type": "string"
            }
          },
          "metadata": {},
          "execution_count": 89
        }
      ]
    },
    {
      "cell_type": "code",
      "source": [
        "responses = []\n",
        "\n",
        "while (user_response := input('Enter: ')) != 'quit':\n",
        "    if user_response[0] == '-':\n",
        "        # -apple vs. -\n",
        "        if user_response == '-':\n",
        "            reversed_version = responses[::-1]\n",
        "            if reversed_version == responses:\n",
        "                print(\"Reversing this list will produce the same list\")\n",
        "            else:\n",
        "                responses.reverse()\n",
        "        else:\n",
        "            responses.remove(user_response[1:]) # remove everything but the -\n",
        "    else:\n",
        "        responses.append(user_response)\n",
        "    print(responses)"
      ],
      "metadata": {
        "colab": {
          "base_uri": "https://localhost:8080/"
        },
        "id": "G7i-Dp8EZT1h",
        "outputId": "33f81764-a07e-48f1-e375-a366c45a2621"
      },
      "execution_count": 96,
      "outputs": [
        {
          "name": "stdout",
          "output_type": "stream",
          "text": [
            "Enter: -\n",
            "Reversing this list will produce the same list\n",
            "[]\n",
            "Enter: apple\n",
            "['apple']\n",
            "Enter: -\n",
            "Reversing this list will produce the same list\n",
            "['apple']\n",
            "Enter: fig\n",
            "['apple', 'fig']\n",
            "Enter: -\n",
            "['fig', 'apple']\n",
            "Enter: -apple\n",
            "['fig']\n",
            "Enter: fig\n",
            "['fig', 'fig']\n",
            "Enter: -\n",
            "Reversing this list will produce the same list\n",
            "['fig', 'fig']\n",
            "Enter: quit\n"
          ]
        }
      ]
    },
    {
      "cell_type": "code",
      "source": [
        "employee = 'Jones', 'Jane', 1023, 'jane@intuit.com'"
      ],
      "metadata": {
        "id": "KDTR4fqBajmz"
      },
      "execution_count": 97,
      "outputs": []
    },
    {
      "cell_type": "code",
      "source": [
        "employee"
      ],
      "metadata": {
        "colab": {
          "base_uri": "https://localhost:8080/"
        },
        "id": "WJ9Zo9zhqNv3",
        "outputId": "9aa40623-9976-4ade-8585-edfdef3178b8"
      },
      "execution_count": 98,
      "outputs": [
        {
          "output_type": "execute_result",
          "data": {
            "text/plain": [
              "('Jones', 'Jane', 1023, 'jane@intuit.com')"
            ]
          },
          "metadata": {},
          "execution_count": 98
        }
      ]
    },
    {
      "cell_type": "code",
      "source": [
        "_, _, employee_id, email = employee"
      ],
      "metadata": {
        "id": "N73P9GJIqORA"
      },
      "execution_count": 99,
      "outputs": []
    },
    {
      "cell_type": "code",
      "source": [
        "employee_id"
      ],
      "metadata": {
        "colab": {
          "base_uri": "https://localhost:8080/"
        },
        "id": "paN1Ce7fqVZC",
        "outputId": "1afce93c-ef62-4e74-cdf7-7da3f75739ef"
      },
      "execution_count": 101,
      "outputs": [
        {
          "output_type": "execute_result",
          "data": {
            "text/plain": [
              "1023"
            ]
          },
          "metadata": {},
          "execution_count": 101
        }
      ]
    },
    {
      "cell_type": "code",
      "source": [
        "email"
      ],
      "metadata": {
        "colab": {
          "base_uri": "https://localhost:8080/",
          "height": 35
        },
        "id": "hpbkWq1nqarL",
        "outputId": "cfc89e51-5491-4508-b46e-f42eee5f1b4b"
      },
      "execution_count": 102,
      "outputs": [
        {
          "output_type": "execute_result",
          "data": {
            "text/plain": [
              "'jane@intuit.com'"
            ],
            "application/vnd.google.colaboratory.intrinsic+json": {
              "type": "string"
            }
          },
          "metadata": {},
          "execution_count": 102
        }
      ]
    },
    {
      "cell_type": "code",
      "source": [
        "for _ in range(10):\n",
        "    print('yep')"
      ],
      "metadata": {
        "colab": {
          "base_uri": "https://localhost:8080/"
        },
        "id": "ulgTN-XdqgsU",
        "outputId": "f111eef9-b08d-43fc-c570-ff825240e847"
      },
      "execution_count": 104,
      "outputs": [
        {
          "output_type": "stream",
          "name": "stdout",
          "text": [
            "yep\n",
            "yep\n",
            "yep\n",
            "yep\n",
            "yep\n",
            "yep\n",
            "yep\n",
            "yep\n",
            "yep\n",
            "yep\n"
          ]
        }
      ]
    },
    {
      "cell_type": "code",
      "source": [],
      "metadata": {
        "id": "A-FR43rMqj0C"
      },
      "execution_count": null,
      "outputs": []
    }
  ]
}