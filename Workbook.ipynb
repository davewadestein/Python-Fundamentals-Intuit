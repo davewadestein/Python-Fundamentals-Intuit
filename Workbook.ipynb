{
  "nbformat": 4,
  "nbformat_minor": 0,
  "metadata": {
    "colab": {
      "provenance": []
    },
    "kernelspec": {
      "name": "python3",
      "display_name": "Python 3"
    },
    "language_info": {
      "name": "python"
    }
  },
  "cells": [
    {
      "cell_type": "markdown",
      "source": [
        "# Scripting vs. Programming\n",
        "* scripting is\n",
        "  * simpler\n",
        "  * smaller tasks\n",
        "  * automation\n",
        "  * shorter (or longer)\n",
        "  * possibly one-off\n",
        "  * not well documented\n",
        "* programming\n",
        "  * more complex\n",
        "  * larger tasks\n",
        "  * longer (or shorter)"
      ],
      "metadata": {
        "id": "Q5dOef86ARxh"
      }
    },
    {
      "cell_type": "markdown",
      "source": [
        "# Important Things About Python\n",
        "* built-in functions DO NOT change the data/arguments that are passed into them\n",
        "  * in addition, the built-in functions are \"general\", in that they often can take lots of different datatypes (e.g., __`print()`__, __`str()`__)\n",
        "  * if you want to change an object in Python, you must call/invoke/apply a method on/to that object\n",
        "    * NOT ALL methods make changes to an object\n",
        "* scalars vs. containers\n",
        "  * scalar = one single value\n",
        "    * int, float, bool\n",
        "  * container = object that holds 0+ other values\n",
        "    * str, list, tuple, dict\n",
        "* mutable vs. immutable types\n",
        "  * immutable = str, tuple\n",
        "  * mutable = list, dict\n",
        "* Python functions are often \"duck typed\" (\"if it walks like a duck, and quacks like a duck, I'll call it a duck\")\n",
        "  * Python function often do not expect to be passed a certain datatype, but rather the function expects the object(s) passed to it to have some attribute/feature/functionality\n",
        "* \"truthiness\"\n",
        "    * in a Boolean context (a context where the expected values are only True or False)...\n",
        "      * all non-zero values are considered True, whereas 0 and 0.0 are considered False\n",
        "      * empty containers are considered False,\n",
        "      non-empty contains are considered True\n",
        "      * None is considered False in a Boolean context"
      ],
      "metadata": {
        "id": "rjXyxjtPH6jD"
      }
    },
    {
      "cell_type": "markdown",
      "source": [
        "# Important things to keep in mind about programming\n",
        "* \"Efficiency doesn't matter until it matters, and it rarely matters.\" –DWS\n",
        "* \"We should forget about small efficiencies, say about 97% of the time: premature optimization is the root of all evil. Yet we should not pass up our opportunities in that critical 3%.\""
      ],
      "metadata": {
        "id": "4paDIaewAaP6"
      }
    },
    {
      "cell_type": "markdown",
      "source": [
        "# Pythonic\n",
        "* Dom's explanation: Using the conventions of the language, and therefore readers of the code will see what they expect\n",
        "* \"My name is Rick and I'm a Java programmer. I've been dabbling in Python, but my Python looks like Java.\"\n",
        "* examples\n",
        "  * prefer __`container[-1]`__, which always means the last item in a container\n",
        "  * __`container[-n]`__ always means the item which is __`n`__ items from the end of the container\n",
        "  * __`container[:n]`__ means the first __`n`__ items in the container\n",
        "  * __`container[::-1]`__ means a reversed version of the container\n",
        "  * __`container[-n:]`__ means the last __`n`__ items in the container\n",
        "  * __`for _ in range(n)`__ means \"repeat the following code n times\"\n",
        "  * __`somelist = 'word1 word2 word3'.split()`__\n",
        "\n",
        "  * don't use indexing to access lists (or other containers) unless you need it\n",
        "  * because strings are immutable and therefore \"brittle\", one strategy is to turn them into lists, and then do whatever processing you want, and then put them back into being strings\n",
        "  * if a datatype is difficult to work with, consider converting your data into a different datatype, which is more flexible\n",
        "\n"
      ],
      "metadata": {
        "id": "jC3DXGW7_UQF"
      }
    },
    {
      "cell_type": "markdown",
      "source": [
        "## DWS's two sure-fire ways to get better at coding\n",
        "1. once you have a working solution, try to write the code another way\n",
        "2. add features to existing code (anticipating what the customer may need down the line)"
      ],
      "metadata": {
        "id": "oBT6ZHu5c7sP"
      }
    },
    {
      "cell_type": "code",
      "source": [],
      "metadata": {
        "id": "y0BBe98pc7PH"
      },
      "execution_count": null,
      "outputs": []
    },
    {
      "cell_type": "code",
      "source": [],
      "metadata": {
        "id": "3dOQ6Zp4vdhU"
      },
      "execution_count": null,
      "outputs": []
    },
    {
      "cell_type": "code",
      "source": [],
      "metadata": {
        "id": "ch4UDpeAvdeZ"
      },
      "execution_count": null,
      "outputs": []
    },
    {
      "cell_type": "code",
      "source": [
        "'nohtyP'[::-1]"
      ],
      "metadata": {
        "colab": {
          "base_uri": "https://localhost:8080/",
          "height": 35
        },
        "id": "xvOPbS8sn39E",
        "outputId": "d24bef9c-a947-4101-f706-75710b53ba47"
      },
      "execution_count": null,
      "outputs": [
        {
          "output_type": "execute_result",
          "data": {
            "text/plain": [
              "'Python'"
            ],
            "application/vnd.google.colaboratory.intrinsic+json": {
              "type": "string"
            }
          },
          "metadata": {},
          "execution_count": 42
        }
      ]
    },
    {
      "cell_type": "code",
      "source": [
        "name = 'Dave'"
      ],
      "metadata": {
        "id": "_KFSpVBP_fqa"
      },
      "execution_count": null,
      "outputs": []
    },
    {
      "cell_type": "code",
      "source": [
        "name"
      ],
      "metadata": {
        "colab": {
          "base_uri": "https://localhost:8080/",
          "height": 35
        },
        "id": "8uoB1FJoFDoA",
        "outputId": "a0c8c4c4-8a40-4708-ccab-9b68a0e9a407"
      },
      "execution_count": null,
      "outputs": [
        {
          "output_type": "execute_result",
          "data": {
            "text/plain": [
              "'Dave'"
            ],
            "application/vnd.google.colaboratory.intrinsic+json": {
              "type": "string"
            }
          },
          "metadata": {},
          "execution_count": 2
        }
      ]
    },
    {
      "cell_type": "code",
      "source": [
        "name = 5"
      ],
      "metadata": {
        "id": "D1wHk7AzFFRo"
      },
      "execution_count": null,
      "outputs": []
    },
    {
      "cell_type": "code",
      "source": [
        "name"
      ],
      "metadata": {
        "colab": {
          "base_uri": "https://localhost:8080/"
        },
        "id": "JDmYFi8MFGRg",
        "outputId": "3567007a-a2fc-4262-e873-625aac2da5e3"
      },
      "execution_count": null,
      "outputs": [
        {
          "output_type": "execute_result",
          "data": {
            "text/plain": [
              "5"
            ]
          },
          "metadata": {},
          "execution_count": 4
        }
      ]
    },
    {
      "cell_type": "code",
      "source": [
        "year = 1999\n",
        "str(year)"
      ],
      "metadata": {
        "colab": {
          "base_uri": "https://localhost:8080/",
          "height": 35
        },
        "id": "TRACpBinFG6U",
        "outputId": "c186c794-59c2-4faa-dc76-5a647359c50e"
      },
      "execution_count": null,
      "outputs": [
        {
          "output_type": "execute_result",
          "data": {
            "text/plain": [
              "'1999'"
            ],
            "application/vnd.google.colaboratory.intrinsic+json": {
              "type": "string"
            }
          },
          "metadata": {},
          "execution_count": 5
        }
      ]
    },
    {
      "cell_type": "code",
      "source": [
        "year"
      ],
      "metadata": {
        "colab": {
          "base_uri": "https://localhost:8080/"
        },
        "id": "6FMoH88LIW14",
        "outputId": "4b79bd7b-bb91-452a-fa1f-3a9cc8cf1c14"
      },
      "execution_count": null,
      "outputs": [
        {
          "output_type": "execute_result",
          "data": {
            "text/plain": [
              "1999"
            ]
          },
          "metadata": {},
          "execution_count": 6
        }
      ]
    },
    {
      "cell_type": "code",
      "source": [
        "1/13"
      ],
      "metadata": {
        "colab": {
          "base_uri": "https://localhost:8080/"
        },
        "id": "o9JbVKnKIXVI",
        "outputId": "19ffa4ab-d096-41c7-834f-b87ecd07e10f"
      },
      "execution_count": null,
      "outputs": [
        {
          "output_type": "execute_result",
          "data": {
            "text/plain": [
              "0.07692307692307693"
            ]
          },
          "metadata": {},
          "execution_count": 7
        }
      ]
    },
    {
      "cell_type": "code",
      "source": [
        "round(0.1 + 0.1 + 0.1, ndigits=17)"
      ],
      "metadata": {
        "colab": {
          "base_uri": "https://localhost:8080/"
        },
        "id": "XQE1yTY_KBU0",
        "outputId": "d3c33bdb-d69d-4c45-f0db-2fb80cb59c3c"
      },
      "execution_count": null,
      "outputs": [
        {
          "output_type": "execute_result",
          "data": {
            "text/plain": [
              "0.30000000000000004"
            ]
          },
          "metadata": {},
          "execution_count": 10
        }
      ]
    },
    {
      "cell_type": "code",
      "source": [
        "print()"
      ],
      "metadata": {
        "colab": {
          "base_uri": "https://localhost:8080/"
        },
        "id": "R--PRaOsKpTj",
        "outputId": "d7370e42-e47f-4bde-cf3c-18bcb1407be2"
      },
      "execution_count": null,
      "outputs": [
        {
          "output_type": "stream",
          "name": "stdout",
          "text": [
            "\n"
          ]
        }
      ]
    },
    {
      "cell_type": "code",
      "source": [
        "print(1, 2, 3, 4, 5, 6)\n",
        "print(7, 8, 9)"
      ],
      "metadata": {
        "colab": {
          "base_uri": "https://localhost:8080/"
        },
        "id": "r1YmqKXPLd9C",
        "outputId": "915096ab-55e0-4d27-8154-5473b4bf2953"
      },
      "execution_count": null,
      "outputs": [
        {
          "output_type": "stream",
          "name": "stdout",
          "text": [
            "1 2 3 4 5 6\n",
            "7 8 9\n"
          ]
        }
      ]
    },
    {
      "cell_type": "code",
      "source": [
        "print(1, 2, 3, end='\\n\\n')\n",
        "print(4, 5, 6)"
      ],
      "metadata": {
        "colab": {
          "base_uri": "https://localhost:8080/"
        },
        "id": "fGxvt3PGLfnu",
        "outputId": "5497ee1b-caa8-4cec-98f5-737ae318cbd0"
      },
      "execution_count": null,
      "outputs": [
        {
          "output_type": "stream",
          "name": "stdout",
          "text": [
            "1 2 3\n",
            "\n",
            "4 5 6\n"
          ]
        }
      ]
    },
    {
      "cell_type": "code",
      "source": [
        "help(print)"
      ],
      "metadata": {
        "colab": {
          "base_uri": "https://localhost:8080/"
        },
        "id": "WRilvHbkNBJS",
        "outputId": "7e05ed5b-6bc9-4313-915f-9298ebb7224c"
      },
      "execution_count": null,
      "outputs": [
        {
          "output_type": "stream",
          "name": "stdout",
          "text": [
            "Help on built-in function print in module builtins:\n",
            "\n",
            "print(*args, sep=' ', end='\\n', file=None, flush=False)\n",
            "    Prints the values to a stream, or to sys.stdout by default.\n",
            "    \n",
            "    sep\n",
            "      string inserted between values, default a space.\n",
            "    end\n",
            "      string appended after the last value, default a newline.\n",
            "    file\n",
            "      a file-like object (stream); defaults to the current sys.stdout.\n",
            "    flush\n",
            "      whether to forcibly flush the stream.\n",
            "\n"
          ]
        }
      ]
    },
    {
      "cell_type": "code",
      "source": [
        "print(1, 2, 3)"
      ],
      "metadata": {
        "colab": {
          "base_uri": "https://localhost:8080/"
        },
        "id": "Fp8uqM_nNCEY",
        "outputId": "d5f3e182-e931-477c-91a1-ec32ab69835b"
      },
      "execution_count": null,
      "outputs": [
        {
          "output_type": "stream",
          "name": "stdout",
          "text": [
            "1 2 3\n"
          ]
        }
      ]
    },
    {
      "cell_type": "code",
      "source": [
        "a, b, o, p = 'b', 'a', 'p', 'o'"
      ],
      "metadata": {
        "id": "_M9_emA-NPRR"
      },
      "execution_count": null,
      "outputs": []
    },
    {
      "cell_type": "code",
      "source": [
        "a * 3 + b"
      ],
      "metadata": {
        "colab": {
          "base_uri": "https://localhost:8080/",
          "height": 35
        },
        "id": "s8DnUA3SUilX",
        "outputId": "fca0de99-29f6-440f-bb69-7717f75c7569"
      },
      "execution_count": null,
      "outputs": [
        {
          "output_type": "execute_result",
          "data": {
            "text/plain": [
              "'bbba'"
            ],
            "application/vnd.google.colaboratory.intrinsic+json": {
              "type": "string"
            }
          },
          "metadata": {},
          "execution_count": 24
        }
      ]
    },
    {
      "cell_type": "code",
      "source": [
        "o + p + o"
      ],
      "metadata": {
        "colab": {
          "base_uri": "https://localhost:8080/",
          "height": 35
        },
        "id": "H0MOp6UaUILd",
        "outputId": "28a4d4f6-61af-4bf4-e55f-05827bd7c06e"
      },
      "execution_count": null,
      "outputs": [
        {
          "output_type": "execute_result",
          "data": {
            "text/plain": [
              "'pop'"
            ],
            "application/vnd.google.colaboratory.intrinsic+json": {
              "type": "string"
            }
          },
          "metadata": {},
          "execution_count": 23
        }
      ]
    },
    {
      "cell_type": "code",
      "source": [
        "a + p * 2 + 'k' * 2 + 'e' * 2 + o + 'er'"
      ],
      "metadata": {
        "colab": {
          "base_uri": "https://localhost:8080/",
          "height": 35
        },
        "id": "xMtnSoGRUpXC",
        "outputId": "4cc37737-8796-4dac-fd82-f59bee750e15"
      },
      "execution_count": null,
      "outputs": [
        {
          "output_type": "execute_result",
          "data": {
            "text/plain": [
              "'bookkeeper'"
            ],
            "application/vnd.google.colaboratory.intrinsic+json": {
              "type": "string"
            }
          },
          "metadata": {},
          "execution_count": 25
        }
      ]
    },
    {
      "cell_type": "code",
      "source": [
        "%%writefile program.py\n",
        "name = input('Enter your name: ')\n",
        "print('You entered', name)"
      ],
      "metadata": {
        "colab": {
          "base_uri": "https://localhost:8080/"
        },
        "id": "-kOlc6hmn5FL",
        "outputId": "10af2332-fa5a-49bb-f2e7-d9d207a97590"
      },
      "execution_count": null,
      "outputs": [
        {
          "output_type": "stream",
          "name": "stdout",
          "text": [
            "Writing program.py\n"
          ]
        }
      ]
    },
    {
      "cell_type": "code",
      "source": [
        "%run program.py"
      ],
      "metadata": {
        "colab": {
          "base_uri": "https://localhost:8080/"
        },
        "id": "BjYJdNkToTnv",
        "outputId": "b9eac033-16d5-403a-b922-33908e35c983"
      },
      "execution_count": null,
      "outputs": [
        {
          "output_type": "stream",
          "name": "stdout",
          "text": [
            "Enter your name: Dave\n",
            "You entered Dave\n"
          ]
        }
      ]
    },
    {
      "cell_type": "code",
      "source": [],
      "metadata": {
        "id": "qkxjkkdDoq4K"
      },
      "execution_count": null,
      "outputs": []
    },
    {
      "cell_type": "code",
      "source": [
        "!python program.py"
      ],
      "metadata": {
        "colab": {
          "base_uri": "https://localhost:8080/"
        },
        "id": "6QBVT8L7oibJ",
        "outputId": "ba95b6b9-6e0f-4be1-ba92-86653c895f4e"
      },
      "execution_count": null,
      "outputs": [
        {
          "output_type": "stream",
          "name": "stdout",
          "text": [
            "Enter your name: Dave\n",
            "You entered Dave\n"
          ]
        }
      ]
    },
    {
      "cell_type": "code",
      "source": [
        "if 5 > 3:\n",
        "    print('we are now pep8 compliant')"
      ],
      "metadata": {
        "colab": {
          "base_uri": "https://localhost:8080/"
        },
        "id": "dFPoUUHbrj5a",
        "outputId": "044dd20a-1314-4cba-c9b5-4b1a810810bd"
      },
      "execution_count": null,
      "outputs": [
        {
          "output_type": "stream",
          "name": "stdout",
          "text": [
            "we are now pep8 compliant\n"
          ]
        }
      ]
    },
    {
      "cell_type": "code",
      "source": [
        "result = input('Enter an int: ')"
      ],
      "metadata": {
        "colab": {
          "base_uri": "https://localhost:8080/"
        },
        "id": "iCSnwVV9shxi",
        "outputId": "a03b587e-13f1-41e0-df82-39f8d24f3696"
      },
      "execution_count": null,
      "outputs": [
        {
          "name": "stdout",
          "output_type": "stream",
          "text": [
            "Enter an int: 45\n"
          ]
        }
      ]
    },
    {
      "cell_type": "code",
      "source": [
        "int(result)"
      ],
      "metadata": {
        "colab": {
          "base_uri": "https://localhost:8080/"
        },
        "id": "JG_LDduNuBF1",
        "outputId": "f8657420-af01-4baf-f6f3-33e255954d11"
      },
      "execution_count": null,
      "outputs": [
        {
          "output_type": "execute_result",
          "data": {
            "text/plain": [
              "45"
            ]
          },
          "metadata": {},
          "execution_count": 34
        }
      ]
    },
    {
      "cell_type": "code",
      "source": [
        "# \"in\" operator?\n",
        "# allows us to ask the question is something IN a container\n",
        "\n",
        "'z' in 'Intuit'\n"
      ],
      "metadata": {
        "colab": {
          "base_uri": "https://localhost:8080/"
        },
        "id": "HDY6RvkRuCYa",
        "outputId": "80191e88-d104-4785-d202-d282e96023ab"
      },
      "execution_count": null,
      "outputs": [
        {
          "output_type": "execute_result",
          "data": {
            "text/plain": [
              "False"
            ]
          },
          "metadata": {},
          "execution_count": 38
        }
      ]
    },
    {
      "cell_type": "code",
      "source": [
        "import random # bring into memory the random module"
      ],
      "metadata": {
        "id": "H6hAufJkvSJc"
      },
      "execution_count": null,
      "outputs": []
    },
    {
      "cell_type": "code",
      "source": [
        "dir(random)"
      ],
      "metadata": {
        "colab": {
          "base_uri": "https://localhost:8080/"
        },
        "id": "OnbZXQG7xUXb",
        "outputId": "364a341d-fcb0-40cb-836e-a16d3694ed7f"
      },
      "execution_count": null,
      "outputs": [
        {
          "output_type": "execute_result",
          "data": {
            "text/plain": [
              "['BPF',\n",
              " 'LOG4',\n",
              " 'NV_MAGICCONST',\n",
              " 'RECIP_BPF',\n",
              " 'Random',\n",
              " 'SG_MAGICCONST',\n",
              " 'SystemRandom',\n",
              " 'TWOPI',\n",
              " '_ONE',\n",
              " '_Sequence',\n",
              " '_Set',\n",
              " '__all__',\n",
              " '__builtins__',\n",
              " '__cached__',\n",
              " '__doc__',\n",
              " '__file__',\n",
              " '__loader__',\n",
              " '__name__',\n",
              " '__package__',\n",
              " '__spec__',\n",
              " '_accumulate',\n",
              " '_acos',\n",
              " '_bisect',\n",
              " '_ceil',\n",
              " '_cos',\n",
              " '_e',\n",
              " '_exp',\n",
              " '_floor',\n",
              " '_index',\n",
              " '_inst',\n",
              " '_isfinite',\n",
              " '_log',\n",
              " '_os',\n",
              " '_pi',\n",
              " '_random',\n",
              " '_repeat',\n",
              " '_sha512',\n",
              " '_sin',\n",
              " '_sqrt',\n",
              " '_test',\n",
              " '_test_generator',\n",
              " '_urandom',\n",
              " '_warn',\n",
              " 'betavariate',\n",
              " 'choice',\n",
              " 'choices',\n",
              " 'expovariate',\n",
              " 'gammavariate',\n",
              " 'gauss',\n",
              " 'getrandbits',\n",
              " 'getstate',\n",
              " 'lognormvariate',\n",
              " 'normalvariate',\n",
              " 'paretovariate',\n",
              " 'randbytes',\n",
              " 'randint',\n",
              " 'random',\n",
              " 'randrange',\n",
              " 'sample',\n",
              " 'seed',\n",
              " 'setstate',\n",
              " 'shuffle',\n",
              " 'triangular',\n",
              " 'uniform',\n",
              " 'vonmisesvariate',\n",
              " 'weibullvariate']"
            ]
          },
          "metadata": {},
          "execution_count": 40
        }
      ]
    },
    {
      "cell_type": "code",
      "source": [
        "help(random.randint)"
      ],
      "metadata": {
        "colab": {
          "base_uri": "https://localhost:8080/"
        },
        "id": "mvPkD5ZZxmS7",
        "outputId": "ce62703c-67d2-44dc-c210-07aa7a7149d4"
      },
      "execution_count": null,
      "outputs": [
        {
          "output_type": "stream",
          "name": "stdout",
          "text": [
            "Help on method randint in module random:\n",
            "\n",
            "randint(a, b) method of random.Random instance\n",
            "    Return random integer in range [a, b], including both end points.\n",
            "\n"
          ]
        }
      ]
    },
    {
      "cell_type": "code",
      "source": [
        "import math"
      ],
      "metadata": {
        "id": "tfXhwu8Nx8_C"
      },
      "execution_count": null,
      "outputs": []
    },
    {
      "cell_type": "code",
      "source": [
        "dir(math)"
      ],
      "metadata": {
        "colab": {
          "base_uri": "https://localhost:8080/"
        },
        "id": "_bbh_DQQyDTe",
        "outputId": "e8d40bb5-3f0d-4ac9-cfad-0c82ac21a1aa"
      },
      "execution_count": null,
      "outputs": [
        {
          "output_type": "execute_result",
          "data": {
            "text/plain": [
              "['__doc__',\n",
              " '__loader__',\n",
              " '__name__',\n",
              " '__package__',\n",
              " '__spec__',\n",
              " 'acos',\n",
              " 'acosh',\n",
              " 'asin',\n",
              " 'asinh',\n",
              " 'atan',\n",
              " 'atan2',\n",
              " 'atanh',\n",
              " 'cbrt',\n",
              " 'ceil',\n",
              " 'comb',\n",
              " 'copysign',\n",
              " 'cos',\n",
              " 'cosh',\n",
              " 'degrees',\n",
              " 'dist',\n",
              " 'e',\n",
              " 'erf',\n",
              " 'erfc',\n",
              " 'exp',\n",
              " 'exp2',\n",
              " 'expm1',\n",
              " 'fabs',\n",
              " 'factorial',\n",
              " 'floor',\n",
              " 'fmod',\n",
              " 'frexp',\n",
              " 'fsum',\n",
              " 'gamma',\n",
              " 'gcd',\n",
              " 'hypot',\n",
              " 'inf',\n",
              " 'isclose',\n",
              " 'isfinite',\n",
              " 'isinf',\n",
              " 'isnan',\n",
              " 'isqrt',\n",
              " 'lcm',\n",
              " 'ldexp',\n",
              " 'lgamma',\n",
              " 'log',\n",
              " 'log10',\n",
              " 'log1p',\n",
              " 'log2',\n",
              " 'modf',\n",
              " 'nan',\n",
              " 'nextafter',\n",
              " 'perm',\n",
              " 'pi',\n",
              " 'pow',\n",
              " 'prod',\n",
              " 'radians',\n",
              " 'remainder',\n",
              " 'sin',\n",
              " 'sinh',\n",
              " 'sqrt',\n",
              " 'tan',\n",
              " 'tanh',\n",
              " 'tau',\n",
              " 'trunc',\n",
              " 'ulp']"
            ]
          },
          "metadata": {},
          "execution_count": 45
        }
      ]
    },
    {
      "cell_type": "code",
      "source": [
        "help(math)"
      ],
      "metadata": {
        "colab": {
          "base_uri": "https://localhost:8080/"
        },
        "id": "J_iQhGJvyGw1",
        "outputId": "ca5d01c9-d06d-4f17-847e-3dff30a35021"
      },
      "execution_count": null,
      "outputs": [
        {
          "output_type": "stream",
          "name": "stdout",
          "text": [
            "Help on built-in module math:\n",
            "\n",
            "NAME\n",
            "    math\n",
            "\n",
            "DESCRIPTION\n",
            "    This module provides access to the mathematical functions\n",
            "    defined by the C standard.\n",
            "\n",
            "FUNCTIONS\n",
            "    acos(x, /)\n",
            "        Return the arc cosine (measured in radians) of x.\n",
            "        \n",
            "        The result is between 0 and pi.\n",
            "    \n",
            "    acosh(x, /)\n",
            "        Return the inverse hyperbolic cosine of x.\n",
            "    \n",
            "    asin(x, /)\n",
            "        Return the arc sine (measured in radians) of x.\n",
            "        \n",
            "        The result is between -pi/2 and pi/2.\n",
            "    \n",
            "    asinh(x, /)\n",
            "        Return the inverse hyperbolic sine of x.\n",
            "    \n",
            "    atan(x, /)\n",
            "        Return the arc tangent (measured in radians) of x.\n",
            "        \n",
            "        The result is between -pi/2 and pi/2.\n",
            "    \n",
            "    atan2(y, x, /)\n",
            "        Return the arc tangent (measured in radians) of y/x.\n",
            "        \n",
            "        Unlike atan(y/x), the signs of both x and y are considered.\n",
            "    \n",
            "    atanh(x, /)\n",
            "        Return the inverse hyperbolic tangent of x.\n",
            "    \n",
            "    cbrt(x, /)\n",
            "        Return the cube root of x.\n",
            "    \n",
            "    ceil(x, /)\n",
            "        Return the ceiling of x as an Integral.\n",
            "        \n",
            "        This is the smallest integer >= x.\n",
            "    \n",
            "    comb(n, k, /)\n",
            "        Number of ways to choose k items from n items without repetition and without order.\n",
            "        \n",
            "        Evaluates to n! / (k! * (n - k)!) when k <= n and evaluates\n",
            "        to zero when k > n.\n",
            "        \n",
            "        Also called the binomial coefficient because it is equivalent\n",
            "        to the coefficient of k-th term in polynomial expansion of the\n",
            "        expression (1 + x)**n.\n",
            "        \n",
            "        Raises TypeError if either of the arguments are not integers.\n",
            "        Raises ValueError if either of the arguments are negative.\n",
            "    \n",
            "    copysign(x, y, /)\n",
            "        Return a float with the magnitude (absolute value) of x but the sign of y.\n",
            "        \n",
            "        On platforms that support signed zeros, copysign(1.0, -0.0)\n",
            "        returns -1.0.\n",
            "    \n",
            "    cos(x, /)\n",
            "        Return the cosine of x (measured in radians).\n",
            "    \n",
            "    cosh(x, /)\n",
            "        Return the hyperbolic cosine of x.\n",
            "    \n",
            "    degrees(x, /)\n",
            "        Convert angle x from radians to degrees.\n",
            "    \n",
            "    dist(p, q, /)\n",
            "        Return the Euclidean distance between two points p and q.\n",
            "        \n",
            "        The points should be specified as sequences (or iterables) of\n",
            "        coordinates.  Both inputs must have the same dimension.\n",
            "        \n",
            "        Roughly equivalent to:\n",
            "            sqrt(sum((px - qx) ** 2.0 for px, qx in zip(p, q)))\n",
            "    \n",
            "    erf(x, /)\n",
            "        Error function at x.\n",
            "    \n",
            "    erfc(x, /)\n",
            "        Complementary error function at x.\n",
            "    \n",
            "    exp(x, /)\n",
            "        Return e raised to the power of x.\n",
            "    \n",
            "    exp2(x, /)\n",
            "        Return 2 raised to the power of x.\n",
            "    \n",
            "    expm1(x, /)\n",
            "        Return exp(x)-1.\n",
            "        \n",
            "        This function avoids the loss of precision involved in the direct evaluation of exp(x)-1 for small x.\n",
            "    \n",
            "    fabs(x, /)\n",
            "        Return the absolute value of the float x.\n",
            "    \n",
            "    factorial(n, /)\n",
            "        Find n!.\n",
            "        \n",
            "        Raise a ValueError if x is negative or non-integral.\n",
            "    \n",
            "    floor(x, /)\n",
            "        Return the floor of x as an Integral.\n",
            "        \n",
            "        This is the largest integer <= x.\n",
            "    \n",
            "    fmod(x, y, /)\n",
            "        Return fmod(x, y), according to platform C.\n",
            "        \n",
            "        x % y may differ.\n",
            "    \n",
            "    frexp(x, /)\n",
            "        Return the mantissa and exponent of x, as pair (m, e).\n",
            "        \n",
            "        m is a float and e is an int, such that x = m * 2.**e.\n",
            "        If x is 0, m and e are both 0.  Else 0.5 <= abs(m) < 1.0.\n",
            "    \n",
            "    fsum(seq, /)\n",
            "        Return an accurate floating point sum of values in the iterable seq.\n",
            "        \n",
            "        Assumes IEEE-754 floating point arithmetic.\n",
            "    \n",
            "    gamma(x, /)\n",
            "        Gamma function at x.\n",
            "    \n",
            "    gcd(*integers)\n",
            "        Greatest Common Divisor.\n",
            "    \n",
            "    hypot(...)\n",
            "        hypot(*coordinates) -> value\n",
            "        \n",
            "        Multidimensional Euclidean distance from the origin to a point.\n",
            "        \n",
            "        Roughly equivalent to:\n",
            "            sqrt(sum(x**2 for x in coordinates))\n",
            "        \n",
            "        For a two dimensional point (x, y), gives the hypotenuse\n",
            "        using the Pythagorean theorem:  sqrt(x*x + y*y).\n",
            "        \n",
            "        For example, the hypotenuse of a 3/4/5 right triangle is:\n",
            "        \n",
            "            >>> hypot(3.0, 4.0)\n",
            "            5.0\n",
            "    \n",
            "    isclose(a, b, *, rel_tol=1e-09, abs_tol=0.0)\n",
            "        Determine whether two floating point numbers are close in value.\n",
            "        \n",
            "          rel_tol\n",
            "            maximum difference for being considered \"close\", relative to the\n",
            "            magnitude of the input values\n",
            "          abs_tol\n",
            "            maximum difference for being considered \"close\", regardless of the\n",
            "            magnitude of the input values\n",
            "        \n",
            "        Return True if a is close in value to b, and False otherwise.\n",
            "        \n",
            "        For the values to be considered close, the difference between them\n",
            "        must be smaller than at least one of the tolerances.\n",
            "        \n",
            "        -inf, inf and NaN behave similarly to the IEEE 754 Standard.  That\n",
            "        is, NaN is not close to anything, even itself.  inf and -inf are\n",
            "        only close to themselves.\n",
            "    \n",
            "    isfinite(x, /)\n",
            "        Return True if x is neither an infinity nor a NaN, and False otherwise.\n",
            "    \n",
            "    isinf(x, /)\n",
            "        Return True if x is a positive or negative infinity, and False otherwise.\n",
            "    \n",
            "    isnan(x, /)\n",
            "        Return True if x is a NaN (not a number), and False otherwise.\n",
            "    \n",
            "    isqrt(n, /)\n",
            "        Return the integer part of the square root of the input.\n",
            "    \n",
            "    lcm(*integers)\n",
            "        Least Common Multiple.\n",
            "    \n",
            "    ldexp(x, i, /)\n",
            "        Return x * (2**i).\n",
            "        \n",
            "        This is essentially the inverse of frexp().\n",
            "    \n",
            "    lgamma(x, /)\n",
            "        Natural logarithm of absolute value of Gamma function at x.\n",
            "    \n",
            "    log(...)\n",
            "        log(x, [base=math.e])\n",
            "        Return the logarithm of x to the given base.\n",
            "        \n",
            "        If the base not specified, returns the natural logarithm (base e) of x.\n",
            "    \n",
            "    log10(x, /)\n",
            "        Return the base 10 logarithm of x.\n",
            "    \n",
            "    log1p(x, /)\n",
            "        Return the natural logarithm of 1+x (base e).\n",
            "        \n",
            "        The result is computed in a way which is accurate for x near zero.\n",
            "    \n",
            "    log2(x, /)\n",
            "        Return the base 2 logarithm of x.\n",
            "    \n",
            "    modf(x, /)\n",
            "        Return the fractional and integer parts of x.\n",
            "        \n",
            "        Both results carry the sign of x and are floats.\n",
            "    \n",
            "    nextafter(x, y, /)\n",
            "        Return the next floating-point value after x towards y.\n",
            "    \n",
            "    perm(n, k=None, /)\n",
            "        Number of ways to choose k items from n items without repetition and with order.\n",
            "        \n",
            "        Evaluates to n! / (n - k)! when k <= n and evaluates\n",
            "        to zero when k > n.\n",
            "        \n",
            "        If k is not specified or is None, then k defaults to n\n",
            "        and the function returns n!.\n",
            "        \n",
            "        Raises TypeError if either of the arguments are not integers.\n",
            "        Raises ValueError if either of the arguments are negative.\n",
            "    \n",
            "    pow(x, y, /)\n",
            "        Return x**y (x to the power of y).\n",
            "    \n",
            "    prod(iterable, /, *, start=1)\n",
            "        Calculate the product of all the elements in the input iterable.\n",
            "        \n",
            "        The default start value for the product is 1.\n",
            "        \n",
            "        When the iterable is empty, return the start value.  This function is\n",
            "        intended specifically for use with numeric values and may reject\n",
            "        non-numeric types.\n",
            "    \n",
            "    radians(x, /)\n",
            "        Convert angle x from degrees to radians.\n",
            "    \n",
            "    remainder(x, y, /)\n",
            "        Difference between x and the closest integer multiple of y.\n",
            "        \n",
            "        Return x - n*y where n*y is the closest integer multiple of y.\n",
            "        In the case where x is exactly halfway between two multiples of\n",
            "        y, the nearest even value of n is used. The result is always exact.\n",
            "    \n",
            "    sin(x, /)\n",
            "        Return the sine of x (measured in radians).\n",
            "    \n",
            "    sinh(x, /)\n",
            "        Return the hyperbolic sine of x.\n",
            "    \n",
            "    sqrt(x, /)\n",
            "        Return the square root of x.\n",
            "    \n",
            "    tan(x, /)\n",
            "        Return the tangent of x (measured in radians).\n",
            "    \n",
            "    tanh(x, /)\n",
            "        Return the hyperbolic tangent of x.\n",
            "    \n",
            "    trunc(x, /)\n",
            "        Truncates the Real x to the nearest Integral toward 0.\n",
            "        \n",
            "        Uses the __trunc__ magic method.\n",
            "    \n",
            "    ulp(x, /)\n",
            "        Return the value of the least significant bit of the float x.\n",
            "\n",
            "DATA\n",
            "    e = 2.718281828459045\n",
            "    inf = inf\n",
            "    nan = nan\n",
            "    pi = 3.141592653589793\n",
            "    tau = 6.283185307179586\n",
            "\n",
            "FILE\n",
            "    (built-in)\n",
            "\n",
            "\n"
          ]
        }
      ]
    },
    {
      "cell_type": "code",
      "source": [
        "math.sqrt(25)"
      ],
      "metadata": {
        "colab": {
          "base_uri": "https://localhost:8080/"
        },
        "id": "OSTXGldlyXdx",
        "outputId": "5168dd99-f788-4214-cd31-ab8c0c33b276"
      },
      "execution_count": null,
      "outputs": [
        {
          "output_type": "execute_result",
          "data": {
            "text/plain": [
              "5.0"
            ]
          },
          "metadata": {},
          "execution_count": 47
        }
      ]
    },
    {
      "cell_type": "code",
      "source": [
        "math.factorial(5)"
      ],
      "metadata": {
        "colab": {
          "base_uri": "https://localhost:8080/"
        },
        "id": "qlQkntGaylZT",
        "outputId": "1ad84bff-4533-4007-ba85-878d84739bcc"
      },
      "execution_count": null,
      "outputs": [
        {
          "output_type": "execute_result",
          "data": {
            "text/plain": [
              "120"
            ]
          },
          "metadata": {},
          "execution_count": 48
        }
      ]
    },
    {
      "cell_type": "code",
      "source": [
        "random.randint(1, 100)"
      ],
      "metadata": {
        "colab": {
          "base_uri": "https://localhost:8080/"
        },
        "id": "wDa08wrGynYt",
        "outputId": "8369b861-23dc-4251-8a4a-b87eb3f0021a"
      },
      "execution_count": null,
      "outputs": [
        {
          "output_type": "execute_result",
          "data": {
            "text/plain": [
              "83"
            ]
          },
          "metadata": {},
          "execution_count": 53
        }
      ]
    },
    {
      "cell_type": "code",
      "source": [
        "2/0"
      ],
      "metadata": {
        "colab": {
          "base_uri": "https://localhost:8080/",
          "height": 144
        },
        "id": "pta8ifDszwa5",
        "outputId": "c6161002-2d94-4518-e4ff-a042a137b618"
      },
      "execution_count": null,
      "outputs": [
        {
          "output_type": "error",
          "ename": "ZeroDivisionError",
          "evalue": "division by zero",
          "traceback": [
            "\u001b[0;31m---------------------------------------------------------------------------\u001b[0m",
            "\u001b[0;31mZeroDivisionError\u001b[0m                         Traceback (most recent call last)",
            "\u001b[0;32m/tmp/ipython-input-54-3627099327.py\u001b[0m in \u001b[0;36m<cell line: 0>\u001b[0;34m()\u001b[0m\n\u001b[0;32m----> 1\u001b[0;31m \u001b[0;36m2\u001b[0m\u001b[0;34m/\u001b[0m\u001b[0;36m0\u001b[0m\u001b[0;34m\u001b[0m\u001b[0;34m\u001b[0m\u001b[0m\n\u001b[0m",
            "\u001b[0;31mZeroDivisionError\u001b[0m: division by zero"
          ]
        }
      ]
    },
    {
      "cell_type": "code",
      "source": [],
      "metadata": {
        "id": "c2sTtXC37aEz"
      },
      "execution_count": null,
      "outputs": []
    },
    {
      "cell_type": "markdown",
      "source": [
        "## Quick Lab: Loops/Strings\n",
        "* have the user enter a string, then loop through the string to generate (or print) a new string in which every character is duplicated, e.g., \"Python\" => \"PPyytthhoonn\""
      ],
      "metadata": {
        "id": "kJILbGMg9Vgd"
      }
    },
    {
      "cell_type": "code",
      "source": [
        "text = input('Enter some text: ')\n",
        "for char in text: # for each character\n",
        "    print(char * 2, end='')"
      ],
      "metadata": {
        "colab": {
          "base_uri": "https://localhost:8080/"
        },
        "id": "WX4VtAsl_8xs",
        "outputId": "86bd4748-1194-4e8c-cc33-900f919de55f"
      },
      "execution_count": null,
      "outputs": [
        {
          "output_type": "stream",
          "name": "stdout",
          "text": [
            "Enter some text: Python\n",
            "PPyytthhoonn"
          ]
        }
      ]
    },
    {
      "cell_type": "code",
      "source": [
        "text = input('Enter some text: ')\n",
        "for char in text: # for each character\n",
        "    print(char + char, end='')"
      ],
      "metadata": {
        "colab": {
          "base_uri": "https://localhost:8080/"
        },
        "id": "4WGrGTKQAoEW",
        "outputId": "b40d8a24-2eef-430a-ef16-a698e4b0579e"
      },
      "execution_count": null,
      "outputs": [
        {
          "output_type": "stream",
          "name": "stdout",
          "text": [
            "Enter some text: Python\n",
            "PPyytthhoonn"
          ]
        }
      ]
    },
    {
      "cell_type": "code",
      "source": [
        "# Dom's solution\n",
        "user_input = input(\"Please enter a string: \") # get data\n",
        "dupe_string = \"\" # start w/an empty string\n",
        "\n",
        "for char in user_input:\n",
        "    dupe_string += char * 2\n",
        "print(\"The string is:\", dupe_string)"
      ],
      "metadata": {
        "colab": {
          "base_uri": "https://localhost:8080/"
        },
        "id": "5bcJ_qv-FOwh",
        "outputId": "5013ff21-4693-49f1-893b-bba97a423e19"
      },
      "execution_count": null,
      "outputs": [
        {
          "output_type": "stream",
          "name": "stdout",
          "text": [
            "Please enter a string: 123\n",
            "The string is: 112233\n"
          ]
        }
      ]
    },
    {
      "cell_type": "code",
      "source": [
        "# Bhuvan's solution\n",
        "\n",
        "stuff = input('Enter something: ')\n",
        "\n",
        "for char in stuff:\n",
        "    print(char * 2, end='')"
      ],
      "metadata": {
        "colab": {
          "base_uri": "https://localhost:8080/"
        },
        "id": "W4nLb5_UFSW-",
        "outputId": "4b1ecc2c-a4a6-47ea-a226-1067ca06c449"
      },
      "execution_count": null,
      "outputs": [
        {
          "output_type": "stream",
          "name": "stdout",
          "text": [
            "Enter something: 344\n",
            "334444"
          ]
        }
      ]
    },
    {
      "cell_type": "markdown",
      "source": [
        "## Quick Lab: Loops/Numbers\n",
        "* write Python code to generate a 6-digit access/security code, like you get when your try to log in to a website and it sends a code to your phone...e.g., 031728"
      ],
      "metadata": {
        "id": "HMVXCPoT_9nR"
      }
    },
    {
      "cell_type": "code",
      "source": [
        "# let's generate 6 digits, rather than trying to generate a 6-digit number\n",
        "import random # need random module to generate random digits\n",
        "random.randint(0, 9) # looks good"
      ],
      "metadata": {
        "colab": {
          "base_uri": "https://localhost:8080/"
        },
        "id": "HcKkgnm7__Yj",
        "outputId": "20abaccc-4631-440b-c44c-7239f4402170"
      },
      "execution_count": null,
      "outputs": [
        {
          "output_type": "execute_result",
          "data": {
            "text/plain": [
              "0"
            ]
          },
          "metadata": {},
          "execution_count": 21
        }
      ]
    },
    {
      "cell_type": "code",
      "source": [
        "for count in range(1, 7): # 1..6\n",
        "    print(random.randint(0, 9), end='')"
      ],
      "metadata": {
        "colab": {
          "base_uri": "https://localhost:8080/"
        },
        "id": "b5s0M4MzBA6f",
        "outputId": "2df10f93-2bef-41e5-c846-dcde58b1a720"
      },
      "execution_count": null,
      "outputs": [
        {
          "output_type": "stream",
          "name": "stdout",
          "text": [
            "077474"
          ]
        }
      ]
    },
    {
      "cell_type": "code",
      "source": [
        "# or we can generate a string of digits...\n",
        "code = ''\n",
        "for count in range(1, 7): # 1..6\n",
        "    code += str(random.randint(0, 9))\n",
        "\n",
        "print(code)"
      ],
      "metadata": {
        "colab": {
          "base_uri": "https://localhost:8080/"
        },
        "id": "FohkeVzrBLhj",
        "outputId": "a520631e-dcd9-4ddf-eadb-d469a04fef6d"
      },
      "execution_count": null,
      "outputs": [
        {
          "output_type": "stream",
          "name": "stdout",
          "text": [
            "442853\n"
          ]
        }
      ]
    },
    {
      "cell_type": "code",
      "source": [
        "for count in range(0, 6): # 0..5 (6 times)\n",
        "    print(random.randint(0, 9), end='')"
      ],
      "metadata": {
        "colab": {
          "base_uri": "https://localhost:8080/"
        },
        "id": "BqatyOpYGltt",
        "outputId": "3a129dfd-eaf2-4cb1-d753-31debc2c5d61"
      },
      "execution_count": null,
      "outputs": [
        {
          "output_type": "stream",
          "name": "stdout",
          "text": [
            "376687"
          ]
        }
      ]
    },
    {
      "cell_type": "code",
      "source": [
        "for count in range(6): # 0..5 (6 times)\n",
        "    print(random.randint(0, 9), end='')"
      ],
      "metadata": {
        "colab": {
          "base_uri": "https://localhost:8080/"
        },
        "id": "2oZZ8-rvHZlE",
        "outputId": "75c2f091-7283-49c4-fc26-74a201676ac1"
      },
      "execution_count": null,
      "outputs": [
        {
          "output_type": "stream",
          "name": "stdout",
          "text": [
            "739813"
          ]
        }
      ]
    },
    {
      "cell_type": "code",
      "source": [
        "for _ in range(6): # \"do this 6 times\"\n",
        "    print(random.randint(0, 9), end='')"
      ],
      "metadata": {
        "colab": {
          "base_uri": "https://localhost:8080/"
        },
        "id": "WslDq_pBHiyo",
        "outputId": "aa81a2b9-7e98-4014-e06d-d88e0e40d6f1"
      },
      "execution_count": null,
      "outputs": [
        {
          "output_type": "stream",
          "name": "stdout",
          "text": [
            "945182"
          ]
        }
      ]
    },
    {
      "cell_type": "code",
      "source": [
        "import random"
      ],
      "metadata": {
        "id": "ds5uWJJHKyAY"
      },
      "execution_count": null,
      "outputs": []
    },
    {
      "cell_type": "code",
      "source": [
        "dir(random)"
      ],
      "metadata": {
        "colab": {
          "base_uri": "https://localhost:8080/"
        },
        "id": "vsFWBRkqKyqJ",
        "outputId": "d76f6e3f-0aee-459a-f557-90699fa4f55b"
      },
      "execution_count": null,
      "outputs": [
        {
          "output_type": "execute_result",
          "data": {
            "text/plain": [
              "['BPF',\n",
              " 'LOG4',\n",
              " 'NV_MAGICCONST',\n",
              " 'RECIP_BPF',\n",
              " 'Random',\n",
              " 'SG_MAGICCONST',\n",
              " 'SystemRandom',\n",
              " 'TWOPI',\n",
              " '_ONE',\n",
              " '_Sequence',\n",
              " '_Set',\n",
              " '__all__',\n",
              " '__builtins__',\n",
              " '__cached__',\n",
              " '__doc__',\n",
              " '__file__',\n",
              " '__loader__',\n",
              " '__name__',\n",
              " '__package__',\n",
              " '__spec__',\n",
              " '_accumulate',\n",
              " '_acos',\n",
              " '_bisect',\n",
              " '_ceil',\n",
              " '_cos',\n",
              " '_e',\n",
              " '_exp',\n",
              " '_floor',\n",
              " '_index',\n",
              " '_inst',\n",
              " '_isfinite',\n",
              " '_log',\n",
              " '_os',\n",
              " '_pi',\n",
              " '_random',\n",
              " '_repeat',\n",
              " '_sha512',\n",
              " '_sin',\n",
              " '_sqrt',\n",
              " '_test',\n",
              " '_test_generator',\n",
              " '_urandom',\n",
              " '_warn',\n",
              " 'betavariate',\n",
              " 'choice',\n",
              " 'choices',\n",
              " 'expovariate',\n",
              " 'gammavariate',\n",
              " 'gauss',\n",
              " 'getrandbits',\n",
              " 'getstate',\n",
              " 'lognormvariate',\n",
              " 'normalvariate',\n",
              " 'paretovariate',\n",
              " 'randbytes',\n",
              " 'randint',\n",
              " 'random',\n",
              " 'randrange',\n",
              " 'sample',\n",
              " 'seed',\n",
              " 'setstate',\n",
              " 'shuffle',\n",
              " 'triangular',\n",
              " 'uniform',\n",
              " 'vonmisesvariate',\n",
              " 'weibullvariate']"
            ]
          },
          "metadata": {},
          "execution_count": 31
        }
      ]
    },
    {
      "cell_type": "code",
      "source": [
        "help(random.randint)"
      ],
      "metadata": {
        "colab": {
          "base_uri": "https://localhost:8080/"
        },
        "id": "qugreyUcK0QU",
        "outputId": "99078727-d20d-415d-fc7d-144afbde38e0"
      },
      "execution_count": null,
      "outputs": [
        {
          "output_type": "stream",
          "name": "stdout",
          "text": [
            "Help on method randint in module random:\n",
            "\n",
            "randint(a, b) method of random.Random instance\n",
            "    Return random integer in range [a, b], including both end points.\n",
            "\n"
          ]
        }
      ]
    },
    {
      "cell_type": "code",
      "source": [
        "help(random.randrange)"
      ],
      "metadata": {
        "colab": {
          "base_uri": "https://localhost:8080/"
        },
        "id": "XRR3b4wwK4Wi",
        "outputId": "ca09309c-fe1d-4af2-9091-7d2474770afc"
      },
      "execution_count": null,
      "outputs": [
        {
          "output_type": "stream",
          "name": "stdout",
          "text": [
            "Help on method randrange in module random:\n",
            "\n",
            "randrange(start, stop=None, step=1) method of random.Random instance\n",
            "    Choose a random item from range(stop) or range(start, stop[, step]).\n",
            "    \n",
            "    Roughly equivalent to ``choice(range(start, stop, step))`` but\n",
            "    supports arbitrarily large ranges and is optimized for common cases.\n",
            "\n"
          ]
        }
      ]
    },
    {
      "cell_type": "code",
      "source": [
        "for _ in range(100):\n",
        "    print(random.randint(1, 2))"
      ],
      "metadata": {
        "colab": {
          "base_uri": "https://localhost:8080/"
        },
        "id": "s2cRf5nPK9jr",
        "outputId": "4defabc1-58c3-42ff-f7e1-23b20febd32a"
      },
      "execution_count": null,
      "outputs": [
        {
          "output_type": "stream",
          "name": "stdout",
          "text": [
            "1\n",
            "1\n",
            "1\n",
            "1\n",
            "2\n",
            "2\n",
            "1\n",
            "2\n",
            "1\n",
            "2\n",
            "1\n",
            "2\n",
            "2\n",
            "2\n",
            "1\n",
            "2\n",
            "1\n",
            "1\n",
            "2\n",
            "2\n",
            "2\n",
            "2\n",
            "1\n",
            "2\n",
            "1\n",
            "2\n",
            "1\n",
            "2\n",
            "2\n",
            "2\n",
            "2\n",
            "1\n",
            "1\n",
            "1\n",
            "1\n",
            "2\n",
            "1\n",
            "2\n",
            "1\n",
            "2\n",
            "2\n",
            "2\n",
            "2\n",
            "1\n",
            "1\n",
            "1\n",
            "2\n",
            "1\n",
            "1\n",
            "2\n",
            "2\n",
            "2\n",
            "1\n",
            "2\n",
            "2\n",
            "1\n",
            "2\n",
            "2\n",
            "1\n",
            "1\n",
            "2\n",
            "1\n",
            "2\n",
            "2\n",
            "1\n",
            "1\n",
            "2\n",
            "1\n",
            "2\n",
            "1\n",
            "2\n",
            "2\n",
            "1\n",
            "1\n",
            "1\n",
            "2\n",
            "1\n",
            "2\n",
            "1\n",
            "2\n",
            "2\n",
            "1\n",
            "2\n",
            "2\n",
            "1\n",
            "1\n",
            "2\n",
            "2\n",
            "2\n",
            "1\n",
            "2\n",
            "2\n",
            "2\n",
            "1\n",
            "1\n",
            "1\n",
            "2\n",
            "2\n",
            "2\n",
            "2\n"
          ]
        }
      ]
    },
    {
      "cell_type": "code",
      "source": [
        "word = 'abcdefg'\n",
        "      # 0123456\n",
        "      # 7654321"
      ],
      "metadata": {
        "id": "cJvJaugJQjx2"
      },
      "execution_count": null,
      "outputs": []
    },
    {
      "cell_type": "code",
      "source": [
        "word[5:-6:-1] # \"start at \""
      ],
      "metadata": {
        "colab": {
          "base_uri": "https://localhost:8080/",
          "height": 35
        },
        "id": "8C9ipzdPLE17",
        "outputId": "085ae189-8161-4b78-df9e-e8c511f71f00"
      },
      "execution_count": null,
      "outputs": [
        {
          "output_type": "execute_result",
          "data": {
            "text/plain": [
              "'fedc'"
            ],
            "application/vnd.google.colaboratory.intrinsic+json": {
              "type": "string"
            }
          },
          "metadata": {},
          "execution_count": 53
        }
      ]
    },
    {
      "cell_type": "code",
      "source": [
        "'abcdefg'[5:60]"
      ],
      "metadata": {
        "colab": {
          "base_uri": "https://localhost:8080/",
          "height": 35
        },
        "id": "EzwduUU_Pq5Z",
        "outputId": "55fb7d74-b2af-4cb1-d5c5-df7e64ad6b8c"
      },
      "execution_count": null,
      "outputs": [
        {
          "output_type": "execute_result",
          "data": {
            "text/plain": [
              "'fg'"
            ],
            "application/vnd.google.colaboratory.intrinsic+json": {
              "type": "string"
            }
          },
          "metadata": {},
          "execution_count": 52
        }
      ]
    },
    {
      "cell_type": "code",
      "source": [
        "range(6)"
      ],
      "metadata": {
        "colab": {
          "base_uri": "https://localhost:8080/"
        },
        "id": "BW9dYCIdQT9L",
        "outputId": "86b0e386-3751-421a-c8a3-cde260b5ffb3"
      },
      "execution_count": null,
      "outputs": [
        {
          "output_type": "execute_result",
          "data": {
            "text/plain": [
              "range(0, 6)"
            ]
          },
          "metadata": {},
          "execution_count": 57
        }
      ]
    },
    {
      "cell_type": "code",
      "source": [
        "for num in range(6):\n",
        "    print(num, end=' ')"
      ],
      "metadata": {
        "colab": {
          "base_uri": "https://localhost:8080/"
        },
        "id": "nN8z2bnUSaqp",
        "outputId": "1c8e776f-0fa6-4e7b-c0cb-c8692da35c43"
      },
      "execution_count": null,
      "outputs": [
        {
          "output_type": "stream",
          "name": "stdout",
          "text": [
            "0 1 2 3 4 5 "
          ]
        }
      ]
    },
    {
      "cell_type": "code",
      "source": [
        "'01234567890'[:6]"
      ],
      "metadata": {
        "colab": {
          "base_uri": "https://localhost:8080/",
          "height": 35
        },
        "id": "uYybRZGrSK-Z",
        "outputId": "278c4928-679e-4258-8275-0e7548e4fa39"
      },
      "execution_count": null,
      "outputs": [
        {
          "output_type": "execute_result",
          "data": {
            "text/plain": [
              "'012345'"
            ],
            "application/vnd.google.colaboratory.intrinsic+json": {
              "type": "string"
            }
          },
          "metadata": {},
          "execution_count": 66
        }
      ]
    },
    {
      "cell_type": "code",
      "source": [
        "alphabet = 'abcdefghijklmnopqrstuvwxyz'"
      ],
      "metadata": {
        "id": "gPnotHAWSZqR"
      },
      "execution_count": null,
      "outputs": []
    },
    {
      "cell_type": "code",
      "source": [
        "for char in alphabet[10:]:\n",
        "    print(char)"
      ],
      "metadata": {
        "colab": {
          "base_uri": "https://localhost:8080/"
        },
        "id": "fGOiv6I-S6xm",
        "outputId": "84984d3c-3e9e-4b8e-b71f-8c594b96f55c"
      },
      "execution_count": null,
      "outputs": [
        {
          "output_type": "stream",
          "name": "stdout",
          "text": [
            "k\n",
            "l\n",
            "m\n",
            "n\n",
            "o\n",
            "p\n",
            "q\n",
            "r\n",
            "s\n",
            "t\n",
            "u\n",
            "v\n",
            "w\n",
            "x\n",
            "y\n",
            "z\n"
          ]
        }
      ]
    },
    {
      "cell_type": "code",
      "source": [
        "print(alphabet[:10], alphabet[10:], sep='\\n')"
      ],
      "metadata": {
        "colab": {
          "base_uri": "https://localhost:8080/"
        },
        "id": "Hg9bOqzHTS5q",
        "outputId": "b56ef9ff-69a2-4d7a-8160-0051b3ad4863"
      },
      "execution_count": null,
      "outputs": [
        {
          "output_type": "stream",
          "name": "stdout",
          "text": [
            "abcdefghij\n",
            "klmnopqrstuvwxyz\n"
          ]
        }
      ]
    },
    {
      "cell_type": "code",
      "source": [
        "a = 2\n",
        "b = 4\n",
        "print(f'{a} + {b} = {a + b}')\n",
        "print(a, '+', b, '=', a + b)"
      ],
      "metadata": {
        "colab": {
          "base_uri": "https://localhost:8080/"
        },
        "id": "drOpg9JnXe7x",
        "outputId": "0e277276-9cf8-40d2-ac4c-c6e3c2398706"
      },
      "execution_count": null,
      "outputs": [
        {
          "output_type": "stream",
          "name": "stdout",
          "text": [
            "2 + 4 = 6\n",
            "2 + 4 = 6\n"
          ]
        }
      ]
    },
    {
      "cell_type": "code",
      "source": [
        "for index in range(26):\n",
        "    # f'...' is a Python f-string (f = format)\n",
        "    print(f'alphabet[-{26 - index}], alphabet[{index}] =', alphabet[-(26 - index)], alphabet[index])"
      ],
      "metadata": {
        "colab": {
          "base_uri": "https://localhost:8080/"
        },
        "id": "HKelCLlqTEDk",
        "outputId": "ad8653d0-295c-4660-a7b5-23e24c90c3ce"
      },
      "execution_count": null,
      "outputs": [
        {
          "output_type": "stream",
          "name": "stdout",
          "text": [
            "alphabet[-26], alphabet[0] = a a\n",
            "alphabet[-25], alphabet[1] = b b\n",
            "alphabet[-24], alphabet[2] = c c\n",
            "alphabet[-23], alphabet[3] = d d\n",
            "alphabet[-22], alphabet[4] = e e\n",
            "alphabet[-21], alphabet[5] = f f\n",
            "alphabet[-20], alphabet[6] = g g\n",
            "alphabet[-19], alphabet[7] = h h\n",
            "alphabet[-18], alphabet[8] = i i\n",
            "alphabet[-17], alphabet[9] = j j\n",
            "alphabet[-16], alphabet[10] = k k\n",
            "alphabet[-15], alphabet[11] = l l\n",
            "alphabet[-14], alphabet[12] = m m\n",
            "alphabet[-13], alphabet[13] = n n\n",
            "alphabet[-12], alphabet[14] = o o\n",
            "alphabet[-11], alphabet[15] = p p\n",
            "alphabet[-10], alphabet[16] = q q\n",
            "alphabet[-9], alphabet[17] = r r\n",
            "alphabet[-8], alphabet[18] = s s\n",
            "alphabet[-7], alphabet[19] = t t\n",
            "alphabet[-6], alphabet[20] = u u\n",
            "alphabet[-5], alphabet[21] = v v\n",
            "alphabet[-4], alphabet[22] = w w\n",
            "alphabet[-3], alphabet[23] = x x\n",
            "alphabet[-2], alphabet[24] = y y\n",
            "alphabet[-1], alphabet[25] = z z\n"
          ]
        }
      ]
    },
    {
      "cell_type": "code",
      "source": [
        "str(1)"
      ],
      "metadata": {
        "colab": {
          "base_uri": "https://localhost:8080/",
          "height": 35
        },
        "id": "CiIB5K7BWVxC",
        "outputId": "eb036311-0273-424e-f088-c156dd800e81"
      },
      "execution_count": null,
      "outputs": [
        {
          "output_type": "execute_result",
          "data": {
            "text/plain": [
              "'1'"
            ],
            "application/vnd.google.colaboratory.intrinsic+json": {
              "type": "string"
            }
          },
          "metadata": {},
          "execution_count": 88
        }
      ]
    },
    {
      "cell_type": "code",
      "source": [
        "str(1.1)"
      ],
      "metadata": {
        "colab": {
          "base_uri": "https://localhost:8080/",
          "height": 35
        },
        "id": "8IMlPOHxZAnu",
        "outputId": "78dec940-01df-4eb4-c2e5-eb8bd08138d5"
      },
      "execution_count": null,
      "outputs": [
        {
          "output_type": "execute_result",
          "data": {
            "text/plain": [
              "'1.1'"
            ],
            "application/vnd.google.colaboratory.intrinsic+json": {
              "type": "string"
            }
          },
          "metadata": {},
          "execution_count": 89
        }
      ]
    },
    {
      "cell_type": "code",
      "source": [
        "str('1')"
      ],
      "metadata": {
        "colab": {
          "base_uri": "https://localhost:8080/",
          "height": 35
        },
        "id": "OvN0tpmzZCP4",
        "outputId": "9bcf4150-2afe-4cbf-90a0-0c4e6697cd2b"
      },
      "execution_count": null,
      "outputs": [
        {
          "output_type": "execute_result",
          "data": {
            "text/plain": [
              "'1'"
            ],
            "application/vnd.google.colaboratory.intrinsic+json": {
              "type": "string"
            }
          },
          "metadata": {},
          "execution_count": 90
        }
      ]
    },
    {
      "cell_type": "code",
      "source": [
        "print(1, 1.1, '1')"
      ],
      "metadata": {
        "colab": {
          "base_uri": "https://localhost:8080/"
        },
        "id": "gvjfbSx_ZD4z",
        "outputId": "b45bbf0b-0b2e-4709-bd6b-8e3c2e851034"
      },
      "execution_count": null,
      "outputs": [
        {
          "output_type": "stream",
          "name": "stdout",
          "text": [
            "1 1.1 1\n"
          ]
        }
      ]
    },
    {
      "cell_type": "code",
      "source": [
        "min(4.1, 1.2, 3.1, 2.3, -1.0)"
      ],
      "metadata": {
        "colab": {
          "base_uri": "https://localhost:8080/"
        },
        "id": "VwGMp4KwZOPT",
        "outputId": "35b3d5f8-d3ce-4e31-b2d2-5edf102054c7"
      },
      "execution_count": null,
      "outputs": [
        {
          "output_type": "execute_result",
          "data": {
            "text/plain": [
              "-1.0"
            ]
          },
          "metadata": {},
          "execution_count": 94
        }
      ]
    },
    {
      "cell_type": "code",
      "source": [
        "min('fig', 'pear', 'apple')"
      ],
      "metadata": {
        "colab": {
          "base_uri": "https://localhost:8080/",
          "height": 35
        },
        "id": "2qHsHtyxZczg",
        "outputId": "94abdc50-de6d-4247-9e60-5fac20aacc71"
      },
      "execution_count": null,
      "outputs": [
        {
          "output_type": "execute_result",
          "data": {
            "text/plain": [
              "'apple'"
            ],
            "application/vnd.google.colaboratory.intrinsic+json": {
              "type": "string"
            }
          },
          "metadata": {},
          "execution_count": 95
        }
      ]
    },
    {
      "cell_type": "code",
      "source": [
        "pow(2.0, 4.3)"
      ],
      "metadata": {
        "colab": {
          "base_uri": "https://localhost:8080/"
        },
        "id": "HfOAUWrXZ13S",
        "outputId": "c6db286f-aca8-4a4f-f0ed-631ea1043fcf"
      },
      "execution_count": null,
      "outputs": [
        {
          "output_type": "execute_result",
          "data": {
            "text/plain": [
              "19.698310613518657"
            ]
          },
          "metadata": {},
          "execution_count": 99
        }
      ]
    },
    {
      "cell_type": "code",
      "source": [
        "my_string = 'test'"
      ],
      "metadata": {
        "id": "FY8UcdXfZ9jI"
      },
      "execution_count": null,
      "outputs": []
    },
    {
      "cell_type": "code",
      "source": [
        "my_string."
      ],
      "metadata": {
        "colab": {
          "base_uri": "https://localhost:8080/"
        },
        "id": "1pQ40Oxhcthn",
        "outputId": "cb4e6712-5be7-4911-a154-7c876442ef1e"
      },
      "execution_count": null,
      "outputs": [
        {
          "output_type": "execute_result",
          "data": {
            "text/plain": [
              "False"
            ]
          },
          "metadata": {},
          "execution_count": 102
        }
      ]
    },
    {
      "cell_type": "code",
      "source": [
        "x = 1"
      ],
      "metadata": {
        "id": "FcEoCtoEdBH2"
      },
      "execution_count": null,
      "outputs": []
    },
    {
      "cell_type": "code",
      "source": [
        "x = 5"
      ],
      "metadata": {
        "id": "h8DG245NekJ5"
      },
      "execution_count": null,
      "outputs": []
    },
    {
      "cell_type": "code",
      "source": [
        "name = 'dave'"
      ],
      "metadata": {
        "id": "hJwFvdGrekmy"
      },
      "execution_count": null,
      "outputs": []
    },
    {
      "cell_type": "code",
      "source": [
        "name = 'Dave'"
      ],
      "metadata": {
        "id": "9_VvBcezhYwL"
      },
      "execution_count": null,
      "outputs": []
    },
    {
      "cell_type": "markdown",
      "source": [
        "## Quick Lab: String Functions\n",
        "* write a Python program to read in a sentence and tell the user how many vowels are in that sentence\n",
        "* so if the user entered \"Apples are my favorite fruit\", your program would respond with 10 (or 11 if you count 'y' as a vowel)\n",
        "* output the original string with any vowels \"highlighted\" by making them upper case, e.g., **ApplEs ArE my fAvOrItE frUIt**"
      ],
      "metadata": {
        "id": "JhGoTJz0DQC_"
      }
    },
    {
      "cell_type": "code",
      "source": [
        "# 0. ask the other person to provide a sentence\n",
        "# 1. look at each letter of the sentence\n",
        "# 2.     if it's a vowel:\n",
        "# 3.          write it on the other whiteboard as a capital letter\n",
        "# 3a.         add 1 to your count / \"count it\"\n",
        "# 4.     else:\n",
        "# 5.          write it on the other whiteboard as a lowercase letter\n",
        "# 6.  write down or tell what the count is"
      ],
      "metadata": {
        "id": "iM1AAftFDQUe"
      },
      "execution_count": null,
      "outputs": []
    },
    {
      "cell_type": "code",
      "source": [
        "vowel_count = 0 # 3a\n",
        "#sentence = \"Apples are my favorite fruit\".lower()\n",
        "sentence = input('Enter some text: ').lower() # 0\n",
        "\n",
        "for character in sentence: # 1 \"for EACH character in sentence\"\n",
        "    if character.lower() in 'aeiou': # 2\n",
        "        print(character.upper(), end='') # 3\n",
        "        vowel_count += 1 # 3a (vowel_count = vowel_count + 1)\n",
        "    else: # 4\n",
        "        print(character.lower(), end='') # 5\n",
        "\n",
        "print('\\n\\nNumber of vowels:', vowel_count) # 6\n"
      ],
      "metadata": {
        "colab": {
          "base_uri": "https://localhost:8080/"
        },
        "id": "BWIzdyqcElPO",
        "outputId": "eb01200a-1171-4675-bd21-956f18297240"
      },
      "execution_count": null,
      "outputs": [
        {
          "output_type": "stream",
          "name": "stdout",
          "text": [
            "Enter some text: Ok, now does this work? aeiou.\n",
            "Ok, nOw dOEs thIs wOrk? AEIOU.\n",
            "\n",
            "Number of vowels: 11\n"
          ]
        }
      ]
    },
    {
      "cell_type": "code",
      "source": [
        "character = 'y'\n",
        "character.lower() in 'aeiouy'"
      ],
      "metadata": {
        "colab": {
          "base_uri": "https://localhost:8080/"
        },
        "id": "UaFQqOvIGzcG",
        "outputId": "fbe18f01-cbc8-4998-ddff-9a9decc3900c"
      },
      "execution_count": null,
      "outputs": [
        {
          "output_type": "execute_result",
          "data": {
            "text/plain": [
              "True"
            ]
          },
          "metadata": {},
          "execution_count": 13
        }
      ]
    },
    {
      "cell_type": "code",
      "source": [
        "# 0. ask the other person to provide a sentence\n",
        "# 1. look at each letter of the sentence\n",
        "# 2.     if it's a vowel:\n",
        "# 3.          write it on the other whiteboard as a capital letter\n",
        "# 3a.         add 1 to your count / \"count it\"\n",
        "# 4.     else:\n",
        "# 5.          write it on the other whiteboard as a lowercase letter\n",
        "# 6.  write down or tell what the count is"
      ],
      "metadata": {
        "id": "rPRo2plDHl16"
      },
      "execution_count": null,
      "outputs": []
    },
    {
      "cell_type": "code",
      "source": [
        "# prompt: # 0. ask the other person to provide a sentence\n",
        "# # 1. look at each letter of the sentence\n",
        "# # 2.     if it's a vowel:\n",
        "# # 3.          write it on the other whiteboard as a capital letter\n",
        "# # 3a.         add 1 to your count / \"count it\"\n",
        "# # 4.     else:\n",
        "# # 5.          write it on the other whiteboard as a lowercase letter\n",
        "# # 6.  write down or tell what the count is\n",
        "\n",
        "vowel_count = 0\n",
        "sentence = input('Enter some text: ')\n",
        "output_sentence = \"\"\n",
        "\n",
        "for character in sentence:\n",
        "    if character.lower() in 'aeiou':\n",
        "        output_sentence += character.upper()\n",
        "        vowel_count += 1\n",
        "    else:\n",
        "        output_sentence += character.lower()\n",
        "\n",
        "print(output_sentence)\n",
        "print('Number of vowels:', vowel_count)\n"
      ],
      "metadata": {
        "id": "0EO309GlK1kK"
      },
      "execution_count": null,
      "outputs": []
    },
    {
      "cell_type": "markdown",
      "source": [
        "## Lab: String Functions\n",
        "* write a Python program to read in a string/sentence and then read in a number __`n`__ (give it a better name, but we'll use __`n`__ for this explanation)\n",
        "* your program will print out the sentence such that the first __`n`__ characters (including any spaces) are upper case, then the next __`n`__ characters (including any spaces) are lower case, and so on\n",
        "  * so if the user entered __`Now is the time`__ followed by __`4`__, your program would output __`NOW is tHE Time`__\n",
        "  * notice that spaces are characters, so in the above example, __`Now `__ are the first 4 characters and they are printed as upper case (the space will of course not be printed any differently, it will just be a space)"
      ],
      "metadata": {
        "id": "UCYZPxl7OfM1"
      }
    },
    {
      "cell_type": "code",
      "source": [
        "# 0. given some text, an integer n/count\n",
        "# 1. look at/consider each group of n characters on the whiteboard (spaces count\n",
        "#   as a character) starting from the beginning\n",
        "# 2. write those same characters on the other whiteboard\n",
        "#.    - the first group should be written as upper case, the next as lower, and keep alternating\n",
        "# NOTE:\n",
        "#.  spaces count as characters, so if you have the word 'the' followed by a space that's\n",
        "# the final group may not be 4 characters, just use however many are left"
      ],
      "metadata": {
        "id": "YzBj5sucOflq"
      },
      "execution_count": null,
      "outputs": []
    },
    {
      "cell_type": "code",
      "source": [
        "text = 'Now is the time' # 0, eventually we will input()\n",
        "group_size = 4 # 0, how many characters to consider at a time\n",
        "\n",
        "# first let's be sure we can partition the string into groups of 4 (or group_size)\n",
        "# this would be the \"consider\"/\"look at\" step\n",
        "\n",
        "# we could take len() and divide by 4, but it might be better to use slicing\n",
        "# what is the slice that describes first 4...[:4] (or [0:4])\n",
        "\n",
        "text[0:4]"
      ],
      "metadata": {
        "colab": {
          "base_uri": "https://localhost:8080/",
          "height": 35
        },
        "id": "0AvkgjfURGO_",
        "outputId": "f9d2de69-d53f-47b0-b902-052f29c9b126"
      },
      "execution_count": null,
      "outputs": [
        {
          "output_type": "execute_result",
          "data": {
            "text/plain": [
              "'Now '"
            ],
            "application/vnd.google.colaboratory.intrinsic+json": {
              "type": "string"
            }
          },
          "metadata": {},
          "execution_count": 20
        }
      ]
    },
    {
      "cell_type": "code",
      "source": [
        "text[4:8]"
      ],
      "metadata": {
        "colab": {
          "base_uri": "https://localhost:8080/",
          "height": 35
        },
        "id": "A7r_IzpDRum3",
        "outputId": "563a89ca-4147-4b0b-f381-ef0cdc4d2740"
      },
      "execution_count": null,
      "outputs": [
        {
          "output_type": "execute_result",
          "data": {
            "text/plain": [
              "'is t'"
            ],
            "application/vnd.google.colaboratory.intrinsic+json": {
              "type": "string"
            }
          },
          "metadata": {},
          "execution_count": 21
        }
      ]
    },
    {
      "cell_type": "code",
      "source": [
        "# we can see that if we count by 4's (or whatever the group size is), we can\n",
        "# determine the bounds of the slice...0:4, 4:8, 8:12, 12:16, etc.\n",
        "for lower_bound in range(0, len(text), group_size): # AI did this\n",
        "    print(f'{text[lower_bound:lower_bound + group_size]} {lower_bound}:{lower_bound + group_size} ')"
      ],
      "metadata": {
        "colab": {
          "base_uri": "https://localhost:8080/"
        },
        "id": "LsIuG7NYRxml",
        "outputId": "259442bc-cfa0-4f72-a55b-d7a47ed330f0"
      },
      "execution_count": null,
      "outputs": [
        {
          "output_type": "stream",
          "name": "stdout",
          "text": [
            "Now  0:4 \n",
            "is t 4:8 \n",
            "he t 8:12 \n",
            "ime 12:16 \n"
          ]
        }
      ]
    },
    {
      "cell_type": "code",
      "source": [
        "# or, we can iterate 1 character a time, but notice which \"group\" we are in...\n",
        "for index in range(len(text)): # go thru all characters\n",
        "    group_number = index // 4 # divide by 4 to get group number\n",
        "    print(f'{text[index]} {group_number}')"
      ],
      "metadata": {
        "colab": {
          "base_uri": "https://localhost:8080/"
        },
        "id": "HZoWZYnjSLNx",
        "outputId": "afcad839-fcce-4a09-8c83-22973a63815a"
      },
      "execution_count": null,
      "outputs": [
        {
          "output_type": "stream",
          "name": "stdout",
          "text": [
            "N 0\n",
            "o 0\n",
            "w 0\n",
            "  0\n",
            "i 1\n",
            "s 1\n",
            "  1\n",
            "t 1\n",
            "h 2\n",
            "e 2\n",
            "  2\n",
            "t 2\n",
            "i 3\n",
            "m 3\n",
            "e 3\n"
          ]
        }
      ]
    },
    {
      "cell_type": "code",
      "source": [
        "# if we are in an \"even\" group (0, 2, 4, ...) then UPPER case\n",
        "for index in range(len(text)): # go thru all characters\n",
        "    group_number = index // 4 # divide by 4 to get group number\n",
        "    if group_number % 2 == 0: # AI did this\n",
        "        print(text[index].upper(), end='')\n",
        "    else:\n",
        "        print(text[index].lower(), end='')"
      ],
      "metadata": {
        "colab": {
          "base_uri": "https://localhost:8080/"
        },
        "id": "XELkY8Q2SzEF",
        "outputId": "c5a6db95-6903-458a-9721-463cbaa25b6c"
      },
      "execution_count": null,
      "outputs": [
        {
          "output_type": "stream",
          "name": "stdout",
          "text": [
            "NOW is tHE Time"
          ]
        }
      ]
    },
    {
      "cell_type": "code",
      "source": [
        "s = 'Now is the time'"
      ],
      "metadata": {
        "id": "VPlhdDMnWPvD"
      },
      "execution_count": null,
      "outputs": []
    },
    {
      "cell_type": "code",
      "source": [
        "s[:4] # give me the first 4"
      ],
      "metadata": {
        "colab": {
          "base_uri": "https://localhost:8080/",
          "height": 35
        },
        "id": "kBXQM9TAXYC4",
        "outputId": "776c19d0-b38a-4ff2-80e5-e94345904a66"
      },
      "execution_count": null,
      "outputs": [
        {
          "output_type": "execute_result",
          "data": {
            "text/plain": [
              "'Now '"
            ],
            "application/vnd.google.colaboratory.intrinsic+json": {
              "type": "string"
            }
          },
          "metadata": {},
          "execution_count": 32
        }
      ]
    },
    {
      "cell_type": "code",
      "source": [
        "s[0:4] # 0..3 (4 characters)"
      ],
      "metadata": {
        "colab": {
          "base_uri": "https://localhost:8080/",
          "height": 35
        },
        "id": "UwTujm-5Xa0d",
        "outputId": "5cafb27e-ce3b-44bb-d55e-f88efd679f49"
      },
      "execution_count": null,
      "outputs": [
        {
          "output_type": "execute_result",
          "data": {
            "text/plain": [
              "'Now '"
            ],
            "application/vnd.google.colaboratory.intrinsic+json": {
              "type": "string"
            }
          },
          "metadata": {},
          "execution_count": 33
        }
      ]
    },
    {
      "cell_type": "code",
      "source": [
        "s[4:8] # 4, 5, 6, 7"
      ],
      "metadata": {
        "colab": {
          "base_uri": "https://localhost:8080/",
          "height": 35
        },
        "id": "4YWIrqKiXiba",
        "outputId": "41a6eed2-b1da-4f45-a84b-613a592353b8"
      },
      "execution_count": null,
      "outputs": [
        {
          "output_type": "execute_result",
          "data": {
            "text/plain": [
              "'is t'"
            ],
            "application/vnd.google.colaboratory.intrinsic+json": {
              "type": "string"
            }
          },
          "metadata": {},
          "execution_count": 34
        }
      ]
    },
    {
      "cell_type": "code",
      "source": [
        "s[8:12]"
      ],
      "metadata": {
        "colab": {
          "base_uri": "https://localhost:8080/",
          "height": 35
        },
        "id": "lCfGUkF5XqeY",
        "outputId": "122b1439-ef99-4461-91b2-88bdd41d47ce"
      },
      "execution_count": null,
      "outputs": [
        {
          "output_type": "execute_result",
          "data": {
            "text/plain": [
              "'he t'"
            ],
            "application/vnd.google.colaboratory.intrinsic+json": {
              "type": "string"
            }
          },
          "metadata": {},
          "execution_count": 35
        }
      ]
    },
    {
      "cell_type": "code",
      "source": [
        "s[12:16]"
      ],
      "metadata": {
        "colab": {
          "base_uri": "https://localhost:8080/",
          "height": 35
        },
        "id": "1qIIFLEOX7BW",
        "outputId": "3c3ed1ae-ca27-494f-ae4d-9f4221f99c3b"
      },
      "execution_count": null,
      "outputs": [
        {
          "output_type": "execute_result",
          "data": {
            "text/plain": [
              "'ime'"
            ],
            "application/vnd.google.colaboratory.intrinsic+json": {
              "type": "string"
            }
          },
          "metadata": {},
          "execution_count": 37
        }
      ]
    },
    {
      "cell_type": "code",
      "source": [
        "chunk_number = 1\n",
        "\n",
        "for index in range(0, len(s), 4):\n",
        "    print(index, ':', index + 4, end=' ')\n",
        "    if chunk_number % 2 == 1:\n",
        "        print(s[index:index + 4].upper())\n",
        "    else:\n",
        "        print(s[index:index + 4].lower())\n",
        "    chunk_number += 1"
      ],
      "metadata": {
        "colab": {
          "base_uri": "https://localhost:8080/"
        },
        "id": "b0eO7KnMX8jU",
        "outputId": "b3480f33-be9f-473b-cf91-3d917ab9105f"
      },
      "execution_count": null,
      "outputs": [
        {
          "output_type": "stream",
          "name": "stdout",
          "text": [
            "0 : 4 NOW \n",
            "4 : 8 is t\n",
            "8 : 12 HE T\n",
            "12 : 16 ime\n"
          ]
        }
      ]
    },
    {
      "cell_type": "code",
      "source": [
        "for character in s:\n",
        "    print(character)"
      ],
      "metadata": {
        "colab": {
          "base_uri": "https://localhost:8080/"
        },
        "id": "JHzbVbDGZgm3",
        "outputId": "1d20612b-b6c0-4353-e744-50b3ed2a56b8"
      },
      "execution_count": null,
      "outputs": [
        {
          "output_type": "stream",
          "name": "stdout",
          "text": [
            "N\n",
            "o\n",
            "w\n",
            " \n",
            "i\n",
            "s\n",
            " \n",
            "t\n",
            "h\n",
            "e\n",
            " \n",
            "t\n",
            "i\n",
            "m\n",
            "e\n"
          ]
        }
      ]
    },
    {
      "cell_type": "code",
      "source": [
        "for index in range(0, len(s)): # 0..len(s)-1\n",
        "    # 0, 1, 2, 3, 4, 5, 6, 7, ...\n",
        "    # divide by 4\n",
        "    # 0, 0, 0, 0, 1, 1, 1, 1,\n",
        "    # print(index, index // 4, end=' ')\n",
        "    if (index // 4) % 2 == 0:\n",
        "        print(s[index].upper(), end='')\n",
        "    else:\n",
        "        print(s[index].lower(), end='')"
      ],
      "metadata": {
        "colab": {
          "base_uri": "https://localhost:8080/"
        },
        "id": "iFp2utDibpBt",
        "outputId": "13ee02b8-2b72-4d2d-cbd3-4a75b01a1397"
      },
      "execution_count": null,
      "outputs": [
        {
          "output_type": "stream",
          "name": "stdout",
          "text": [
            "NOW is tHE Time"
          ]
        }
      ]
    },
    {
      "cell_type": "code",
      "source": [
        "8 // 4"
      ],
      "metadata": {
        "colab": {
          "base_uri": "https://localhost:8080/"
        },
        "id": "DywjEWOacYtv",
        "outputId": "1c53f6e5-7af7-4d72-e55e-de9280778e98"
      },
      "execution_count": null,
      "outputs": [
        {
          "output_type": "execute_result",
          "data": {
            "text/plain": [
              "2"
            ]
          },
          "metadata": {},
          "execution_count": 52
        }
      ]
    },
    {
      "cell_type": "code",
      "source": [],
      "metadata": {
        "colab": {
          "base_uri": "https://localhost:8080/",
          "height": 35
        },
        "id": "5chbyP-9cbM2",
        "outputId": "a9b6b6f5-e5fb-42ad-b75e-b2eb6d0388b8"
      },
      "execution_count": null,
      "outputs": [
        {
          "output_type": "execute_result",
          "data": {
            "text/plain": [
              "'Now is the time'"
            ],
            "application/vnd.google.colaboratory.intrinsic+json": {
              "type": "string"
            }
          },
          "metadata": {},
          "execution_count": 58
        }
      ]
    },
    {
      "cell_type": "code",
      "source": [
        "for thing in 'hello':\n",
        "    print(thing)"
      ],
      "metadata": {
        "colab": {
          "base_uri": "https://localhost:8080/"
        },
        "id": "Onaoyw7lew4H",
        "outputId": "dd76384a-88af-419f-d469-3fa0b02a30b6"
      },
      "execution_count": null,
      "outputs": [
        {
          "output_type": "stream",
          "name": "stdout",
          "text": [
            "h\n",
            "e\n",
            "l\n",
            "l\n",
            "o\n"
          ]
        }
      ]
    },
    {
      "cell_type": "code",
      "source": [
        "'a b c'.split()"
      ],
      "metadata": {
        "colab": {
          "base_uri": "https://localhost:8080/"
        },
        "id": "n_D89ob-zOSu",
        "outputId": "2502fab5-ddfe-47fd-c342-5590dc398bb7"
      },
      "execution_count": null,
      "outputs": [
        {
          "output_type": "execute_result",
          "data": {
            "text/plain": [
              "['a', 'b', 'c']"
            ]
          },
          "metadata": {},
          "execution_count": 60
        }
      ]
    },
    {
      "cell_type": "code",
      "source": [
        "'abc'.split()"
      ],
      "metadata": {
        "colab": {
          "base_uri": "https://localhost:8080/"
        },
        "id": "lZ4QaORVzQKg",
        "outputId": "5d48129d-9cf8-4460-8ecc-02ed392ed9eb"
      },
      "execution_count": null,
      "outputs": [
        {
          "output_type": "execute_result",
          "data": {
            "text/plain": [
              "['abc']"
            ]
          },
          "metadata": {},
          "execution_count": 61
        }
      ]
    },
    {
      "cell_type": "code",
      "source": [
        "list('abc')"
      ],
      "metadata": {
        "colab": {
          "base_uri": "https://localhost:8080/"
        },
        "id": "VG2JrShBzane",
        "outputId": "1be5b55d-33ac-4812-a1fa-40df63c84ba4"
      },
      "execution_count": null,
      "outputs": [
        {
          "output_type": "execute_result",
          "data": {
            "text/plain": [
              "['a', 'b', 'c']"
            ]
          },
          "metadata": {},
          "execution_count": 62
        }
      ]
    },
    {
      "cell_type": "code",
      "source": [
        "weird_list = ['Dave', 1, 1.23, [1, 2, 3], True]"
      ],
      "metadata": {
        "id": "t6EN1kVCzbf6"
      },
      "execution_count": null,
      "outputs": []
    },
    {
      "cell_type": "code",
      "source": [
        "for item in weird_list:\n",
        "    if type(item) == str:\n",
        "        print('Hi', item)\n",
        "    elif type(item) == int:\n",
        "        print(5 * item)\n",
        "    elif type(item) == float:\n",
        "        print(13 / item)\n",
        "    elif type(item) == list:\n",
        "        for subitem in item:\n",
        "            print(subitem, end='...')\n",
        "    else:\n",
        "        print('\\nunknown type:', type(item))"
      ],
      "metadata": {
        "colab": {
          "base_uri": "https://localhost:8080/"
        },
        "id": "lghPpyVt1DiA",
        "outputId": "909aeb59-bbd0-479f-ebce-0329805d7bb8"
      },
      "execution_count": null,
      "outputs": [
        {
          "output_type": "stream",
          "name": "stdout",
          "text": [
            "Hi Dave\n",
            "5\n",
            "10.56910569105691\n",
            "1...2...3...unknown type: <class 'bool'>\n"
          ]
        }
      ]
    },
    {
      "cell_type": "code",
      "source": [
        "company = 'intuit'"
      ],
      "metadata": {
        "id": "9kyCoVIX1m44"
      },
      "execution_count": null,
      "outputs": []
    },
    {
      "cell_type": "code",
      "source": [
        "letters = list(company)"
      ],
      "metadata": {
        "id": "5Y8B5zExBg8F"
      },
      "execution_count": null,
      "outputs": []
    },
    {
      "cell_type": "code",
      "source": [
        "letters"
      ],
      "metadata": {
        "colab": {
          "base_uri": "https://localhost:8080/"
        },
        "id": "M3PfPNe-BpG2",
        "outputId": "03acf405-686f-46c4-ca58-be028409b6e8"
      },
      "execution_count": null,
      "outputs": [
        {
          "output_type": "execute_result",
          "data": {
            "text/plain": [
              "['i', 'n', 't', 'u', 'i', 't']"
            ]
          },
          "metadata": {},
          "execution_count": 71
        }
      ]
    },
    {
      "cell_type": "code",
      "source": [
        "import random\n",
        "random.shuffle(letters)\n",
        "letters"
      ],
      "metadata": {
        "colab": {
          "base_uri": "https://localhost:8080/"
        },
        "id": "ZrIU2_nyBsUl",
        "outputId": "734a3012-baef-41d6-92a6-c658d3c9396e"
      },
      "execution_count": null,
      "outputs": [
        {
          "output_type": "execute_result",
          "data": {
            "text/plain": [
              "['u', 'n', 'i', 't', 't', 'i']"
            ]
          },
          "metadata": {},
          "execution_count": 72
        }
      ]
    },
    {
      "cell_type": "code",
      "source": [
        "''.join(letters)"
      ],
      "metadata": {
        "colab": {
          "base_uri": "https://localhost:8080/",
          "height": 35
        },
        "id": "MfR1S6_cB2VV",
        "outputId": "934b9712-a893-4773-d076-639779c5b8d7"
      },
      "execution_count": null,
      "outputs": [
        {
          "output_type": "execute_result",
          "data": {
            "text/plain": [
              "'unitti'"
            ],
            "application/vnd.google.colaboratory.intrinsic+json": {
              "type": "string"
            }
          },
          "metadata": {},
          "execution_count": 73
        }
      ]
    },
    {
      "cell_type": "code",
      "source": [
        "list.sort?"
      ],
      "metadata": {
        "id": "9UDtlEQFB7px"
      },
      "execution_count": null,
      "outputs": []
    },
    {
      "cell_type": "code",
      "source": [
        "input('Enter a list of items: ').split()"
      ],
      "metadata": {
        "colab": {
          "base_uri": "https://localhost:8080/"
        },
        "id": "6-e37EawNiqY",
        "outputId": "d18e6902-a61a-4d7c-850f-806f3b123f78"
      },
      "execution_count": null,
      "outputs": [
        {
          "name": "stdout",
          "output_type": "stream",
          "text": [
            "Enter a list of items: apple fig pear\n"
          ]
        },
        {
          "output_type": "execute_result",
          "data": {
            "text/plain": [
              "['apple', 'fig', 'pear']"
            ]
          },
          "metadata": {},
          "execution_count": 78
        }
      ]
    },
    {
      "cell_type": "markdown",
      "source": [
        "## Quick Lab: Lists\n",
        "* Write a program that asks the user to input two lists and then finds and prints the common elements between them\n",
        "<pre>\n",
        "Enter a list of items: <b>apple cherry banana lemon</b>\n",
        "Enter a second list of items: <b>apple guava banana lime</b>\n",
        "Common elements: apple banana"
      ],
      "metadata": {
        "id": "0lR3WTXOPGw8"
      }
    },
    {
      "cell_type": "code",
      "source": [
        "first_list = input('Enter a list of items: ').split() # make into a list\n",
        "second_list = input('Enter a second list of items: ').split() # make into a list\n",
        "common = []\n",
        "\n",
        "for item in second_list: # for each item in the (second) list\n",
        "    if item in first_list: # is that item also in the other list?\n",
        "        common.append(item)\n",
        "\n",
        "print(common)"
      ],
      "metadata": {
        "colab": {
          "base_uri": "https://localhost:8080/"
        },
        "id": "TQm0_fO3Nle5",
        "outputId": "4d731310-9b2e-4134-c94e-93cad884f442"
      },
      "execution_count": null,
      "outputs": [
        {
          "output_type": "stream",
          "name": "stdout",
          "text": [
            "Enter a list of items: apple cherry banana lemon\n",
            "Enter a second list of items: fig\n",
            "[]\n"
          ]
        }
      ]
    },
    {
      "cell_type": "code",
      "source": [],
      "metadata": {
        "id": "7Qc-lpuuPbwA"
      },
      "execution_count": null,
      "outputs": []
    },
    {
      "cell_type": "markdown",
      "source": [
        "## Group Lab: Lists\n",
        "* Write a Python program to maintain a list\n",
        "  * Read input until the user enters 'quit'\n",
        "  * Words that the user enters should be added to the list\n",
        "  * If a word begins with '-' (e.g., '-foo') it should be removed from the list\n",
        "  * If the user enters only a '-', the list should be reversed\n",
        "  * After each operation, print the list\n",
        "  * Extras:\n",
        "      * If user enters more than one word (e.g, __foo bar__), add \"foo\" and \"bar\" to the list, rather than \"foo bar\"\n",
        "      * Same for \"-\", i.e., __-foo bar__ would remove \"foo\" and \"bar\" from the  list"
      ],
      "metadata": {
        "id": "pIkGYgtnT3F7"
      }
    },
    {
      "cell_type": "code",
      "source": [
        "user_response = input('Enter: ') # apple\n",
        "\n",
        "while user_response != 'quit': # not quit\n",
        "    print('process', user_response) # process apple\n",
        "    user_response = input('Enter: ')"
      ],
      "metadata": {
        "colab": {
          "base_uri": "https://localhost:8080/"
        },
        "id": "O1SfsJoVT5hT",
        "outputId": "131f4e91-3448-4933-9848-8c22bad19e9a"
      },
      "execution_count": null,
      "outputs": [
        {
          "name": "stdout",
          "output_type": "stream",
          "text": [
            "Enter: apple\n",
            "process apple\n",
            "Enter: quit\n"
          ]
        }
      ]
    },
    {
      "cell_type": "code",
      "source": [
        "responses = []\n",
        "\n",
        "while (user_response := input('Enter: ')) != 'quit':\n",
        "    if user_response[0] == '-':\n",
        "        responses.remove(user_response[1:]) # remove everything but the -\n",
        "    else:\n",
        "        responses.append(user_response)\n",
        "    print(responses)"
      ],
      "metadata": {
        "colab": {
          "base_uri": "https://localhost:8080/",
          "height": 412
        },
        "id": "91k5R5B4VggO",
        "outputId": "d53b40f1-3f24-4012-e1df-0b14d4e749a3"
      },
      "execution_count": null,
      "outputs": [
        {
          "name": "stdout",
          "output_type": "stream",
          "text": [
            "Enter: apple\n",
            "['apple']\n",
            "Enter: -apple\n",
            "[]\n",
            "Enter: fig\n",
            "['fig']\n",
            "Enter: pear\n",
            "['fig', 'pear']\n",
            "Enter: -pear\n",
            "['fig']\n",
            "Enter: -apple\n"
          ]
        },
        {
          "output_type": "error",
          "ename": "ValueError",
          "evalue": "list.remove(x): x not in list",
          "traceback": [
            "\u001b[0;31m---------------------------------------------------------------------------\u001b[0m",
            "\u001b[0;31mValueError\u001b[0m                                Traceback (most recent call last)",
            "\u001b[0;32m/tmp/ipython-input-90-3355135471.py\u001b[0m in \u001b[0;36m<cell line: 0>\u001b[0;34m()\u001b[0m\n\u001b[1;32m      3\u001b[0m \u001b[0;32mwhile\u001b[0m \u001b[0;34m(\u001b[0m\u001b[0muser_response\u001b[0m \u001b[0;34m:=\u001b[0m \u001b[0minput\u001b[0m\u001b[0;34m(\u001b[0m\u001b[0;34m'Enter: '\u001b[0m\u001b[0;34m)\u001b[0m\u001b[0;34m)\u001b[0m \u001b[0;34m!=\u001b[0m \u001b[0;34m'quit'\u001b[0m\u001b[0;34m:\u001b[0m\u001b[0;34m\u001b[0m\u001b[0;34m\u001b[0m\u001b[0m\n\u001b[1;32m      4\u001b[0m     \u001b[0;32mif\u001b[0m \u001b[0muser_response\u001b[0m\u001b[0;34m[\u001b[0m\u001b[0;36m0\u001b[0m\u001b[0;34m]\u001b[0m \u001b[0;34m==\u001b[0m \u001b[0;34m'-'\u001b[0m\u001b[0;34m:\u001b[0m\u001b[0;34m\u001b[0m\u001b[0;34m\u001b[0m\u001b[0m\n\u001b[0;32m----> 5\u001b[0;31m         \u001b[0mresponses\u001b[0m\u001b[0;34m.\u001b[0m\u001b[0mremove\u001b[0m\u001b[0;34m(\u001b[0m\u001b[0muser_response\u001b[0m\u001b[0;34m[\u001b[0m\u001b[0;36m1\u001b[0m\u001b[0;34m:\u001b[0m\u001b[0;34m]\u001b[0m\u001b[0;34m)\u001b[0m \u001b[0;31m# remove everything but the -\u001b[0m\u001b[0;34m\u001b[0m\u001b[0;34m\u001b[0m\u001b[0m\n\u001b[0m\u001b[1;32m      6\u001b[0m     \u001b[0;32melse\u001b[0m\u001b[0;34m:\u001b[0m\u001b[0;34m\u001b[0m\u001b[0;34m\u001b[0m\u001b[0m\n\u001b[1;32m      7\u001b[0m         \u001b[0mresponses\u001b[0m\u001b[0;34m.\u001b[0m\u001b[0mappend\u001b[0m\u001b[0;34m(\u001b[0m\u001b[0muser_response\u001b[0m\u001b[0;34m)\u001b[0m\u001b[0;34m\u001b[0m\u001b[0;34m\u001b[0m\u001b[0m\n",
            "\u001b[0;31mValueError\u001b[0m: list.remove(x): x not in list"
          ]
        }
      ]
    },
    {
      "cell_type": "code",
      "source": [
        "'-apple'[1:]"
      ],
      "metadata": {
        "colab": {
          "base_uri": "https://localhost:8080/",
          "height": 35
        },
        "id": "T3-es5C7Yz7D",
        "outputId": "cda35499-a5bc-4c63-adb9-efd671a2a679"
      },
      "execution_count": null,
      "outputs": [
        {
          "output_type": "execute_result",
          "data": {
            "text/plain": [
              "'apple'"
            ],
            "application/vnd.google.colaboratory.intrinsic+json": {
              "type": "string"
            }
          },
          "metadata": {},
          "execution_count": 89
        }
      ]
    },
    {
      "cell_type": "code",
      "source": [
        "responses = []\n",
        "\n",
        "while (user_response := input('Enter: ')) != 'quit':\n",
        "    if user_response[0] == '-':\n",
        "        # -apple vs. -\n",
        "        if user_response == '-':\n",
        "            reversed_version = responses[::-1]\n",
        "            if reversed_version == responses:\n",
        "                print(\"Reversing this list will produce the same list\")\n",
        "            else:\n",
        "                responses.reverse()\n",
        "        else:\n",
        "            responses.remove(user_response[1:]) # remove everything but the -\n",
        "    else:\n",
        "        responses.append(user_response)\n",
        "    print(responses)"
      ],
      "metadata": {
        "colab": {
          "base_uri": "https://localhost:8080/"
        },
        "id": "G7i-Dp8EZT1h",
        "outputId": "33f81764-a07e-48f1-e375-a366c45a2621"
      },
      "execution_count": null,
      "outputs": [
        {
          "name": "stdout",
          "output_type": "stream",
          "text": [
            "Enter: -\n",
            "Reversing this list will produce the same list\n",
            "[]\n",
            "Enter: apple\n",
            "['apple']\n",
            "Enter: -\n",
            "Reversing this list will produce the same list\n",
            "['apple']\n",
            "Enter: fig\n",
            "['apple', 'fig']\n",
            "Enter: -\n",
            "['fig', 'apple']\n",
            "Enter: -apple\n",
            "['fig']\n",
            "Enter: fig\n",
            "['fig', 'fig']\n",
            "Enter: -\n",
            "Reversing this list will produce the same list\n",
            "['fig', 'fig']\n",
            "Enter: quit\n"
          ]
        }
      ]
    },
    {
      "cell_type": "code",
      "source": [
        "employee = 'Jones', 'Jane', 1023, 'jane@intuit.com'"
      ],
      "metadata": {
        "id": "KDTR4fqBajmz"
      },
      "execution_count": null,
      "outputs": []
    },
    {
      "cell_type": "code",
      "source": [
        "employee"
      ],
      "metadata": {
        "colab": {
          "base_uri": "https://localhost:8080/"
        },
        "id": "WJ9Zo9zhqNv3",
        "outputId": "9aa40623-9976-4ade-8585-edfdef3178b8"
      },
      "execution_count": null,
      "outputs": [
        {
          "output_type": "execute_result",
          "data": {
            "text/plain": [
              "('Jones', 'Jane', 1023, 'jane@intuit.com')"
            ]
          },
          "metadata": {},
          "execution_count": 98
        }
      ]
    },
    {
      "cell_type": "code",
      "source": [
        "_, _, employee_id, email = employee"
      ],
      "metadata": {
        "id": "N73P9GJIqORA"
      },
      "execution_count": null,
      "outputs": []
    },
    {
      "cell_type": "code",
      "source": [
        "employee_id"
      ],
      "metadata": {
        "colab": {
          "base_uri": "https://localhost:8080/"
        },
        "id": "paN1Ce7fqVZC",
        "outputId": "1afce93c-ef62-4e74-cdf7-7da3f75739ef"
      },
      "execution_count": null,
      "outputs": [
        {
          "output_type": "execute_result",
          "data": {
            "text/plain": [
              "1023"
            ]
          },
          "metadata": {},
          "execution_count": 101
        }
      ]
    },
    {
      "cell_type": "code",
      "source": [
        "email"
      ],
      "metadata": {
        "colab": {
          "base_uri": "https://localhost:8080/",
          "height": 35
        },
        "id": "hpbkWq1nqarL",
        "outputId": "cfc89e51-5491-4508-b46e-f42eee5f1b4b"
      },
      "execution_count": null,
      "outputs": [
        {
          "output_type": "execute_result",
          "data": {
            "text/plain": [
              "'jane@intuit.com'"
            ],
            "application/vnd.google.colaboratory.intrinsic+json": {
              "type": "string"
            }
          },
          "metadata": {},
          "execution_count": 102
        }
      ]
    },
    {
      "cell_type": "code",
      "source": [
        "for _ in range(10):\n",
        "    print('yep')"
      ],
      "metadata": {
        "colab": {
          "base_uri": "https://localhost:8080/"
        },
        "id": "ulgTN-XdqgsU",
        "outputId": "f111eef9-b08d-43fc-c570-ff825240e847"
      },
      "execution_count": null,
      "outputs": [
        {
          "output_type": "stream",
          "name": "stdout",
          "text": [
            "yep\n",
            "yep\n",
            "yep\n",
            "yep\n",
            "yep\n",
            "yep\n",
            "yep\n",
            "yep\n",
            "yep\n",
            "yep\n"
          ]
        }
      ]
    },
    {
      "cell_type": "code",
      "source": [
        "t = 1, 1, 1, 1, 1, 2"
      ],
      "metadata": {
        "id": "A-FR43rMqj0C"
      },
      "execution_count": null,
      "outputs": []
    },
    {
      "cell_type": "code",
      "source": [
        "t.count(1)"
      ],
      "metadata": {
        "colab": {
          "base_uri": "https://localhost:8080/"
        },
        "id": "ZhXUhgPTMM9A",
        "outputId": "99c1a35c-8f75-4976-c0f2-80f2ccba046d"
      },
      "execution_count": null,
      "outputs": [
        {
          "output_type": "execute_result",
          "data": {
            "text/plain": [
              "5"
            ]
          },
          "metadata": {},
          "execution_count": 5
        }
      ]
    },
    {
      "cell_type": "code",
      "source": [
        "t.index(2)"
      ],
      "metadata": {
        "colab": {
          "base_uri": "https://localhost:8080/"
        },
        "id": "yfx55mORMNkz",
        "outputId": "0c633583-97d5-4cda-8a06-12e1325463ed"
      },
      "execution_count": null,
      "outputs": [
        {
          "output_type": "execute_result",
          "data": {
            "text/plain": [
              "5"
            ]
          },
          "metadata": {},
          "execution_count": 6
        }
      ]
    },
    {
      "cell_type": "code",
      "source": [
        "2 + 2"
      ],
      "metadata": {
        "colab": {
          "base_uri": "https://localhost:8080/"
        },
        "id": "xKQJ7uMCMak2",
        "outputId": "a61499b8-a134-4398-ca43-46b3f8cffc0f"
      },
      "execution_count": null,
      "outputs": [
        {
          "output_type": "execute_result",
          "data": {
            "text/plain": [
              "4"
            ]
          },
          "metadata": {},
          "execution_count": 7
        }
      ]
    },
    {
      "cell_type": "code",
      "source": [
        "'2' + '2' # str's are immutable"
      ],
      "metadata": {
        "colab": {
          "base_uri": "https://localhost:8080/",
          "height": 35
        },
        "id": "0WH0QPZzMpi-",
        "outputId": "9fc763fc-c635-49b0-ebfa-5e1478f6d37e"
      },
      "execution_count": null,
      "outputs": [
        {
          "output_type": "execute_result",
          "data": {
            "text/plain": [
              "'22'"
            ],
            "application/vnd.google.colaboratory.intrinsic+json": {
              "type": "string"
            }
          },
          "metadata": {},
          "execution_count": 8
        }
      ]
    },
    {
      "cell_type": "code",
      "source": [
        "(2,) + (2,)"
      ],
      "metadata": {
        "colab": {
          "base_uri": "https://localhost:8080/"
        },
        "id": "ZEO57UtxMqnS",
        "outputId": "cf4753e2-79a9-429a-9404-7a8aed0393ff"
      },
      "execution_count": null,
      "outputs": [
        {
          "output_type": "execute_result",
          "data": {
            "text/plain": [
              "(2, 2)"
            ]
          },
          "metadata": {},
          "execution_count": 9
        }
      ]
    },
    {
      "cell_type": "code",
      "source": [
        "[2] + [2]"
      ],
      "metadata": {
        "colab": {
          "base_uri": "https://localhost:8080/"
        },
        "id": "MTOFWM9hM6Z8",
        "outputId": "71db5f02-d155-4c40-ff9f-27c140418e48"
      },
      "execution_count": null,
      "outputs": [
        {
          "output_type": "execute_result",
          "data": {
            "text/plain": [
              "[2, 2]"
            ]
          },
          "metadata": {},
          "execution_count": 10
        }
      ]
    },
    {
      "cell_type": "code",
      "source": [
        "city = 'Jakarta', 'Indonesia', 32_594_159"
      ],
      "metadata": {
        "id": "LZhbK7QfM7ZW"
      },
      "execution_count": null,
      "outputs": []
    },
    {
      "cell_type": "code",
      "source": [
        "city + (1619,)"
      ],
      "metadata": {
        "colab": {
          "base_uri": "https://localhost:8080/"
        },
        "id": "loZNMjTZNf3_",
        "outputId": "778abe44-293a-4b68-9d5e-6acb847628ab"
      },
      "execution_count": null,
      "outputs": [
        {
          "output_type": "execute_result",
          "data": {
            "text/plain": [
              "('Jakarta', 'Indonesia', 32594159, 1619)"
            ]
          },
          "metadata": {},
          "execution_count": 12
        }
      ]
    },
    {
      "cell_type": "code",
      "source": [
        "city += (1619,)"
      ],
      "metadata": {
        "id": "FbmJzmoiNoJg"
      },
      "execution_count": null,
      "outputs": []
    },
    {
      "cell_type": "code",
      "source": [
        "city"
      ],
      "metadata": {
        "colab": {
          "base_uri": "https://localhost:8080/"
        },
        "id": "yYVHaKEDNp4I",
        "outputId": "06d194e4-3889-4f78-fd45-8b492d731fb4"
      },
      "execution_count": null,
      "outputs": [
        {
          "output_type": "execute_result",
          "data": {
            "text/plain": [
              "('Jakarta', 'Indonesia', 32594159, 1619)"
            ]
          },
          "metadata": {},
          "execution_count": 14
        }
      ]
    },
    {
      "cell_type": "code",
      "source": [
        "1619 in city"
      ],
      "metadata": {
        "colab": {
          "base_uri": "https://localhost:8080/"
        },
        "id": "4X0jnNDENqOd",
        "outputId": "e34dc5a2-014f-4b7f-83e5-955a3b885263"
      },
      "execution_count": null,
      "outputs": [
        {
          "output_type": "execute_result",
          "data": {
            "text/plain": [
              "True"
            ]
          },
          "metadata": {},
          "execution_count": 15
        }
      ]
    },
    {
      "cell_type": "code",
      "source": [
        "city.index('Jakarta')"
      ],
      "metadata": {
        "colab": {
          "base_uri": "https://localhost:8080/"
        },
        "id": "DunybYoHNr18",
        "outputId": "01e989be-325f-4db2-b855-c7d3f366ee59"
      },
      "execution_count": null,
      "outputs": [
        {
          "output_type": "execute_result",
          "data": {
            "text/plain": [
              "0"
            ]
          },
          "metadata": {},
          "execution_count": 16
        }
      ]
    },
    {
      "cell_type": "code",
      "source": [
        "19 // 6"
      ],
      "metadata": {
        "colab": {
          "base_uri": "https://localhost:8080/"
        },
        "id": "aIuoNbxzNu67",
        "outputId": "cb03f534-b8ca-4def-853b-5f53cf76cbff"
      },
      "execution_count": null,
      "outputs": [
        {
          "output_type": "execute_result",
          "data": {
            "text/plain": [
              "3"
            ]
          },
          "metadata": {},
          "execution_count": 17
        }
      ]
    },
    {
      "cell_type": "code",
      "source": [
        "19 % 6"
      ],
      "metadata": {
        "colab": {
          "base_uri": "https://localhost:8080/"
        },
        "id": "xBD7U2iSOsKE",
        "outputId": "7d3cfd85-ff0b-45bc-cac1-e4f0d9747c4e"
      },
      "execution_count": null,
      "outputs": [
        {
          "output_type": "execute_result",
          "data": {
            "text/plain": [
              "1"
            ]
          },
          "metadata": {},
          "execution_count": 18
        }
      ]
    },
    {
      "cell_type": "code",
      "source": [
        "divmod(19, 6)"
      ],
      "metadata": {
        "colab": {
          "base_uri": "https://localhost:8080/"
        },
        "id": "n3KrC5_bOtkV",
        "outputId": "ae95d27b-02ee-453b-a610-583526ca5b79"
      },
      "execution_count": null,
      "outputs": [
        {
          "output_type": "execute_result",
          "data": {
            "text/plain": [
              "(3, 1)"
            ]
          },
          "metadata": {},
          "execution_count": 19
        }
      ]
    },
    {
      "cell_type": "code",
      "source": [
        "quotient, remainder = divmod(19, 6)"
      ],
      "metadata": {
        "id": "mdfMhR_kOvtS"
      },
      "execution_count": null,
      "outputs": []
    },
    {
      "cell_type": "code",
      "source": [
        "quotient"
      ],
      "metadata": {
        "colab": {
          "base_uri": "https://localhost:8080/"
        },
        "id": "FvcWfov2PDt0",
        "outputId": "6703d7f4-ea68-420d-defc-581ee2c0f425"
      },
      "execution_count": null,
      "outputs": [
        {
          "output_type": "execute_result",
          "data": {
            "text/plain": [
              "3"
            ]
          },
          "metadata": {},
          "execution_count": 21
        }
      ]
    },
    {
      "cell_type": "code",
      "source": [
        "remainder"
      ],
      "metadata": {
        "colab": {
          "base_uri": "https://localhost:8080/"
        },
        "id": "5FrQjhdSPGgN",
        "outputId": "cccecc90-fb97-4f0d-a7f0-db161691274c"
      },
      "execution_count": null,
      "outputs": [
        {
          "output_type": "execute_result",
          "data": {
            "text/plain": [
              "1"
            ]
          },
          "metadata": {},
          "execution_count": 22
        }
      ]
    },
    {
      "cell_type": "code",
      "source": [
        "d = {}"
      ],
      "metadata": {
        "id": "NoXAxigtPH1z"
      },
      "execution_count": null,
      "outputs": []
    },
    {
      "cell_type": "code",
      "source": [
        "d.get?"
      ],
      "metadata": {
        "id": "q3YDZquESuUO"
      },
      "execution_count": null,
      "outputs": []
    },
    {
      "cell_type": "code",
      "source": [
        "fruits = 'apple pear fig'.split()\n",
        "#fruits = ['apple', 'pear', 'fig']"
      ],
      "metadata": {
        "id": "HQEmDs7gVpbQ"
      },
      "execution_count": null,
      "outputs": []
    },
    {
      "cell_type": "code",
      "source": [
        "sorted(fruits)"
      ],
      "metadata": {
        "colab": {
          "base_uri": "https://localhost:8080/"
        },
        "id": "4V1XOyknVpg2",
        "outputId": "3d283f4f-f346-43da-f89a-1fd517690411"
      },
      "execution_count": null,
      "outputs": [
        {
          "output_type": "execute_result",
          "data": {
            "text/plain": [
              "['apple', 'fig', 'pear']"
            ]
          },
          "metadata": {},
          "execution_count": 27
        }
      ]
    },
    {
      "cell_type": "code",
      "source": [
        "sorted(fruits, key=len)"
      ],
      "metadata": {
        "colab": {
          "base_uri": "https://localhost:8080/"
        },
        "id": "Jsj4ZAHtWc8x",
        "outputId": "35ebc3d5-2356-491e-ec63-a2d05c2686f0"
      },
      "execution_count": null,
      "outputs": [
        {
          "output_type": "execute_result",
          "data": {
            "text/plain": [
              "['fig', 'pear', 'apple']"
            ]
          },
          "metadata": {},
          "execution_count": 28
        }
      ]
    },
    {
      "cell_type": "code",
      "source": [
        "roman_to_hindu_arabic = {\n",
        "    'M': (1000),\n",
        "    'D': (500),\n",
        "    'C': (100),\n",
        "    'L': (50),\n",
        "    'X': (10),\n",
        "    'V': (5),\n",
        "    'I': (1),\n",
        "}"
      ],
      "metadata": {
        "id": "DXNfz1V2YY5O"
      },
      "execution_count": null,
      "outputs": []
    },
    {
      "cell_type": "markdown",
      "source": [
        "## Lab: dictionary\n",
        "* use a dict to translate Roman numerals into their Hindu-Arabic equivalents\n",
        "1. load the dict with Roman numerals M (1000), D (500), C (100), L (50), X (10), V (5), I (1)\n",
        "2. read in a Roman numeral\n",
        "3. print Arabic equivalent\n",
        "4. try it with MCLX = 1000 + 100 + 50 + 10 = 1160\n"
      ],
      "metadata": {
        "id": "jEwwDeIqZwu7"
      }
    },
    {
      "cell_type": "code",
      "source": [
        "roman = input('Enter a Roman numeral: ')\n",
        "total = 0\n",
        "\n",
        "for digit in roman:\n",
        "    total += roman_to_hindu_arabic[digit]\n",
        "\n",
        "print(total)"
      ],
      "metadata": {
        "colab": {
          "base_uri": "https://localhost:8080/"
        },
        "id": "TybhUIq7ZuvE",
        "outputId": "fab99d53-47a9-468d-d725-7b399f2275f0"
      },
      "execution_count": null,
      "outputs": [
        {
          "output_type": "stream",
          "name": "stdout",
          "text": [
            "Enter a Roman numeral: MCLX\n",
            "1160\n"
          ]
        }
      ]
    },
    {
      "cell_type": "markdown",
      "source": [
        "## Two common ways to use a dict\n",
        "1. use it as a \"translational table\" which means you pre-fill it with the key/value and it is referred to or used throughout the program\n",
        "2. start with an empty dict, and then as the program processes input (from the user or a database or some other source), the dict gets filled in–so at the end of the program the dict represents the data your *processed*\n",
        "\n"
      ],
      "metadata": {
        "id": "MW_wP9opemME"
      }
    },
    {
      "cell_type": "code",
      "source": [
        "# 1. get a Roman numeral, e.g., MCLX\n",
        "# 1a. set running sum to 0\n",
        "# 2. for each digit in the Roman numeral (M, C, L X):\n",
        "# 3.    get the Hindu-Arabic value from the dict\n",
        "# 4.    ...and add that value to the running sum\n",
        "# 5. print out the running sum"
      ],
      "metadata": {
        "id": "COdDcCkAgQi_"
      },
      "execution_count": null,
      "outputs": []
    },
    {
      "cell_type": "code",
      "source": [
        "# Dom's code:\n",
        "user_input = input('Type a roman numeral: ').upper() # 1\n",
        "total = 0 # 1a\n",
        "\n",
        "for letter in user_input: # 2\n",
        "    print('adding', roman_to_hindu_arabic[letter])\n",
        "    total += roman_to_hindu_arabic[letter] # 3, 4\n",
        "\n",
        "print(total) # 5"
      ],
      "metadata": {
        "colab": {
          "base_uri": "https://localhost:8080/"
        },
        "id": "hgnBPWDKZ8c9",
        "outputId": "ffaf9075-fa11-4d09-c34a-07095f605c40"
      },
      "execution_count": null,
      "outputs": [
        {
          "output_type": "stream",
          "name": "stdout",
          "text": [
            "Type a roman numeral: mclx\n",
            "adding 1000\n",
            "adding 100\n",
            "adding 50\n",
            "adding 10\n",
            "1160\n"
          ]
        }
      ]
    },
    {
      "cell_type": "code",
      "source": [
        "# what could go wrong?\n",
        "user_input = input('Type a roman numeral: ').upper() # 1\n",
        "total = 0 # 1a\n",
        "\n",
        "for letter in user_input: # 2\n",
        "    if letter in roman_to_hindu_arabic:\n",
        "        total += roman_to_hindu_arabic[letter] # 3, 4\n",
        "    else:\n",
        "        print('bad Roman digit:', letter)\n",
        "\n",
        "print(total) # 5"
      ],
      "metadata": {
        "colab": {
          "base_uri": "https://localhost:8080/"
        },
        "id": "JWf9JI80gDkj",
        "outputId": "44e6604e-c6c3-4656-c2c6-d5e6e11f45e2"
      },
      "execution_count": null,
      "outputs": [
        {
          "output_type": "stream",
          "name": "stdout",
          "text": [
            "Type a roman numeral: MCAX\n",
            "bad Roman digit: A\n",
            "1110\n"
          ]
        }
      ]
    },
    {
      "cell_type": "code",
      "source": [
        "# what could go wrong?\n",
        "user_input = input('Type a roman numeral: ').upper() # 1\n",
        "total = 0 # 1a\n",
        "\n",
        "for letter in user_input: # 2\n",
        "    if letter in roman_to_hindu_arabic:\n",
        "        total += roman_to_hindu_arabic[letter] # 3, 4\n",
        "    else: # we have a bad digit, bail out\n",
        "        print('Invalid Roman digit/numeral:', letter)\n",
        "        total = 0\n",
        "        break\n",
        "\n",
        "if total > 0:\n",
        "    print(total) # 5"
      ],
      "metadata": {
        "colab": {
          "base_uri": "https://localhost:8080/"
        },
        "id": "LOHx9VzgjuRa",
        "outputId": "4e6e0cfc-be51-4332-dc47-3da1ba673fe6"
      },
      "execution_count": null,
      "outputs": [
        {
          "name": "stdout",
          "output_type": "stream",
          "text": [
            "Type a roman numeral: \n"
          ]
        }
      ]
    },
    {
      "cell_type": "code",
      "source": [
        "if 5 > 3:\n",
        "    print('yep')"
      ],
      "metadata": {
        "colab": {
          "base_uri": "https://localhost:8080/"
        },
        "id": "idd_Vi8rkGFb",
        "outputId": "5e11e0cc-924b-46a8-9ff2-80b31676059d"
      },
      "execution_count": null,
      "outputs": [
        {
          "output_type": "stream",
          "name": "stdout",
          "text": [
            "yep\n"
          ]
        }
      ]
    },
    {
      "cell_type": "code",
      "source": [
        "value = 0.00003\n",
        "# ...\n",
        "if value: # \"if value is non-zero\"\n",
        "    print('yep')"
      ],
      "metadata": {
        "colab": {
          "base_uri": "https://localhost:8080/"
        },
        "id": "M-9gwycw6w0R",
        "outputId": "27aa0701-4334-4b80-d2ae-50f01d64c48f"
      },
      "execution_count": null,
      "outputs": [
        {
          "output_type": "stream",
          "name": "stdout",
          "text": [
            "yep\n"
          ]
        }
      ]
    },
    {
      "cell_type": "code",
      "source": [
        "stuff = 'Jones', 'Paula', 24\n",
        "# ...\n",
        "\n",
        "if stuff: # if len(stuff) > 0\n",
        "    print('yep')"
      ],
      "metadata": {
        "colab": {
          "base_uri": "https://localhost:8080/"
        },
        "id": "6N65yPBj6_A-",
        "outputId": "d23a63f7-95b3-4c53-da5a-286b0ff22d36"
      },
      "execution_count": null,
      "outputs": [
        {
          "output_type": "stream",
          "name": "stdout",
          "text": [
            "yep\n"
          ]
        }
      ]
    },
    {
      "cell_type": "code",
      "source": [
        "2 + 3"
      ],
      "metadata": {
        "colab": {
          "base_uri": "https://localhost:8080/"
        },
        "id": "xjK7Nt2y71NM",
        "outputId": "38a1570f-c820-4326-af3d-f9a635c0307c"
      },
      "execution_count": null,
      "outputs": [
        {
          "output_type": "execute_result",
          "data": {
            "text/plain": [
              "5"
            ]
          },
          "metadata": {},
          "execution_count": 63
        }
      ]
    },
    {
      "cell_type": "code",
      "source": [
        "_"
      ],
      "metadata": {
        "colab": {
          "base_uri": "https://localhost:8080/"
        },
        "id": "amHD2KOP71-A",
        "outputId": "a02e5e8f-b533-4a94-e170-d46da09dfe8f"
      },
      "execution_count": null,
      "outputs": [
        {
          "output_type": "execute_result",
          "data": {
            "text/plain": [
              "5"
            ]
          },
          "metadata": {},
          "execution_count": 64
        }
      ]
    },
    {
      "cell_type": "code",
      "source": [
        "_ * 33"
      ],
      "metadata": {
        "colab": {
          "base_uri": "https://localhost:8080/"
        },
        "id": "u6bIAvz_72Vw",
        "outputId": "d3848880-d89b-46a3-ad3d-6bc97607826c"
      },
      "execution_count": null,
      "outputs": [
        {
          "output_type": "execute_result",
          "data": {
            "text/plain": [
              "165"
            ]
          },
          "metadata": {},
          "execution_count": 65
        }
      ]
    },
    {
      "cell_type": "code",
      "source": [
        "19.95 * 300"
      ],
      "metadata": {
        "colab": {
          "base_uri": "https://localhost:8080/"
        },
        "id": "0itWRpi876g4",
        "outputId": "1c4f2f89-135e-4dad-aff4-214d14a215b9"
      },
      "execution_count": null,
      "outputs": [
        {
          "output_type": "execute_result",
          "data": {
            "text/plain": [
              "5985.0"
            ]
          },
          "metadata": {},
          "execution_count": 66
        }
      ]
    },
    {
      "cell_type": "code",
      "source": [
        "_ * 1.0825"
      ],
      "metadata": {
        "colab": {
          "base_uri": "https://localhost:8080/"
        },
        "id": "2gynIje57-Zz",
        "outputId": "926ced3c-8282-4bb9-9167-cbd05afc0ca5"
      },
      "execution_count": null,
      "outputs": [
        {
          "output_type": "execute_result",
          "data": {
            "text/plain": [
              "6478.7625"
            ]
          },
          "metadata": {},
          "execution_count": 67
        }
      ]
    },
    {
      "cell_type": "code",
      "source": [
        "for _ in range(7):\n",
        "    print('hi')"
      ],
      "metadata": {
        "colab": {
          "base_uri": "https://localhost:8080/"
        },
        "id": "2bD4rc4c8BU1",
        "outputId": "3905cb4b-0ca7-42f7-e557-d01cbe2b95bc"
      },
      "execution_count": null,
      "outputs": [
        {
          "output_type": "stream",
          "name": "stdout",
          "text": [
            "hi\n",
            "hi\n",
            "hi\n",
            "hi\n",
            "hi\n",
            "hi\n",
            "hi\n"
          ]
        }
      ]
    },
    {
      "cell_type": "code",
      "source": [
        "import random\n",
        "\n",
        "nums = []\n",
        "\n",
        "for _ in range(100):\n",
        "    nums.append(str(random.randint(1, 100)))"
      ],
      "metadata": {
        "id": "BJSLrRie8HTE"
      },
      "execution_count": null,
      "outputs": []
    },
    {
      "cell_type": "code",
      "source": [
        "count = 1\n",
        "for num in nums:\n",
        "    print(f'{num:4s}', end='')\n",
        "    count += 1\n",
        "    if count % 10 == 0:\n",
        "        print()"
      ],
      "metadata": {
        "colab": {
          "base_uri": "https://localhost:8080/"
        },
        "id": "X-hTxTLS9eLn",
        "outputId": "04247391-d2d7-4d0b-c4f3-41f15398f085"
      },
      "execution_count": null,
      "outputs": [
        {
          "output_type": "stream",
          "name": "stdout",
          "text": [
            "81  52  38  81  2   13  89  20  28  \n",
            "34  9   67  48  27  73  38  96  27  46  \n",
            "94  14  90  33  65  64  100 68  41  39  \n",
            "10  1   82  8   93  53  74  76  55  26  \n",
            "90  17  86  75  57  35  25  64  55  76  \n",
            "47  5   55  27  41  6   37  62  67  88  \n",
            "85  59  19  7   16  91  25  17  33  76  \n",
            "49  75  52  64  54  35  52  52  100 90  \n",
            "63  1   7   76  85  96  98  89  57  66  \n",
            "24  64  66  40  34  45  8   23  62  58  \n",
            "3   "
          ]
        }
      ]
    },
    {
      "cell_type": "code",
      "source": [
        "nums"
      ],
      "metadata": {
        "colab": {
          "base_uri": "https://localhost:8080/"
        },
        "id": "P1PPc0QQ-2x0",
        "outputId": "2361ccdc-b3c4-4426-e9ce-6bcc19a4573e"
      },
      "execution_count": null,
      "outputs": [
        {
          "output_type": "execute_result",
          "data": {
            "text/plain": [
              "['81',\n",
              " '52',\n",
              " '38',\n",
              " '81',\n",
              " '2',\n",
              " '13',\n",
              " '89',\n",
              " '20',\n",
              " '28',\n",
              " '34',\n",
              " '9',\n",
              " '67',\n",
              " '48',\n",
              " '27',\n",
              " '73',\n",
              " '38',\n",
              " '96',\n",
              " '27',\n",
              " '46',\n",
              " '94',\n",
              " '14',\n",
              " '90',\n",
              " '33',\n",
              " '65',\n",
              " '64',\n",
              " '100',\n",
              " '68',\n",
              " '41',\n",
              " '39',\n",
              " '10',\n",
              " '1',\n",
              " '82',\n",
              " '8',\n",
              " '93',\n",
              " '53',\n",
              " '74',\n",
              " '76',\n",
              " '55',\n",
              " '26',\n",
              " '90',\n",
              " '17',\n",
              " '86',\n",
              " '75',\n",
              " '57',\n",
              " '35',\n",
              " '25',\n",
              " '64',\n",
              " '55',\n",
              " '76',\n",
              " '47',\n",
              " '5',\n",
              " '55',\n",
              " '27',\n",
              " '41',\n",
              " '6',\n",
              " '37',\n",
              " '62',\n",
              " '67',\n",
              " '88',\n",
              " '85',\n",
              " '59',\n",
              " '19',\n",
              " '7',\n",
              " '16',\n",
              " '91',\n",
              " '25',\n",
              " '17',\n",
              " '33',\n",
              " '76',\n",
              " '49',\n",
              " '75',\n",
              " '52',\n",
              " '64',\n",
              " '54',\n",
              " '35',\n",
              " '52',\n",
              " '52',\n",
              " '100',\n",
              " '90',\n",
              " '63',\n",
              " '1',\n",
              " '7',\n",
              " '76',\n",
              " '85',\n",
              " '96',\n",
              " '98',\n",
              " '89',\n",
              " '57',\n",
              " '66',\n",
              " '24',\n",
              " '64',\n",
              " '66',\n",
              " '40',\n",
              " '34',\n",
              " '45',\n",
              " '8',\n",
              " '23',\n",
              " '62',\n",
              " '58',\n",
              " '3']"
            ]
          },
          "metadata": {},
          "execution_count": 87
        }
      ]
    },
    {
      "cell_type": "code",
      "source": [
        "numset = set(nums)"
      ],
      "metadata": {
        "id": "Z9jfW2-o9e9H"
      },
      "execution_count": null,
      "outputs": []
    },
    {
      "cell_type": "code",
      "source": [
        "len(numset), len(nums)"
      ],
      "metadata": {
        "colab": {
          "base_uri": "https://localhost:8080/"
        },
        "id": "aWtqlsPp9-j9",
        "outputId": "d040b590-8d98-462c-ed84-9de6910543f7"
      },
      "execution_count": null,
      "outputs": [
        {
          "output_type": "execute_result",
          "data": {
            "text/plain": [
              "(65, 100)"
            ]
          },
          "metadata": {},
          "execution_count": 89
        }
      ]
    },
    {
      "cell_type": "code",
      "source": [
        "numset"
      ],
      "metadata": {
        "colab": {
          "base_uri": "https://localhost:8080/"
        },
        "id": "xd4LU8vy-cxY",
        "outputId": "7755be5f-3827-43dc-d155-4dd565ba91a9"
      },
      "execution_count": null,
      "outputs": [
        {
          "output_type": "execute_result",
          "data": {
            "text/plain": [
              "{'1',\n",
              " '10',\n",
              " '100',\n",
              " '13',\n",
              " '14',\n",
              " '16',\n",
              " '17',\n",
              " '19',\n",
              " '2',\n",
              " '20',\n",
              " '23',\n",
              " '24',\n",
              " '25',\n",
              " '26',\n",
              " '27',\n",
              " '28',\n",
              " '3',\n",
              " '33',\n",
              " '34',\n",
              " '35',\n",
              " '37',\n",
              " '38',\n",
              " '39',\n",
              " '40',\n",
              " '41',\n",
              " '45',\n",
              " '46',\n",
              " '47',\n",
              " '48',\n",
              " '49',\n",
              " '5',\n",
              " '52',\n",
              " '53',\n",
              " '54',\n",
              " '55',\n",
              " '57',\n",
              " '58',\n",
              " '59',\n",
              " '6',\n",
              " '62',\n",
              " '63',\n",
              " '64',\n",
              " '65',\n",
              " '66',\n",
              " '67',\n",
              " '68',\n",
              " '7',\n",
              " '73',\n",
              " '74',\n",
              " '75',\n",
              " '76',\n",
              " '8',\n",
              " '81',\n",
              " '82',\n",
              " '85',\n",
              " '86',\n",
              " '88',\n",
              " '89',\n",
              " '9',\n",
              " '90',\n",
              " '91',\n",
              " '93',\n",
              " '94',\n",
              " '96',\n",
              " '98'}"
            ]
          },
          "metadata": {},
          "execution_count": 90
        }
      ]
    },
    {
      "cell_type": "code",
      "source": [
        "hash('Dave')"
      ],
      "metadata": {
        "colab": {
          "base_uri": "https://localhost:8080/"
        },
        "id": "_qj-F_n6-jRR",
        "outputId": "276adbc8-73d8-412a-e3f2-c73081c79539"
      },
      "execution_count": null,
      "outputs": [
        {
          "output_type": "execute_result",
          "data": {
            "text/plain": [
              "-2483755798397298806"
            ]
          },
          "metadata": {},
          "execution_count": 91
        }
      ]
    },
    {
      "cell_type": "code",
      "source": [
        "hash('Python')"
      ],
      "metadata": {
        "colab": {
          "base_uri": "https://localhost:8080/"
        },
        "id": "MYh2nRiP_KRM",
        "outputId": "bcaff4f2-5d71-4984-aba2-045ffc435694"
      },
      "execution_count": null,
      "outputs": [
        {
          "output_type": "execute_result",
          "data": {
            "text/plain": [
              "-106700111294929910"
            ]
          },
          "metadata": {},
          "execution_count": 92
        }
      ]
    },
    {
      "cell_type": "code",
      "source": [
        "hash('Java')"
      ],
      "metadata": {
        "colab": {
          "base_uri": "https://localhost:8080/"
        },
        "id": "WYD79SlM_Lew",
        "outputId": "4e33c8ad-4f1f-468b-e821-c4db6df4f46d"
      },
      "execution_count": null,
      "outputs": [
        {
          "output_type": "execute_result",
          "data": {
            "text/plain": [
              "-5387866804987781310"
            ]
          },
          "metadata": {},
          "execution_count": 93
        }
      ]
    },
    {
      "cell_type": "code",
      "source": [
        "s = {'Dave', 'Python', 'Java' }"
      ],
      "metadata": {
        "colab": {
          "base_uri": "https://localhost:8080/"
        },
        "id": "kek8s966_lEb",
        "outputId": "9586301d-43c9-4c79-c51d-3066716b6233"
      },
      "execution_count": null,
      "outputs": [
        {
          "output_type": "execute_result",
          "data": {
            "text/plain": [
              "{'Dave', 'Java', 'Python'}"
            ]
          },
          "metadata": {},
          "execution_count": 98
        }
      ]
    },
    {
      "cell_type": "code",
      "source": [
        "hash(1)"
      ],
      "metadata": {
        "colab": {
          "base_uri": "https://localhost:8080/"
        },
        "id": "5rLRtwaA_NGu",
        "outputId": "951ac25c-0476-45e1-c226-85a1653e08c3"
      },
      "execution_count": null,
      "outputs": [
        {
          "output_type": "execute_result",
          "data": {
            "text/plain": [
              "1"
            ]
          },
          "metadata": {},
          "execution_count": 94
        }
      ]
    },
    {
      "cell_type": "code",
      "source": [
        "hash(100)"
      ],
      "metadata": {
        "colab": {
          "base_uri": "https://localhost:8080/"
        },
        "id": "jgHT_wPT_VaW",
        "outputId": "be70ca90-d790-4a37-b935-6d5eb383f180"
      },
      "execution_count": null,
      "outputs": [
        {
          "output_type": "execute_result",
          "data": {
            "text/plain": [
              "100"
            ]
          },
          "metadata": {},
          "execution_count": 95
        }
      ]
    },
    {
      "cell_type": "code",
      "source": [
        "s = { 3, 2, 6, 1, 19, 12 }"
      ],
      "metadata": {
        "id": "KIjEvdtK_XCH"
      },
      "execution_count": null,
      "outputs": []
    },
    {
      "cell_type": "code",
      "source": [
        "s = 'this that other that this this'.split()"
      ],
      "metadata": {
        "id": "KizK3_TKAJog"
      },
      "execution_count": null,
      "outputs": []
    },
    {
      "cell_type": "code",
      "source": [
        "s"
      ],
      "metadata": {
        "colab": {
          "base_uri": "https://localhost:8080/"
        },
        "id": "MnDU9AX4AmsA",
        "outputId": "178b16ad-7b11-441d-e6b5-9c36e27d807c"
      },
      "execution_count": null,
      "outputs": [
        {
          "output_type": "execute_result",
          "data": {
            "text/plain": [
              "['this', 'that', 'other', 'that', 'this', 'this']"
            ]
          },
          "metadata": {},
          "execution_count": 104
        }
      ]
    },
    {
      "cell_type": "code",
      "source": [
        "wordset = set(s)\n",
        "print(wordset)"
      ],
      "metadata": {
        "colab": {
          "base_uri": "https://localhost:8080/"
        },
        "id": "pxFpbsOBAm4G",
        "outputId": "5f2ffec2-2bb5-4aa5-f1ad-87de6e834aa2"
      },
      "execution_count": null,
      "outputs": [
        {
          "output_type": "stream",
          "name": "stdout",
          "text": [
            "{'that', 'this', 'other'}\n"
          ]
        }
      ]
    },
    {
      "cell_type": "markdown",
      "source": [],
      "metadata": {
        "id": "2ecxs1kpA7ax"
      }
    },
    {
      "cell_type": "code",
      "source": [
        "wordset # Jupyter see this, and figures you want to see set items sorted"
      ],
      "metadata": {
        "colab": {
          "base_uri": "https://localhost:8080/"
        },
        "id": "Tf3Q4JXjAozn",
        "outputId": "ead8d996-0476-478a-c5dd-6354b482549c"
      },
      "execution_count": null,
      "outputs": [
        {
          "output_type": "execute_result",
          "data": {
            "text/plain": [
              "{'other', 'that', 'this'}"
            ]
          },
          "metadata": {},
          "execution_count": 109
        }
      ]
    },
    {
      "cell_type": "code",
      "source": [
        "print(wordset)"
      ],
      "metadata": {
        "colab": {
          "base_uri": "https://localhost:8080/"
        },
        "id": "UZzuUGqvA26V",
        "outputId": "575690a4-bfc2-4308-c52c-f135550dd391"
      },
      "execution_count": null,
      "outputs": [
        {
          "output_type": "stream",
          "name": "stdout",
          "text": [
            "{'that', 'this', 'other'}\n"
          ]
        }
      ]
    },
    {
      "cell_type": "code",
      "source": [
        "# s1.intersection(s2) # compute intersection of s1 and s2\n",
        "# s1 & s2 # that is a shorthand for the above"
      ],
      "metadata": {
        "id": "hBd_BBM-A_CS"
      },
      "execution_count": null,
      "outputs": []
    },
    {
      "cell_type": "markdown",
      "source": [
        "## Quick Lab: Common elements between two sets\n",
        "* Write a program that asks the user to input two lists and then finds and prints the common elements between them\n",
        "<pre><b>\n",
        "Enter a list of items: apple cherry banana lemon\n",
        "Enter a second list of items: apple guava banana lime\n",
        "Common elements: apple banana\n",
        "</b></pre>\n",
        "\n",
        "* Note: this uses a set method we haven't yet learned...how will you find it?"
      ],
      "metadata": {
        "id": "IGufrChXC4Km"
      }
    },
    {
      "cell_type": "code",
      "source": [
        "words1 = set(input('Enter a list of items: ').split()) # split into list, then set-ify\n",
        "words2 = set(input('Enter a second list of items: ').split()) # split into list, then set-ify"
      ],
      "metadata": {
        "colab": {
          "base_uri": "https://localhost:8080/"
        },
        "id": "YBa5QzktC4bt",
        "outputId": "1a9c98ab-07ea-411a-ab1e-87400d68fa81"
      },
      "execution_count": null,
      "outputs": [
        {
          "name": "stdout",
          "output_type": "stream",
          "text": [
            "Enter a list of items: apple cherry banana lemon\n",
            "Enter a second list of items: apple guava banana lime\n"
          ]
        }
      ]
    },
    {
      "cell_type": "code",
      "source": [
        "words1"
      ],
      "metadata": {
        "colab": {
          "base_uri": "https://localhost:8080/"
        },
        "id": "dkPqgA_cDEwK",
        "outputId": "a3fdac01-165d-4c4f-9eab-5373348abfe7"
      },
      "execution_count": null,
      "outputs": [
        {
          "output_type": "execute_result",
          "data": {
            "text/plain": [
              "{'apple', 'banana', 'cherry', 'lemon'}"
            ]
          },
          "metadata": {},
          "execution_count": 112
        }
      ]
    },
    {
      "cell_type": "code",
      "source": [
        "words2"
      ],
      "metadata": {
        "colab": {
          "base_uri": "https://localhost:8080/"
        },
        "id": "CQpZQCioDIXw",
        "outputId": "2923a900-1e7c-45a4-9dbb-7c44c16a9291"
      },
      "execution_count": null,
      "outputs": [
        {
          "output_type": "execute_result",
          "data": {
            "text/plain": [
              "{'apple', 'banana', 'guava', 'lime'}"
            ]
          },
          "metadata": {},
          "execution_count": 113
        }
      ]
    },
    {
      "cell_type": "code",
      "source": [
        "words1 & words2"
      ],
      "metadata": {
        "colab": {
          "base_uri": "https://localhost:8080/"
        },
        "id": "hN9ng6VDDJb7",
        "outputId": "f5267d9d-26c0-4a1c-edba-f5d104f2dd79"
      },
      "execution_count": null,
      "outputs": [
        {
          "output_type": "execute_result",
          "data": {
            "text/plain": [
              "{'apple', 'banana'}"
            ]
          },
          "metadata": {},
          "execution_count": 114
        }
      ]
    },
    {
      "cell_type": "code",
      "source": [
        "# or...\n",
        "words1 = input('Enter a list of items: ').split()\n",
        "words2 = input('Enter a second list of items: ').split()\n",
        "set(words1) & set(words2)"
      ],
      "metadata": {
        "colab": {
          "base_uri": "https://localhost:8080/"
        },
        "id": "UIb-PcHYDLBh",
        "outputId": "413cdb49-ce4f-4d46-e3c2-350b83ffa459"
      },
      "execution_count": null,
      "outputs": [
        {
          "name": "stdout",
          "output_type": "stream",
          "text": [
            "Enter a list of items: a b c d e f\n",
            "Enter a second list of items: b g j i f k\n"
          ]
        },
        {
          "output_type": "execute_result",
          "data": {
            "text/plain": [
              "{'b', 'f'}"
            ]
          },
          "metadata": {},
          "execution_count": 115
        }
      ]
    },
    {
      "cell_type": "code",
      "source": [],
      "metadata": {
        "id": "8wobmCp2DWhg"
      },
      "execution_count": null,
      "outputs": []
    },
    {
      "cell_type": "markdown",
      "source": [
        "## Quick Lab: Sets\n",
        "* Use a set to find all of the unique words in the input and print them out in sorted order\n",
        "* If the user entered __There is no there there__, your program should print out\n",
        "   <pre><b>\n",
        "   is\n",
        "   no\n",
        "   there\n",
        "   </b></pre>\n",
        "* Note that `There` and `there` should be counted as the same word."
      ],
      "metadata": {
        "id": "1ty8qoo4DyL9"
      }
    },
    {
      "cell_type": "code",
      "source": [],
      "metadata": {
        "id": "pxHDhlgGGlcw"
      },
      "execution_count": null,
      "outputs": []
    },
    {
      "cell_type": "code",
      "source": [
        "words = input('Enter: ').lower().split()\n",
        "words"
      ],
      "metadata": {
        "colab": {
          "base_uri": "https://localhost:8080/"
        },
        "id": "sDpTYUHqDyvd",
        "outputId": "36a71e31-6297-4dc6-98f5-bcf8f626a179"
      },
      "execution_count": null,
      "outputs": [
        {
          "name": "stdout",
          "output_type": "stream",
          "text": [
            "Enter: There is no there there\n"
          ]
        },
        {
          "output_type": "execute_result",
          "data": {
            "text/plain": [
              "['there', 'is', 'no', 'there', 'there']"
            ]
          },
          "metadata": {},
          "execution_count": 118
        }
      ]
    },
    {
      "cell_type": "code",
      "source": [
        "print(sorted(set(words)))"
      ],
      "metadata": {
        "colab": {
          "base_uri": "https://localhost:8080/"
        },
        "id": "-JQNnH33D7Q5",
        "outputId": "cc8a7c2e-a166-49ba-de71-c9d3abc7642d"
      },
      "execution_count": null,
      "outputs": [
        {
          "output_type": "stream",
          "name": "stdout",
          "text": [
            "['is', 'no', 'there']\n"
          ]
        }
      ]
    },
    {
      "cell_type": "code",
      "source": [
        "for word in sorted(set(words)):\n",
        "    print(word)"
      ],
      "metadata": {
        "colab": {
          "base_uri": "https://localhost:8080/"
        },
        "id": "a_uyLGNaD-81",
        "outputId": "4e3b74c7-e571-4b82-e5a4-73fc10cc879c"
      },
      "execution_count": null,
      "outputs": [
        {
          "output_type": "stream",
          "name": "stdout",
          "text": [
            "is\n",
            "no\n",
            "there\n"
          ]
        }
      ]
    },
    {
      "cell_type": "code",
      "source": [
        "print(sorted(set(words)))"
      ],
      "metadata": {
        "colab": {
          "base_uri": "https://localhost:8080/"
        },
        "id": "eDjYCNFEHGEx",
        "outputId": "6036ef8a-c875-4004-ece1-ef3d0f54b50a"
      },
      "execution_count": null,
      "outputs": [
        {
          "output_type": "stream",
          "name": "stdout",
          "text": [
            "is no there\n"
          ]
        }
      ]
    },
    {
      "cell_type": "code",
      "source": [
        "final_words = sorted(set(words))"
      ],
      "metadata": {
        "id": "zazJKP22HT96"
      },
      "execution_count": null,
      "outputs": []
    },
    {
      "cell_type": "code",
      "source": [
        "print(final_words)"
      ],
      "metadata": {
        "colab": {
          "base_uri": "https://localhost:8080/"
        },
        "id": "-cjgPKyDHizz",
        "outputId": "a8c17ca3-dd68-4024-9b1a-1480ec061bd0"
      },
      "execution_count": null,
      "outputs": [
        {
          "output_type": "stream",
          "name": "stdout",
          "text": [
            "['is', 'no', 'there']\n"
          ]
        }
      ]
    },
    {
      "cell_type": "code",
      "source": [
        "print(final_words[0], final_words[1], final_words[2], sep='\\n')"
      ],
      "metadata": {
        "colab": {
          "base_uri": "https://localhost:8080/"
        },
        "id": "1iQfgbnwHjef",
        "outputId": "dfccdbc2-3050-4ed1-bef7-ac06cf9631ca"
      },
      "execution_count": null,
      "outputs": [
        {
          "output_type": "stream",
          "name": "stdout",
          "text": [
            "is\n",
            "no\n",
            "there\n"
          ]
        }
      ]
    },
    {
      "cell_type": "code",
      "source": [
        "print(*final_words, sep='\\n')"
      ],
      "metadata": {
        "colab": {
          "base_uri": "https://localhost:8080/"
        },
        "id": "ShG7lk6BH37U",
        "outputId": "ffcbb00f-fca7-4218-8522-bd424a080ee3"
      },
      "execution_count": null,
      "outputs": [
        {
          "output_type": "stream",
          "name": "stdout",
          "text": [
            "is\n",
            "no\n",
            "there\n"
          ]
        }
      ]
    },
    {
      "cell_type": "code",
      "source": [
        "print('\\n'.join(final_words))"
      ],
      "metadata": {
        "colab": {
          "base_uri": "https://localhost:8080/"
        },
        "id": "2ESLgvqVICdk",
        "outputId": "8b2f8ff8-051d-4b08-f7db-4b1c6c4a5bba"
      },
      "execution_count": null,
      "outputs": [
        {
          "output_type": "stream",
          "name": "stdout",
          "text": [
            "is\n",
            "no\n",
            "there\n"
          ]
        }
      ]
    },
    {
      "cell_type": "code",
      "source": [
        "len('string')"
      ],
      "metadata": {
        "id": "PJFx2SrsIMvg",
        "colab": {
          "base_uri": "https://localhost:8080/"
        },
        "outputId": "b5626d88-9f3b-4ea5-d749-acada15252cd"
      },
      "execution_count": 132,
      "outputs": [
        {
          "output_type": "execute_result",
          "data": {
            "text/plain": [
              "6"
            ]
          },
          "metadata": {},
          "execution_count": 132
        }
      ]
    },
    {
      "cell_type": "code",
      "source": [
        "len([1, 2])"
      ],
      "metadata": {
        "colab": {
          "base_uri": "https://localhost:8080/"
        },
        "id": "QL1deNVrMN1P",
        "outputId": "89eb5fdb-24e6-4f96-8daf-9d53b4ac79ab"
      },
      "execution_count": 133,
      "outputs": [
        {
          "output_type": "execute_result",
          "data": {
            "text/plain": [
              "2"
            ]
          },
          "metadata": {},
          "execution_count": 133
        }
      ]
    },
    {
      "cell_type": "code",
      "source": [
        "len((1, 2))"
      ],
      "metadata": {
        "colab": {
          "base_uri": "https://localhost:8080/"
        },
        "id": "VM2erMd1MPH1",
        "outputId": "60c24bea-6e74-4067-cd86-fb13271bc0f8"
      },
      "execution_count": 134,
      "outputs": [
        {
          "output_type": "execute_result",
          "data": {
            "text/plain": [
              "2"
            ]
          },
          "metadata": {},
          "execution_count": 134
        }
      ]
    },
    {
      "cell_type": "code",
      "source": [
        "len(1)"
      ],
      "metadata": {
        "colab": {
          "base_uri": "https://localhost:8080/",
          "height": 144
        },
        "id": "KhTIUV1PMQjr",
        "outputId": "84606581-0817-48cb-ca39-2c207710881b"
      },
      "execution_count": 135,
      "outputs": [
        {
          "output_type": "error",
          "ename": "TypeError",
          "evalue": "object of type 'int' has no len()",
          "traceback": [
            "\u001b[0;31m---------------------------------------------------------------------------\u001b[0m",
            "\u001b[0;31mTypeError\u001b[0m                                 Traceback (most recent call last)",
            "\u001b[0;32m/tmp/ipython-input-135-2982808344.py\u001b[0m in \u001b[0;36m<cell line: 0>\u001b[0;34m()\u001b[0m\n\u001b[0;32m----> 1\u001b[0;31m \u001b[0mlen\u001b[0m\u001b[0;34m(\u001b[0m\u001b[0;36m1\u001b[0m\u001b[0;34m)\u001b[0m\u001b[0;34m\u001b[0m\u001b[0;34m\u001b[0m\u001b[0m\n\u001b[0m",
            "\u001b[0;31mTypeError\u001b[0m: object of type 'int' has no len()"
          ]
        }
      ]
    },
    {
      "cell_type": "code",
      "source": [
        "max(1, 2, 3, 1, 19, 7)"
      ],
      "metadata": {
        "colab": {
          "base_uri": "https://localhost:8080/"
        },
        "id": "Pks3gAKrMWXq",
        "outputId": "a414bfc4-8af7-42e2-927c-43dfaed4c198"
      },
      "execution_count": 136,
      "outputs": [
        {
          "output_type": "execute_result",
          "data": {
            "text/plain": [
              "19"
            ]
          },
          "metadata": {},
          "execution_count": 136
        }
      ]
    },
    {
      "cell_type": "code",
      "source": [
        "max(1, 2.12, 3, 1.1, 19.1, 7)"
      ],
      "metadata": {
        "colab": {
          "base_uri": "https://localhost:8080/"
        },
        "id": "tqtnG5c2MimE",
        "outputId": "b8f73b9f-87d6-4c13-d858-4ecf92ad7071"
      },
      "execution_count": 138,
      "outputs": [
        {
          "output_type": "execute_result",
          "data": {
            "text/plain": [
              "19.1"
            ]
          },
          "metadata": {},
          "execution_count": 138
        }
      ]
    },
    {
      "cell_type": "code",
      "source": [
        "max('pear', 'fig', 'apple')"
      ],
      "metadata": {
        "colab": {
          "base_uri": "https://localhost:8080/",
          "height": 35
        },
        "id": "Asf7T0DHMneB",
        "outputId": "ffc2987d-4acb-41ea-abc9-5e1f6beb69a4"
      },
      "execution_count": 139,
      "outputs": [
        {
          "output_type": "execute_result",
          "data": {
            "text/plain": [
              "'pear'"
            ],
            "application/vnd.google.colaboratory.intrinsic+json": {
              "type": "string"
            }
          },
          "metadata": {},
          "execution_count": 139
        }
      ]
    },
    {
      "cell_type": "code",
      "source": [
        "'fig' < 'apple'"
      ],
      "metadata": {
        "colab": {
          "base_uri": "https://localhost:8080/"
        },
        "id": "DzKKdzddMqsq",
        "outputId": "9d84f933-88e3-4b49-a287-841d62f69acf"
      },
      "execution_count": 140,
      "outputs": [
        {
          "output_type": "execute_result",
          "data": {
            "text/plain": [
              "False"
            ]
          },
          "metadata": {},
          "execution_count": 140
        }
      ]
    },
    {
      "cell_type": "code",
      "source": [
        "'fig' < 'pear'"
      ],
      "metadata": {
        "colab": {
          "base_uri": "https://localhost:8080/"
        },
        "id": "66VB3rAcNBz0",
        "outputId": "19d22763-51ed-4f8e-ef6c-faf11d13a491"
      },
      "execution_count": 141,
      "outputs": [
        {
          "output_type": "execute_result",
          "data": {
            "text/plain": [
              "True"
            ]
          },
          "metadata": {},
          "execution_count": 141
        }
      ]
    },
    {
      "cell_type": "code",
      "source": [
        "sorted([1, 3, 2])"
      ],
      "metadata": {
        "colab": {
          "base_uri": "https://localhost:8080/"
        },
        "id": "Ahec2YEZNEJT",
        "outputId": "a6d2bb0d-38d6-433e-f0ad-4d4bb84b83ba"
      },
      "execution_count": 142,
      "outputs": [
        {
          "output_type": "execute_result",
          "data": {
            "text/plain": [
              "[1, 2, 3]"
            ]
          },
          "metadata": {},
          "execution_count": 142
        }
      ]
    },
    {
      "cell_type": "code",
      "source": [
        "sorted([1, 2, 'a'])"
      ],
      "metadata": {
        "colab": {
          "base_uri": "https://localhost:8080/",
          "height": 144
        },
        "id": "pl_9k9ALNJ1T",
        "outputId": "3148f3b1-5dab-465f-85a0-8e6df90e84fb"
      },
      "execution_count": 143,
      "outputs": [
        {
          "output_type": "error",
          "ename": "TypeError",
          "evalue": "'<' not supported between instances of 'str' and 'int'",
          "traceback": [
            "\u001b[0;31m---------------------------------------------------------------------------\u001b[0m",
            "\u001b[0;31mTypeError\u001b[0m                                 Traceback (most recent call last)",
            "\u001b[0;32m/tmp/ipython-input-143-3925556575.py\u001b[0m in \u001b[0;36m<cell line: 0>\u001b[0;34m()\u001b[0m\n\u001b[0;32m----> 1\u001b[0;31m \u001b[0msorted\u001b[0m\u001b[0;34m(\u001b[0m\u001b[0;34m[\u001b[0m\u001b[0;36m1\u001b[0m\u001b[0;34m,\u001b[0m \u001b[0;36m2\u001b[0m\u001b[0;34m,\u001b[0m \u001b[0;34m'a'\u001b[0m\u001b[0;34m]\u001b[0m\u001b[0;34m)\u001b[0m\u001b[0;34m\u001b[0m\u001b[0;34m\u001b[0m\u001b[0m\n\u001b[0m",
            "\u001b[0;31mTypeError\u001b[0m: '<' not supported between instances of 'str' and 'int'"
          ]
        }
      ]
    },
    {
      "cell_type": "code",
      "source": [
        "[1, 2, 3] == 1"
      ],
      "metadata": {
        "colab": {
          "base_uri": "https://localhost:8080/"
        },
        "id": "4ieejBHFNLlB",
        "outputId": "abf0bc38-a04f-4b12-d82a-af176c8e17ca"
      },
      "execution_count": 144,
      "outputs": [
        {
          "output_type": "execute_result",
          "data": {
            "text/plain": [
              "False"
            ]
          },
          "metadata": {},
          "execution_count": 144
        }
      ]
    },
    {
      "cell_type": "code",
      "source": [
        "'133' == 1"
      ],
      "metadata": {
        "colab": {
          "base_uri": "https://localhost:8080/"
        },
        "id": "EZeD2lDBNszP",
        "outputId": "eef145d4-6fc8-4b7e-e205-69927a782af8"
      },
      "execution_count": 145,
      "outputs": [
        {
          "output_type": "execute_result",
          "data": {
            "text/plain": [
              "False"
            ]
          },
          "metadata": {},
          "execution_count": 145
        }
      ]
    },
    {
      "cell_type": "code",
      "source": [
        "import math\n",
        "help(math.sin)"
      ],
      "metadata": {
        "colab": {
          "base_uri": "https://localhost:8080/"
        },
        "id": "HiN9H5wjNuHW",
        "outputId": "b525f0ee-6543-41d9-d8a0-c2a45ff54a62"
      },
      "execution_count": 147,
      "outputs": [
        {
          "output_type": "stream",
          "name": "stdout",
          "text": [
            "Help on built-in function sin in module math:\n",
            "\n",
            "sin(x, /)\n",
            "    Return the sine of x (measured in radians).\n",
            "\n"
          ]
        }
      ]
    },
    {
      "cell_type": "code",
      "source": [
        "import keyword\n",
        "print(keyword.kwlist)"
      ],
      "metadata": {
        "colab": {
          "base_uri": "https://localhost:8080/"
        },
        "id": "w9OKbz-RQASZ",
        "outputId": "8968c15b-e192-40b0-8a8c-43c96fdb3108"
      },
      "execution_count": 149,
      "outputs": [
        {
          "output_type": "stream",
          "name": "stdout",
          "text": [
            "['False', 'None', 'True', 'and', 'as', 'assert', 'async', 'await', 'break', 'class', 'continue', 'def', 'del', 'elif', 'else', 'except', 'finally', 'for', 'from', 'global', 'if', 'import', 'in', 'is', 'lambda', 'nonlocal', 'not', 'or', 'pass', 'raise', 'return', 'try', 'while', 'with', 'yield']\n"
          ]
        }
      ]
    },
    {
      "cell_type": "code",
      "source": [
        "import random"
      ],
      "metadata": {
        "id": "j0VaE7qTUukg"
      },
      "execution_count": 150,
      "outputs": []
    },
    {
      "cell_type": "code",
      "source": [
        "num = 1235"
      ],
      "metadata": {
        "id": "aLnqPXFEVsYS"
      },
      "execution_count": 151,
      "outputs": []
    },
    {
      "cell_type": "code",
      "source": [
        "for digit in num:\n",
        "    print(digit)"
      ],
      "metadata": {
        "colab": {
          "base_uri": "https://localhost:8080/",
          "height": 162
        },
        "id": "T2QG2JfVZ6c2",
        "outputId": "272ff070-c0cc-4c5f-b01f-ccd450c8a51c"
      },
      "execution_count": 152,
      "outputs": [
        {
          "output_type": "error",
          "ename": "TypeError",
          "evalue": "'int' object is not iterable",
          "traceback": [
            "\u001b[0;31m---------------------------------------------------------------------------\u001b[0m",
            "\u001b[0;31mTypeError\u001b[0m                                 Traceback (most recent call last)",
            "\u001b[0;32m/tmp/ipython-input-152-3047374787.py\u001b[0m in \u001b[0;36m<cell line: 0>\u001b[0;34m()\u001b[0m\n\u001b[0;32m----> 1\u001b[0;31m \u001b[0;32mfor\u001b[0m \u001b[0mdigit\u001b[0m \u001b[0;32min\u001b[0m \u001b[0mnum\u001b[0m\u001b[0;34m:\u001b[0m\u001b[0;34m\u001b[0m\u001b[0;34m\u001b[0m\u001b[0m\n\u001b[0m\u001b[1;32m      2\u001b[0m     \u001b[0mprint\u001b[0m\u001b[0;34m(\u001b[0m\u001b[0mdigit\u001b[0m\u001b[0;34m)\u001b[0m\u001b[0;34m\u001b[0m\u001b[0;34m\u001b[0m\u001b[0m\n",
            "\u001b[0;31mTypeError\u001b[0m: 'int' object is not iterable"
          ]
        }
      ]
    },
    {
      "cell_type": "code",
      "source": [
        "str(num)"
      ],
      "metadata": {
        "colab": {
          "base_uri": "https://localhost:8080/",
          "height": 35
        },
        "id": "3_2_n-KPZ8qg",
        "outputId": "2b29facc-53ab-4dd0-b200-54dd28691751"
      },
      "execution_count": 153,
      "outputs": [
        {
          "output_type": "execute_result",
          "data": {
            "text/plain": [
              "'1235'"
            ],
            "application/vnd.google.colaboratory.intrinsic+json": {
              "type": "string"
            }
          },
          "metadata": {},
          "execution_count": 153
        }
      ]
    },
    {
      "cell_type": "code",
      "source": [
        "for digit in str(num):\n",
        "    print(int(digit))"
      ],
      "metadata": {
        "colab": {
          "base_uri": "https://localhost:8080/"
        },
        "id": "Lxgho3v7aQYr",
        "outputId": "5085297f-0b35-4eb0-ac6f-d8fec216a6b8"
      },
      "execution_count": 157,
      "outputs": [
        {
          "output_type": "stream",
          "name": "stdout",
          "text": [
            "1\n",
            "2\n",
            "3\n",
            "5\n"
          ]
        }
      ]
    },
    {
      "cell_type": "code",
      "source": [
        "num % 10"
      ],
      "metadata": {
        "colab": {
          "base_uri": "https://localhost:8080/"
        },
        "id": "8lyTzfoHaUgB",
        "outputId": "79ddb631-9ee0-4403-a958-2e4ee8b30b53"
      },
      "execution_count": 158,
      "outputs": [
        {
          "output_type": "execute_result",
          "data": {
            "text/plain": [
              "5"
            ]
          },
          "metadata": {},
          "execution_count": 158
        }
      ]
    },
    {
      "cell_type": "code",
      "source": [
        "num = num // 10"
      ],
      "metadata": {
        "id": "aaK48Jzsaine"
      },
      "execution_count": 159,
      "outputs": []
    },
    {
      "cell_type": "code",
      "source": [
        "num"
      ],
      "metadata": {
        "colab": {
          "base_uri": "https://localhost:8080/"
        },
        "id": "VgHzQkdvalBp",
        "outputId": "28c0e317-a352-4b40-8623-47bc53a26fd7"
      },
      "execution_count": 160,
      "outputs": [
        {
          "output_type": "execute_result",
          "data": {
            "text/plain": [
              "123"
            ]
          },
          "metadata": {},
          "execution_count": 160
        }
      ]
    },
    {
      "cell_type": "code",
      "source": [
        "num % 10"
      ],
      "metadata": {
        "colab": {
          "base_uri": "https://localhost:8080/"
        },
        "id": "UKU7r40Lala5",
        "outputId": "9ed89709-f20d-4cb0-e1d8-8becb92fcad9"
      },
      "execution_count": 161,
      "outputs": [
        {
          "output_type": "execute_result",
          "data": {
            "text/plain": [
              "3"
            ]
          },
          "metadata": {},
          "execution_count": 161
        }
      ]
    },
    {
      "cell_type": "code",
      "source": [],
      "metadata": {
        "id": "E8wDAKjIamxm"
      },
      "execution_count": null,
      "outputs": []
    },
    {
      "cell_type": "markdown",
      "source": [
        "* given a 4-digit number where not all digits are the same, demonstrate __Kaprekar's Constant__ (6174)</pre>\n",
        "    * sort the digits of the number into descending and ascending order...\n",
        "    * then calculate the difference between the two new numbers\n",
        "    * keep doing the above until you get to 6174 (you always will)\n",
        "    * e.g., starting with the number 8991:\n",
        "    <br/><br/>\n",
        "    <pre>\n",
        "      9981 – 1899 = 8082\n",
        "      8820 – 0288 = 8532\n",
        "      8532 – 2358 = 6174\n",
        "      7641 – 1467 = 6174\n",
        "    </pre>\n"
      ],
      "metadata": {
        "id": "ldWf9OQXb-79"
      }
    },
    {
      "cell_type": "code",
      "source": [
        "def kaprekar(number):\n",
        "    \"\"\"Keep iterating until we hit Kaprekar Constant (6174).\"\"\"\n",
        "\n",
        "    iterations = 0\n",
        "\n",
        "    while (number != '6174'):\n",
        "        iterations += 1\n",
        "        if iterations > 20:\n",
        "            break\n",
        "        # if number has a leading 0, we need to retain that\n",
        "        number = str(number)\n",
        "        if len(number) < 4:\n",
        "            number = '0' + number\n",
        "        digits = list(str(number)) # convert to string and list-ify into digits\n",
        "        ascending = sorted(digits)\n",
        "        descending = sorted(digits, reverse=True)\n",
        "        # now we need to make the above lists of digits into integers\n",
        "        ascending = ''.join(ascending)\n",
        "        descending = ''.join(descending)\n",
        "        number = str(int(descending) - int(ascending)) #.zfill(4)\n",
        "        print(f'{descending} - {ascending} = {number}')\n",
        ""
      ],
      "metadata": {
        "id": "j11-jB8bb_MR"
      },
      "execution_count": 233,
      "outputs": []
    },
    {
      "cell_type": "code",
      "source": [
        "kaprekar(1112)"
      ],
      "metadata": {
        "colab": {
          "base_uri": "https://localhost:8080/"
        },
        "id": "yVAqPE4ycfpn",
        "outputId": "f15a2eac-9f39-4885-9563-0ddcd177ad87"
      },
      "execution_count": 234,
      "outputs": [
        {
          "output_type": "stream",
          "name": "stdout",
          "text": [
            "2111 - 1112 = 0999\n",
            "9990 - 0999 = 8991\n",
            "9981 - 1899 = 8082\n",
            "8820 - 0288 = 8532\n",
            "8532 - 2358 = 6174\n"
          ]
        }
      ]
    },
    {
      "cell_type": "code",
      "source": [
        "def is_pangram(text):\n",
        "    \"\"\"Return True if text represents a pangram.\"\"\"\n",
        "    # create a set of all 26 letters\n",
        "    letters = set('abcdefghijklmnopqrstuvwxyz')\n",
        "    # we can get the above from 'import string'\n",
        "\n",
        "    # for each character in the text\n",
        "    # ...remove it from the set\n",
        "    # if it's not a letter, or it's already been removed, no problem\n",
        "    # since we are using .discard()\n",
        "    for character in text.lower():\n",
        "        letters.discard(character)\n",
        "\n",
        "    return len(letters) == 0"
      ],
      "metadata": {
        "id": "EPbvxeEBdlgY"
      },
      "execution_count": 196,
      "outputs": []
    },
    {
      "cell_type": "code",
      "source": [
        "is_pangram(\"Pack my box with five dozen liquor jugs\")"
      ],
      "metadata": {
        "colab": {
          "base_uri": "https://localhost:8080/"
        },
        "id": "69wOv3G8gDW9",
        "outputId": "1a89fb2b-60f5-4cc6-ae1a-dca37af36ed8"
      },
      "execution_count": 199,
      "outputs": [
        {
          "output_type": "execute_result",
          "data": {
            "text/plain": [
              "True"
            ]
          },
          "metadata": {},
          "execution_count": 199
        }
      ]
    },
    {
      "cell_type": "code",
      "source": [
        "def is_pangram2(text):\n",
        "    letters = set() # start w/an empty set\n",
        "\n",
        "    for char in text.lower():\n",
        "        if char.isalpha(): # a-z?\n",
        "            letters.add(char)\n",
        "\n",
        "    return len(letters) == 26"
      ],
      "metadata": {
        "id": "_uEJ3FG2gG6D"
      },
      "execution_count": 204,
      "outputs": []
    },
    {
      "cell_type": "code",
      "source": [
        "is_pangram2('the wizard quickly jinxed the gnomes before they vaporized')"
      ],
      "metadata": {
        "colab": {
          "base_uri": "https://localhost:8080/"
        },
        "id": "3LTcQ0yQgwUd",
        "outputId": "b619cdae-a50e-46f1-e5c7-756bf151270b"
      },
      "execution_count": 208,
      "outputs": [
        {
          "output_type": "execute_result",
          "data": {
            "text/plain": [
              "True"
            ]
          },
          "metadata": {},
          "execution_count": 208
        }
      ]
    },
    {
      "cell_type": "code",
      "source": [
        "# Bhuvan's code\n",
        "user_input = input('Enter some number:')\n",
        "\n",
        "def karekars_constant(user_input):\n",
        "  result = user_input\n",
        "  while result != 6174:\n",
        "    first_num = int(str(result)[::-1])\n",
        "    reverse_num = int(str(first_num)[::-1])\n",
        "    result = first_num - reverse_num\n",
        "    print(result)\n",
        "\n",
        "karekars_constant(user_input)"
      ],
      "metadata": {
        "colab": {
          "base_uri": "https://localhost:8080/",
          "height": 341
        },
        "id": "20ZhHFp7gxSx",
        "outputId": "2e06ad90-d1c3-44be-ae78-0739ee1db056"
      },
      "execution_count": 210,
      "outputs": [
        {
          "output_type": "stream",
          "name": "stdout",
          "text": [
            "Enter some number:9981\n",
            "-8082\n"
          ]
        },
        {
          "output_type": "error",
          "ename": "ValueError",
          "evalue": "invalid literal for int() with base 10: '2808-'",
          "traceback": [
            "\u001b[0;31m---------------------------------------------------------------------------\u001b[0m",
            "\u001b[0;31mValueError\u001b[0m                                Traceback (most recent call last)",
            "\u001b[0;32m/tmp/ipython-input-210-3818360829.py\u001b[0m in \u001b[0;36m<cell line: 0>\u001b[0;34m()\u001b[0m\n\u001b[1;32m     10\u001b[0m     \u001b[0mprint\u001b[0m\u001b[0;34m(\u001b[0m\u001b[0mresult\u001b[0m\u001b[0;34m)\u001b[0m\u001b[0;34m\u001b[0m\u001b[0;34m\u001b[0m\u001b[0m\n\u001b[1;32m     11\u001b[0m \u001b[0;34m\u001b[0m\u001b[0m\n\u001b[0;32m---> 12\u001b[0;31m \u001b[0mkarekars_constant\u001b[0m\u001b[0;34m(\u001b[0m\u001b[0muser_input\u001b[0m\u001b[0;34m)\u001b[0m\u001b[0;34m\u001b[0m\u001b[0;34m\u001b[0m\u001b[0m\n\u001b[0m",
            "\u001b[0;32m/tmp/ipython-input-210-3818360829.py\u001b[0m in \u001b[0;36mkarekars_constant\u001b[0;34m(user_input)\u001b[0m\n\u001b[1;32m      5\u001b[0m   \u001b[0mresult\u001b[0m \u001b[0;34m=\u001b[0m \u001b[0muser_input\u001b[0m\u001b[0;34m\u001b[0m\u001b[0;34m\u001b[0m\u001b[0m\n\u001b[1;32m      6\u001b[0m   \u001b[0;32mwhile\u001b[0m \u001b[0mresult\u001b[0m \u001b[0;34m!=\u001b[0m \u001b[0;36m6174\u001b[0m\u001b[0;34m:\u001b[0m\u001b[0;34m\u001b[0m\u001b[0;34m\u001b[0m\u001b[0m\n\u001b[0;32m----> 7\u001b[0;31m     \u001b[0mfirst_num\u001b[0m \u001b[0;34m=\u001b[0m \u001b[0mint\u001b[0m\u001b[0;34m(\u001b[0m\u001b[0mstr\u001b[0m\u001b[0;34m(\u001b[0m\u001b[0mresult\u001b[0m\u001b[0;34m)\u001b[0m\u001b[0;34m[\u001b[0m\u001b[0;34m:\u001b[0m\u001b[0;34m:\u001b[0m\u001b[0;34m-\u001b[0m\u001b[0;36m1\u001b[0m\u001b[0;34m]\u001b[0m\u001b[0;34m)\u001b[0m\u001b[0;34m\u001b[0m\u001b[0;34m\u001b[0m\u001b[0m\n\u001b[0m\u001b[1;32m      8\u001b[0m     \u001b[0mreverse_num\u001b[0m \u001b[0;34m=\u001b[0m \u001b[0mint\u001b[0m\u001b[0;34m(\u001b[0m\u001b[0mstr\u001b[0m\u001b[0;34m(\u001b[0m\u001b[0mfirst_num\u001b[0m\u001b[0;34m)\u001b[0m\u001b[0;34m[\u001b[0m\u001b[0;34m:\u001b[0m\u001b[0;34m:\u001b[0m\u001b[0;34m-\u001b[0m\u001b[0;36m1\u001b[0m\u001b[0;34m]\u001b[0m\u001b[0;34m)\u001b[0m\u001b[0;34m\u001b[0m\u001b[0;34m\u001b[0m\u001b[0m\n\u001b[1;32m      9\u001b[0m     \u001b[0mresult\u001b[0m \u001b[0;34m=\u001b[0m \u001b[0mfirst_num\u001b[0m \u001b[0;34m-\u001b[0m \u001b[0mreverse_num\u001b[0m\u001b[0;34m\u001b[0m\u001b[0;34m\u001b[0m\u001b[0m\n",
            "\u001b[0;31mValueError\u001b[0m: invalid literal for int() with base 10: '2808-'"
          ]
        }
      ]
    },
    {
      "cell_type": "code",
      "source": [
        "'1'.zfill(4)"
      ],
      "metadata": {
        "colab": {
          "base_uri": "https://localhost:8080/",
          "height": 35
        },
        "id": "KkstXp8-iesW",
        "outputId": "ad417c41-eb05-44a1-9120-8c982a7f71c7"
      },
      "execution_count": 236,
      "outputs": [
        {
          "output_type": "execute_result",
          "data": {
            "text/plain": [
              "'0001'"
            ],
            "application/vnd.google.colaboratory.intrinsic+json": {
              "type": "string"
            }
          },
          "metadata": {},
          "execution_count": 236
        }
      ]
    },
    {
      "cell_type": "code",
      "source": [
        "def product(*factors):\n",
        "    result = 1\n",
        "\n",
        "    for factor in factors:\n",
        "        print('multiplying by', factor)\n",
        "        result *= factor # result = result * arg\n",
        "\n",
        "    return result"
      ],
      "metadata": {
        "id": "GifK3kMAnOEr"
      },
      "execution_count": 244,
      "outputs": []
    },
    {
      "cell_type": "code",
      "source": [
        "product(1, 2, 3, 4, 5, 6, 7)"
      ],
      "metadata": {
        "colab": {
          "base_uri": "https://localhost:8080/"
        },
        "id": "VimpjeAyqTE5",
        "outputId": "a7e4af33-abcf-47fc-e702-e14d02294220"
      },
      "execution_count": 245,
      "outputs": [
        {
          "output_type": "stream",
          "name": "stdout",
          "text": [
            "multiplying by 1\n",
            "multiplying by 2\n",
            "multiplying by 3\n",
            "multiplying by 4\n",
            "multiplying by 5\n",
            "multiplying by 6\n",
            "multiplying by 7\n"
          ]
        },
        {
          "output_type": "execute_result",
          "data": {
            "text/plain": [
              "5040"
            ]
          },
          "metadata": {},
          "execution_count": 245
        }
      ]
    },
    {
      "cell_type": "code",
      "source": [
        "import math"
      ],
      "metadata": {
        "id": "Zvp2-cWzqZxJ"
      },
      "execution_count": 249,
      "outputs": []
    },
    {
      "cell_type": "code",
      "source": [
        "math.__file__"
      ],
      "metadata": {
        "colab": {
          "base_uri": "https://localhost:8080/",
          "height": 144
        },
        "id": "hFlvrgf-ux05",
        "outputId": "4685751f-8233-4793-e391-fa9c6bca68a0"
      },
      "execution_count": 250,
      "outputs": [
        {
          "output_type": "error",
          "ename": "AttributeError",
          "evalue": "module 'math' has no attribute '__file__'",
          "traceback": [
            "\u001b[0;31m---------------------------------------------------------------------------\u001b[0m",
            "\u001b[0;31mAttributeError\u001b[0m                            Traceback (most recent call last)",
            "\u001b[0;32m/tmp/ipython-input-250-3985356003.py\u001b[0m in \u001b[0;36m<cell line: 0>\u001b[0;34m()\u001b[0m\n\u001b[0;32m----> 1\u001b[0;31m \u001b[0mmath\u001b[0m\u001b[0;34m.\u001b[0m\u001b[0m__file__\u001b[0m\u001b[0;34m\u001b[0m\u001b[0;34m\u001b[0m\u001b[0m\n\u001b[0m",
            "\u001b[0;31mAttributeError\u001b[0m: module 'math' has no attribute '__file__'"
          ]
        }
      ]
    },
    {
      "cell_type": "code",
      "source": [
        "%cat /usr/lib/python3.11/random.py"
      ],
      "metadata": {
        "colab": {
          "base_uri": "https://localhost:8080/"
        },
        "id": "nV8z16qTu2SC",
        "outputId": "a998283d-8415-46f0-89f2-5dce2a9bf663"
      },
      "execution_count": 248,
      "outputs": [
        {
          "output_type": "stream",
          "name": "stdout",
          "text": [
            "\"\"\"Random variable generators.\n",
            "\n",
            "    bytes\n",
            "    -----\n",
            "           uniform bytes (values between 0 and 255)\n",
            "\n",
            "    integers\n",
            "    --------\n",
            "           uniform within range\n",
            "\n",
            "    sequences\n",
            "    ---------\n",
            "           pick random element\n",
            "           pick random sample\n",
            "           pick weighted random sample\n",
            "           generate random permutation\n",
            "\n",
            "    distributions on the real line:\n",
            "    ------------------------------\n",
            "           uniform\n",
            "           triangular\n",
            "           normal (Gaussian)\n",
            "           lognormal\n",
            "           negative exponential\n",
            "           gamma\n",
            "           beta\n",
            "           pareto\n",
            "           Weibull\n",
            "\n",
            "    distributions on the circle (angles 0 to 2pi)\n",
            "    ---------------------------------------------\n",
            "           circular uniform\n",
            "           von Mises\n",
            "\n",
            "General notes on the underlying Mersenne Twister core generator:\n",
            "\n",
            "* The period is 2**19937-1.\n",
            "* It is one of the most extensively tested generators in existence.\n",
            "* The random() method is implemented in C, executes in a single Python step,\n",
            "  and is, therefore, threadsafe.\n",
            "\n",
            "\"\"\"\n",
            "\n",
            "# Translated by Guido van Rossum from C source provided by\n",
            "# Adrian Baddeley.  Adapted by Raymond Hettinger for use with\n",
            "# the Mersenne Twister  and os.urandom() core generators.\n",
            "\n",
            "from warnings import warn as _warn\n",
            "from math import log as _log, exp as _exp, pi as _pi, e as _e, ceil as _ceil\n",
            "from math import sqrt as _sqrt, acos as _acos, cos as _cos, sin as _sin\n",
            "from math import tau as TWOPI, floor as _floor, isfinite as _isfinite\n",
            "from os import urandom as _urandom\n",
            "from _collections_abc import Set as _Set, Sequence as _Sequence\n",
            "from operator import index as _index\n",
            "from itertools import accumulate as _accumulate, repeat as _repeat\n",
            "from bisect import bisect as _bisect\n",
            "import os as _os\n",
            "import _random\n",
            "\n",
            "try:\n",
            "    # hashlib is pretty heavy to load, try lean internal module first\n",
            "    from _sha512 import sha512 as _sha512\n",
            "except ImportError:\n",
            "    # fallback to official implementation\n",
            "    from hashlib import sha512 as _sha512\n",
            "\n",
            "__all__ = [\n",
            "    \"Random\",\n",
            "    \"SystemRandom\",\n",
            "    \"betavariate\",\n",
            "    \"choice\",\n",
            "    \"choices\",\n",
            "    \"expovariate\",\n",
            "    \"gammavariate\",\n",
            "    \"gauss\",\n",
            "    \"getrandbits\",\n",
            "    \"getstate\",\n",
            "    \"lognormvariate\",\n",
            "    \"normalvariate\",\n",
            "    \"paretovariate\",\n",
            "    \"randbytes\",\n",
            "    \"randint\",\n",
            "    \"random\",\n",
            "    \"randrange\",\n",
            "    \"sample\",\n",
            "    \"seed\",\n",
            "    \"setstate\",\n",
            "    \"shuffle\",\n",
            "    \"triangular\",\n",
            "    \"uniform\",\n",
            "    \"vonmisesvariate\",\n",
            "    \"weibullvariate\",\n",
            "]\n",
            "\n",
            "NV_MAGICCONST = 4 * _exp(-0.5) / _sqrt(2.0)\n",
            "LOG4 = _log(4.0)\n",
            "SG_MAGICCONST = 1.0 + _log(4.5)\n",
            "BPF = 53        # Number of bits in a float\n",
            "RECIP_BPF = 2 ** -BPF\n",
            "_ONE = 1\n",
            "\n",
            "\n",
            "class Random(_random.Random):\n",
            "    \"\"\"Random number generator base class used by bound module functions.\n",
            "\n",
            "    Used to instantiate instances of Random to get generators that don't\n",
            "    share state.\n",
            "\n",
            "    Class Random can also be subclassed if you want to use a different basic\n",
            "    generator of your own devising: in that case, override the following\n",
            "    methods:  random(), seed(), getstate(), and setstate().\n",
            "    Optionally, implement a getrandbits() method so that randrange()\n",
            "    can cover arbitrarily large ranges.\n",
            "\n",
            "    \"\"\"\n",
            "\n",
            "    VERSION = 3     # used by getstate/setstate\n",
            "\n",
            "    def __init__(self, x=None):\n",
            "        \"\"\"Initialize an instance.\n",
            "\n",
            "        Optional argument x controls seeding, as for Random.seed().\n",
            "        \"\"\"\n",
            "\n",
            "        self.seed(x)\n",
            "        self.gauss_next = None\n",
            "\n",
            "    def seed(self, a=None, version=2):\n",
            "        \"\"\"Initialize internal state from a seed.\n",
            "\n",
            "        The only supported seed types are None, int, float,\n",
            "        str, bytes, and bytearray.\n",
            "\n",
            "        None or no argument seeds from current time or from an operating\n",
            "        system specific randomness source if available.\n",
            "\n",
            "        If *a* is an int, all bits are used.\n",
            "\n",
            "        For version 2 (the default), all of the bits are used if *a* is a str,\n",
            "        bytes, or bytearray.  For version 1 (provided for reproducing random\n",
            "        sequences from older versions of Python), the algorithm for str and\n",
            "        bytes generates a narrower range of seeds.\n",
            "\n",
            "        \"\"\"\n",
            "\n",
            "        if version == 1 and isinstance(a, (str, bytes)):\n",
            "            a = a.decode('latin-1') if isinstance(a, bytes) else a\n",
            "            x = ord(a[0]) << 7 if a else 0\n",
            "            for c in map(ord, a):\n",
            "                x = ((1000003 * x) ^ c) & 0xFFFFFFFFFFFFFFFF\n",
            "            x ^= len(a)\n",
            "            a = -2 if x == -1 else x\n",
            "\n",
            "        elif version == 2 and isinstance(a, (str, bytes, bytearray)):\n",
            "            if isinstance(a, str):\n",
            "                a = a.encode()\n",
            "            a = int.from_bytes(a + _sha512(a).digest())\n",
            "\n",
            "        elif not isinstance(a, (type(None), int, float, str, bytes, bytearray)):\n",
            "            raise TypeError('The only supported seed types are: None,\\n'\n",
            "                            'int, float, str, bytes, and bytearray.')\n",
            "\n",
            "        super().seed(a)\n",
            "        self.gauss_next = None\n",
            "\n",
            "    def getstate(self):\n",
            "        \"\"\"Return internal state; can be passed to setstate() later.\"\"\"\n",
            "        return self.VERSION, super().getstate(), self.gauss_next\n",
            "\n",
            "    def setstate(self, state):\n",
            "        \"\"\"Restore internal state from object returned by getstate().\"\"\"\n",
            "        version = state[0]\n",
            "        if version == 3:\n",
            "            version, internalstate, self.gauss_next = state\n",
            "            super().setstate(internalstate)\n",
            "        elif version == 2:\n",
            "            version, internalstate, self.gauss_next = state\n",
            "            # In version 2, the state was saved as signed ints, which causes\n",
            "            #   inconsistencies between 32/64-bit systems. The state is\n",
            "            #   really unsigned 32-bit ints, so we convert negative ints from\n",
            "            #   version 2 to positive longs for version 3.\n",
            "            try:\n",
            "                internalstate = tuple(x % (2 ** 32) for x in internalstate)\n",
            "            except ValueError as e:\n",
            "                raise TypeError from e\n",
            "            super().setstate(internalstate)\n",
            "        else:\n",
            "            raise ValueError(\"state with version %s passed to \"\n",
            "                             \"Random.setstate() of version %s\" %\n",
            "                             (version, self.VERSION))\n",
            "\n",
            "\n",
            "    ## -------------------------------------------------------\n",
            "    ## ---- Methods below this point do not need to be overridden or extended\n",
            "    ## ---- when subclassing for the purpose of using a different core generator.\n",
            "\n",
            "\n",
            "    ## -------------------- pickle support  -------------------\n",
            "\n",
            "    # Issue 17489: Since __reduce__ was defined to fix #759889 this is no\n",
            "    # longer called; we leave it here because it has been here since random was\n",
            "    # rewritten back in 2001 and why risk breaking something.\n",
            "    def __getstate__(self):  # for pickle\n",
            "        return self.getstate()\n",
            "\n",
            "    def __setstate__(self, state):  # for pickle\n",
            "        self.setstate(state)\n",
            "\n",
            "    def __reduce__(self):\n",
            "        return self.__class__, (), self.getstate()\n",
            "\n",
            "\n",
            "    ## ---- internal support method for evenly distributed integers ----\n",
            "\n",
            "    def __init_subclass__(cls, /, **kwargs):\n",
            "        \"\"\"Control how subclasses generate random integers.\n",
            "\n",
            "        The algorithm a subclass can use depends on the random() and/or\n",
            "        getrandbits() implementation available to it and determines\n",
            "        whether it can generate random integers from arbitrarily large\n",
            "        ranges.\n",
            "        \"\"\"\n",
            "\n",
            "        for c in cls.__mro__:\n",
            "            if '_randbelow' in c.__dict__:\n",
            "                # just inherit it\n",
            "                break\n",
            "            if 'getrandbits' in c.__dict__:\n",
            "                cls._randbelow = cls._randbelow_with_getrandbits\n",
            "                break\n",
            "            if 'random' in c.__dict__:\n",
            "                cls._randbelow = cls._randbelow_without_getrandbits\n",
            "                break\n",
            "\n",
            "    def _randbelow_with_getrandbits(self, n):\n",
            "        \"Return a random int in the range [0,n).  Defined for n > 0.\"\n",
            "\n",
            "        getrandbits = self.getrandbits\n",
            "        k = n.bit_length()  # don't use (n-1) here because n can be 1\n",
            "        r = getrandbits(k)  # 0 <= r < 2**k\n",
            "        while r >= n:\n",
            "            r = getrandbits(k)\n",
            "        return r\n",
            "\n",
            "    def _randbelow_without_getrandbits(self, n, maxsize=1<<BPF):\n",
            "        \"\"\"Return a random int in the range [0,n).  Defined for n > 0.\n",
            "\n",
            "        The implementation does not use getrandbits, but only random.\n",
            "        \"\"\"\n",
            "\n",
            "        random = self.random\n",
            "        if n >= maxsize:\n",
            "            _warn(\"Underlying random() generator does not supply \\n\"\n",
            "                \"enough bits to choose from a population range this large.\\n\"\n",
            "                \"To remove the range limitation, add a getrandbits() method.\")\n",
            "            return _floor(random() * n)\n",
            "        rem = maxsize % n\n",
            "        limit = (maxsize - rem) / maxsize   # int(limit * maxsize) % n == 0\n",
            "        r = random()\n",
            "        while r >= limit:\n",
            "            r = random()\n",
            "        return _floor(r * maxsize) % n\n",
            "\n",
            "    _randbelow = _randbelow_with_getrandbits\n",
            "\n",
            "\n",
            "    ## --------------------------------------------------------\n",
            "    ## ---- Methods below this point generate custom distributions\n",
            "    ## ---- based on the methods defined above.  They do not\n",
            "    ## ---- directly touch the underlying generator and only\n",
            "    ## ---- access randomness through the methods:  random(),\n",
            "    ## ---- getrandbits(), or _randbelow().\n",
            "\n",
            "\n",
            "    ## -------------------- bytes methods ---------------------\n",
            "\n",
            "    def randbytes(self, n):\n",
            "        \"\"\"Generate n random bytes.\"\"\"\n",
            "        return self.getrandbits(n * 8).to_bytes(n, 'little')\n",
            "\n",
            "\n",
            "    ## -------------------- integer methods  -------------------\n",
            "\n",
            "    def randrange(self, start, stop=None, step=_ONE):\n",
            "        \"\"\"Choose a random item from range(stop) or range(start, stop[, step]).\n",
            "\n",
            "        Roughly equivalent to ``choice(range(start, stop, step))`` but\n",
            "        supports arbitrarily large ranges and is optimized for common cases.\n",
            "\n",
            "        \"\"\"\n",
            "\n",
            "        # This code is a bit messy to make it fast for the\n",
            "        # common case while still doing adequate error checking.\n",
            "        try:\n",
            "            istart = _index(start)\n",
            "        except TypeError:\n",
            "            istart = int(start)\n",
            "            if istart != start:\n",
            "                _warn('randrange() will raise TypeError in the future',\n",
            "                      DeprecationWarning, 2)\n",
            "                raise ValueError(\"non-integer arg 1 for randrange()\")\n",
            "            _warn('non-integer arguments to randrange() have been deprecated '\n",
            "                  'since Python 3.10 and will be removed in a subsequent '\n",
            "                  'version',\n",
            "                  DeprecationWarning, 2)\n",
            "        if stop is None:\n",
            "            # We don't check for \"step != 1\" because it hasn't been\n",
            "            # type checked and converted to an integer yet.\n",
            "            if step is not _ONE:\n",
            "                raise TypeError('Missing a non-None stop argument')\n",
            "            if istart > 0:\n",
            "                return self._randbelow(istart)\n",
            "            raise ValueError(\"empty range for randrange()\")\n",
            "\n",
            "        # stop argument supplied.\n",
            "        try:\n",
            "            istop = _index(stop)\n",
            "        except TypeError:\n",
            "            istop = int(stop)\n",
            "            if istop != stop:\n",
            "                _warn('randrange() will raise TypeError in the future',\n",
            "                      DeprecationWarning, 2)\n",
            "                raise ValueError(\"non-integer stop for randrange()\")\n",
            "            _warn('non-integer arguments to randrange() have been deprecated '\n",
            "                  'since Python 3.10 and will be removed in a subsequent '\n",
            "                  'version',\n",
            "                  DeprecationWarning, 2)\n",
            "        width = istop - istart\n",
            "        try:\n",
            "            istep = _index(step)\n",
            "        except TypeError:\n",
            "            istep = int(step)\n",
            "            if istep != step:\n",
            "                _warn('randrange() will raise TypeError in the future',\n",
            "                      DeprecationWarning, 2)\n",
            "                raise ValueError(\"non-integer step for randrange()\")\n",
            "            _warn('non-integer arguments to randrange() have been deprecated '\n",
            "                  'since Python 3.10 and will be removed in a subsequent '\n",
            "                  'version',\n",
            "                  DeprecationWarning, 2)\n",
            "        # Fast path.\n",
            "        if istep == 1:\n",
            "            if width > 0:\n",
            "                return istart + self._randbelow(width)\n",
            "            raise ValueError(\"empty range for randrange() (%d, %d, %d)\" % (istart, istop, width))\n",
            "\n",
            "        # Non-unit step argument supplied.\n",
            "        if istep > 0:\n",
            "            n = (width + istep - 1) // istep\n",
            "        elif istep < 0:\n",
            "            n = (width + istep + 1) // istep\n",
            "        else:\n",
            "            raise ValueError(\"zero step for randrange()\")\n",
            "        if n <= 0:\n",
            "            raise ValueError(\"empty range for randrange()\")\n",
            "        return istart + istep * self._randbelow(n)\n",
            "\n",
            "    def randint(self, a, b):\n",
            "        \"\"\"Return random integer in range [a, b], including both end points.\n",
            "        \"\"\"\n",
            "\n",
            "        return self.randrange(a, b+1)\n",
            "\n",
            "\n",
            "    ## -------------------- sequence methods  -------------------\n",
            "\n",
            "    def choice(self, seq):\n",
            "        \"\"\"Choose a random element from a non-empty sequence.\"\"\"\n",
            "\n",
            "        # As an accommodation for NumPy, we don't use \"if not seq\"\n",
            "        # because bool(numpy.array()) raises a ValueError.\n",
            "        if not len(seq):\n",
            "            raise IndexError('Cannot choose from an empty sequence')\n",
            "        return seq[self._randbelow(len(seq))]\n",
            "\n",
            "    def shuffle(self, x):\n",
            "        \"\"\"Shuffle list x in place, and return None.\"\"\"\n",
            "\n",
            "        randbelow = self._randbelow\n",
            "        for i in reversed(range(1, len(x))):\n",
            "            # pick an element in x[:i+1] with which to exchange x[i]\n",
            "            j = randbelow(i + 1)\n",
            "            x[i], x[j] = x[j], x[i]\n",
            "\n",
            "    def sample(self, population, k, *, counts=None):\n",
            "        \"\"\"Chooses k unique random elements from a population sequence.\n",
            "\n",
            "        Returns a new list containing elements from the population while\n",
            "        leaving the original population unchanged.  The resulting list is\n",
            "        in selection order so that all sub-slices will also be valid random\n",
            "        samples.  This allows raffle winners (the sample) to be partitioned\n",
            "        into grand prize and second place winners (the subslices).\n",
            "\n",
            "        Members of the population need not be hashable or unique.  If the\n",
            "        population contains repeats, then each occurrence is a possible\n",
            "        selection in the sample.\n",
            "\n",
            "        Repeated elements can be specified one at a time or with the optional\n",
            "        counts parameter.  For example:\n",
            "\n",
            "            sample(['red', 'blue'], counts=[4, 2], k=5)\n",
            "\n",
            "        is equivalent to:\n",
            "\n",
            "            sample(['red', 'red', 'red', 'red', 'blue', 'blue'], k=5)\n",
            "\n",
            "        To choose a sample from a range of integers, use range() for the\n",
            "        population argument.  This is especially fast and space efficient\n",
            "        for sampling from a large population:\n",
            "\n",
            "            sample(range(10000000), 60)\n",
            "\n",
            "        \"\"\"\n",
            "\n",
            "        # Sampling without replacement entails tracking either potential\n",
            "        # selections (the pool) in a list or previous selections in a set.\n",
            "\n",
            "        # When the number of selections is small compared to the\n",
            "        # population, then tracking selections is efficient, requiring\n",
            "        # only a small set and an occasional reselection.  For\n",
            "        # a larger number of selections, the pool tracking method is\n",
            "        # preferred since the list takes less space than the\n",
            "        # set and it doesn't suffer from frequent reselections.\n",
            "\n",
            "        # The number of calls to _randbelow() is kept at or near k, the\n",
            "        # theoretical minimum.  This is important because running time\n",
            "        # is dominated by _randbelow() and because it extracts the\n",
            "        # least entropy from the underlying random number generators.\n",
            "\n",
            "        # Memory requirements are kept to the smaller of a k-length\n",
            "        # set or an n-length list.\n",
            "\n",
            "        # There are other sampling algorithms that do not require\n",
            "        # auxiliary memory, but they were rejected because they made\n",
            "        # too many calls to _randbelow(), making them slower and\n",
            "        # causing them to eat more entropy than necessary.\n",
            "\n",
            "        if not isinstance(population, _Sequence):\n",
            "            raise TypeError(\"Population must be a sequence.  \"\n",
            "                            \"For dicts or sets, use sorted(d).\")\n",
            "        n = len(population)\n",
            "        if counts is not None:\n",
            "            cum_counts = list(_accumulate(counts))\n",
            "            if len(cum_counts) != n:\n",
            "                raise ValueError('The number of counts does not match the population')\n",
            "            total = cum_counts.pop()\n",
            "            if not isinstance(total, int):\n",
            "                raise TypeError('Counts must be integers')\n",
            "            if total <= 0:\n",
            "                raise ValueError('Total of counts must be greater than zero')\n",
            "            selections = self.sample(range(total), k=k)\n",
            "            bisect = _bisect\n",
            "            return [population[bisect(cum_counts, s)] for s in selections]\n",
            "        randbelow = self._randbelow\n",
            "        if not 0 <= k <= n:\n",
            "            raise ValueError(\"Sample larger than population or is negative\")\n",
            "        result = [None] * k\n",
            "        setsize = 21        # size of a small set minus size of an empty list\n",
            "        if k > 5:\n",
            "            setsize += 4 ** _ceil(_log(k * 3, 4))  # table size for big sets\n",
            "        if n <= setsize:\n",
            "            # An n-length list is smaller than a k-length set.\n",
            "            # Invariant:  non-selected at pool[0 : n-i]\n",
            "            pool = list(population)\n",
            "            for i in range(k):\n",
            "                j = randbelow(n - i)\n",
            "                result[i] = pool[j]\n",
            "                pool[j] = pool[n - i - 1]  # move non-selected item into vacancy\n",
            "        else:\n",
            "            selected = set()\n",
            "            selected_add = selected.add\n",
            "            for i in range(k):\n",
            "                j = randbelow(n)\n",
            "                while j in selected:\n",
            "                    j = randbelow(n)\n",
            "                selected_add(j)\n",
            "                result[i] = population[j]\n",
            "        return result\n",
            "\n",
            "    def choices(self, population, weights=None, *, cum_weights=None, k=1):\n",
            "        \"\"\"Return a k sized list of population elements chosen with replacement.\n",
            "\n",
            "        If the relative weights or cumulative weights are not specified,\n",
            "        the selections are made with equal probability.\n",
            "\n",
            "        \"\"\"\n",
            "        random = self.random\n",
            "        n = len(population)\n",
            "        if cum_weights is None:\n",
            "            if weights is None:\n",
            "                floor = _floor\n",
            "                n += 0.0    # convert to float for a small speed improvement\n",
            "                return [population[floor(random() * n)] for i in _repeat(None, k)]\n",
            "            try:\n",
            "                cum_weights = list(_accumulate(weights))\n",
            "            except TypeError:\n",
            "                if not isinstance(weights, int):\n",
            "                    raise\n",
            "                k = weights\n",
            "                raise TypeError(\n",
            "                    f'The number of choices must be a keyword argument: {k=}'\n",
            "                ) from None\n",
            "        elif weights is not None:\n",
            "            raise TypeError('Cannot specify both weights and cumulative weights')\n",
            "        if len(cum_weights) != n:\n",
            "            raise ValueError('The number of weights does not match the population')\n",
            "        total = cum_weights[-1] + 0.0   # convert to float\n",
            "        if total <= 0.0:\n",
            "            raise ValueError('Total of weights must be greater than zero')\n",
            "        if not _isfinite(total):\n",
            "            raise ValueError('Total of weights must be finite')\n",
            "        bisect = _bisect\n",
            "        hi = n - 1\n",
            "        return [population[bisect(cum_weights, random() * total, 0, hi)]\n",
            "                for i in _repeat(None, k)]\n",
            "\n",
            "\n",
            "    ## -------------------- real-valued distributions  -------------------\n",
            "\n",
            "    def uniform(self, a, b):\n",
            "        \"Get a random number in the range [a, b) or [a, b] depending on rounding.\"\n",
            "        return a + (b - a) * self.random()\n",
            "\n",
            "    def triangular(self, low=0.0, high=1.0, mode=None):\n",
            "        \"\"\"Triangular distribution.\n",
            "\n",
            "        Continuous distribution bounded by given lower and upper limits,\n",
            "        and having a given mode value in-between.\n",
            "\n",
            "        http://en.wikipedia.org/wiki/Triangular_distribution\n",
            "\n",
            "        \"\"\"\n",
            "        u = self.random()\n",
            "        try:\n",
            "            c = 0.5 if mode is None else (mode - low) / (high - low)\n",
            "        except ZeroDivisionError:\n",
            "            return low\n",
            "        if u > c:\n",
            "            u = 1.0 - u\n",
            "            c = 1.0 - c\n",
            "            low, high = high, low\n",
            "        return low + (high - low) * _sqrt(u * c)\n",
            "\n",
            "    def normalvariate(self, mu=0.0, sigma=1.0):\n",
            "        \"\"\"Normal distribution.\n",
            "\n",
            "        mu is the mean, and sigma is the standard deviation.\n",
            "\n",
            "        \"\"\"\n",
            "        # Uses Kinderman and Monahan method. Reference: Kinderman,\n",
            "        # A.J. and Monahan, J.F., \"Computer generation of random\n",
            "        # variables using the ratio of uniform deviates\", ACM Trans\n",
            "        # Math Software, 3, (1977), pp257-260.\n",
            "\n",
            "        random = self.random\n",
            "        while True:\n",
            "            u1 = random()\n",
            "            u2 = 1.0 - random()\n",
            "            z = NV_MAGICCONST * (u1 - 0.5) / u2\n",
            "            zz = z * z / 4.0\n",
            "            if zz <= -_log(u2):\n",
            "                break\n",
            "        return mu + z * sigma\n",
            "\n",
            "    def gauss(self, mu=0.0, sigma=1.0):\n",
            "        \"\"\"Gaussian distribution.\n",
            "\n",
            "        mu is the mean, and sigma is the standard deviation.  This is\n",
            "        slightly faster than the normalvariate() function.\n",
            "\n",
            "        Not thread-safe without a lock around calls.\n",
            "\n",
            "        \"\"\"\n",
            "        # When x and y are two variables from [0, 1), uniformly\n",
            "        # distributed, then\n",
            "        #\n",
            "        #    cos(2*pi*x)*sqrt(-2*log(1-y))\n",
            "        #    sin(2*pi*x)*sqrt(-2*log(1-y))\n",
            "        #\n",
            "        # are two *independent* variables with normal distribution\n",
            "        # (mu = 0, sigma = 1).\n",
            "        # (Lambert Meertens)\n",
            "        # (corrected version; bug discovered by Mike Miller, fixed by LM)\n",
            "\n",
            "        # Multithreading note: When two threads call this function\n",
            "        # simultaneously, it is possible that they will receive the\n",
            "        # same return value.  The window is very small though.  To\n",
            "        # avoid this, you have to use a lock around all calls.  (I\n",
            "        # didn't want to slow this down in the serial case by using a\n",
            "        # lock here.)\n",
            "\n",
            "        random = self.random\n",
            "        z = self.gauss_next\n",
            "        self.gauss_next = None\n",
            "        if z is None:\n",
            "            x2pi = random() * TWOPI\n",
            "            g2rad = _sqrt(-2.0 * _log(1.0 - random()))\n",
            "            z = _cos(x2pi) * g2rad\n",
            "            self.gauss_next = _sin(x2pi) * g2rad\n",
            "\n",
            "        return mu + z * sigma\n",
            "\n",
            "    def lognormvariate(self, mu, sigma):\n",
            "        \"\"\"Log normal distribution.\n",
            "\n",
            "        If you take the natural logarithm of this distribution, you'll get a\n",
            "        normal distribution with mean mu and standard deviation sigma.\n",
            "        mu can have any value, and sigma must be greater than zero.\n",
            "\n",
            "        \"\"\"\n",
            "        return _exp(self.normalvariate(mu, sigma))\n",
            "\n",
            "    def expovariate(self, lambd):\n",
            "        \"\"\"Exponential distribution.\n",
            "\n",
            "        lambd is 1.0 divided by the desired mean.  It should be\n",
            "        nonzero.  (The parameter would be called \"lambda\", but that is\n",
            "        a reserved word in Python.)  Returned values range from 0 to\n",
            "        positive infinity if lambd is positive, and from negative\n",
            "        infinity to 0 if lambd is negative.\n",
            "\n",
            "        \"\"\"\n",
            "        # lambd: rate lambd = 1/mean\n",
            "        # ('lambda' is a Python reserved word)\n",
            "\n",
            "        # we use 1-random() instead of random() to preclude the\n",
            "        # possibility of taking the log of zero.\n",
            "        return -_log(1.0 - self.random()) / lambd\n",
            "\n",
            "    def vonmisesvariate(self, mu, kappa):\n",
            "        \"\"\"Circular data distribution.\n",
            "\n",
            "        mu is the mean angle, expressed in radians between 0 and 2*pi, and\n",
            "        kappa is the concentration parameter, which must be greater than or\n",
            "        equal to zero.  If kappa is equal to zero, this distribution reduces\n",
            "        to a uniform random angle over the range 0 to 2*pi.\n",
            "\n",
            "        \"\"\"\n",
            "        # Based upon an algorithm published in: Fisher, N.I.,\n",
            "        # \"Statistical Analysis of Circular Data\", Cambridge\n",
            "        # University Press, 1993.\n",
            "\n",
            "        # Thanks to Magnus Kessler for a correction to the\n",
            "        # implementation of step 4.\n",
            "\n",
            "        random = self.random\n",
            "        if kappa <= 1e-6:\n",
            "            return TWOPI * random()\n",
            "\n",
            "        s = 0.5 / kappa\n",
            "        r = s + _sqrt(1.0 + s * s)\n",
            "\n",
            "        while True:\n",
            "            u1 = random()\n",
            "            z = _cos(_pi * u1)\n",
            "\n",
            "            d = z / (r + z)\n",
            "            u2 = random()\n",
            "            if u2 < 1.0 - d * d or u2 <= (1.0 - d) * _exp(d):\n",
            "                break\n",
            "\n",
            "        q = 1.0 / r\n",
            "        f = (q + z) / (1.0 + q * z)\n",
            "        u3 = random()\n",
            "        if u3 > 0.5:\n",
            "            theta = (mu + _acos(f)) % TWOPI\n",
            "        else:\n",
            "            theta = (mu - _acos(f)) % TWOPI\n",
            "\n",
            "        return theta\n",
            "\n",
            "    def gammavariate(self, alpha, beta):\n",
            "        \"\"\"Gamma distribution.  Not the gamma function!\n",
            "\n",
            "        Conditions on the parameters are alpha > 0 and beta > 0.\n",
            "\n",
            "        The probability distribution function is:\n",
            "\n",
            "                    x ** (alpha - 1) * math.exp(-x / beta)\n",
            "          pdf(x) =  --------------------------------------\n",
            "                      math.gamma(alpha) * beta ** alpha\n",
            "\n",
            "        \"\"\"\n",
            "        # alpha > 0, beta > 0, mean is alpha*beta, variance is alpha*beta**2\n",
            "\n",
            "        # Warning: a few older sources define the gamma distribution in terms\n",
            "        # of alpha > -1.0\n",
            "        if alpha <= 0.0 or beta <= 0.0:\n",
            "            raise ValueError('gammavariate: alpha and beta must be > 0.0')\n",
            "\n",
            "        random = self.random\n",
            "        if alpha > 1.0:\n",
            "\n",
            "            # Uses R.C.H. Cheng, \"The generation of Gamma\n",
            "            # variables with non-integral shape parameters\",\n",
            "            # Applied Statistics, (1977), 26, No. 1, p71-74\n",
            "\n",
            "            ainv = _sqrt(2.0 * alpha - 1.0)\n",
            "            bbb = alpha - LOG4\n",
            "            ccc = alpha + ainv\n",
            "\n",
            "            while True:\n",
            "                u1 = random()\n",
            "                if not 1e-7 < u1 < 0.9999999:\n",
            "                    continue\n",
            "                u2 = 1.0 - random()\n",
            "                v = _log(u1 / (1.0 - u1)) / ainv\n",
            "                x = alpha * _exp(v)\n",
            "                z = u1 * u1 * u2\n",
            "                r = bbb + ccc * v - x\n",
            "                if r + SG_MAGICCONST - 4.5 * z >= 0.0 or r >= _log(z):\n",
            "                    return x * beta\n",
            "\n",
            "        elif alpha == 1.0:\n",
            "            # expovariate(1/beta)\n",
            "            return -_log(1.0 - random()) * beta\n",
            "\n",
            "        else:\n",
            "            # alpha is between 0 and 1 (exclusive)\n",
            "            # Uses ALGORITHM GS of Statistical Computing - Kennedy & Gentle\n",
            "            while True:\n",
            "                u = random()\n",
            "                b = (_e + alpha) / _e\n",
            "                p = b * u\n",
            "                if p <= 1.0:\n",
            "                    x = p ** (1.0 / alpha)\n",
            "                else:\n",
            "                    x = -_log((b - p) / alpha)\n",
            "                u1 = random()\n",
            "                if p > 1.0:\n",
            "                    if u1 <= x ** (alpha - 1.0):\n",
            "                        break\n",
            "                elif u1 <= _exp(-x):\n",
            "                    break\n",
            "            return x * beta\n",
            "\n",
            "    def betavariate(self, alpha, beta):\n",
            "        \"\"\"Beta distribution.\n",
            "\n",
            "        Conditions on the parameters are alpha > 0 and beta > 0.\n",
            "        Returned values range between 0 and 1.\n",
            "\n",
            "        \"\"\"\n",
            "        ## See\n",
            "        ## http://mail.python.org/pipermail/python-bugs-list/2001-January/003752.html\n",
            "        ## for Ivan Frohne's insightful analysis of why the original implementation:\n",
            "        ##\n",
            "        ##    def betavariate(self, alpha, beta):\n",
            "        ##        # Discrete Event Simulation in C, pp 87-88.\n",
            "        ##\n",
            "        ##        y = self.expovariate(alpha)\n",
            "        ##        z = self.expovariate(1.0/beta)\n",
            "        ##        return z/(y+z)\n",
            "        ##\n",
            "        ## was dead wrong, and how it probably got that way.\n",
            "\n",
            "        # This version due to Janne Sinkkonen, and matches all the std\n",
            "        # texts (e.g., Knuth Vol 2 Ed 3 pg 134 \"the beta distribution\").\n",
            "        y = self.gammavariate(alpha, 1.0)\n",
            "        if y:\n",
            "            return y / (y + self.gammavariate(beta, 1.0))\n",
            "        return 0.0\n",
            "\n",
            "    def paretovariate(self, alpha):\n",
            "        \"\"\"Pareto distribution.  alpha is the shape parameter.\"\"\"\n",
            "        # Jain, pg. 495\n",
            "\n",
            "        u = 1.0 - self.random()\n",
            "        return u ** (-1.0 / alpha)\n",
            "\n",
            "    def weibullvariate(self, alpha, beta):\n",
            "        \"\"\"Weibull distribution.\n",
            "\n",
            "        alpha is the scale parameter and beta is the shape parameter.\n",
            "\n",
            "        \"\"\"\n",
            "        # Jain, pg. 499; bug fix courtesy Bill Arms\n",
            "\n",
            "        u = 1.0 - self.random()\n",
            "        return alpha * (-_log(u)) ** (1.0 / beta)\n",
            "\n",
            "\n",
            "## ------------------------------------------------------------------\n",
            "## --------------- Operating System Random Source  ------------------\n",
            "\n",
            "\n",
            "class SystemRandom(Random):\n",
            "    \"\"\"Alternate random number generator using sources provided\n",
            "    by the operating system (such as /dev/urandom on Unix or\n",
            "    CryptGenRandom on Windows).\n",
            "\n",
            "     Not available on all systems (see os.urandom() for details).\n",
            "\n",
            "    \"\"\"\n",
            "\n",
            "    def random(self):\n",
            "        \"\"\"Get the next random number in the range 0.0 <= X < 1.0.\"\"\"\n",
            "        return (int.from_bytes(_urandom(7)) >> 3) * RECIP_BPF\n",
            "\n",
            "    def getrandbits(self, k):\n",
            "        \"\"\"getrandbits(k) -> x.  Generates an int with k random bits.\"\"\"\n",
            "        if k < 0:\n",
            "            raise ValueError('number of bits must be non-negative')\n",
            "        numbytes = (k + 7) // 8                       # bits / 8 and rounded up\n",
            "        x = int.from_bytes(_urandom(numbytes))\n",
            "        return x >> (numbytes * 8 - k)                # trim excess bits\n",
            "\n",
            "    def randbytes(self, n):\n",
            "        \"\"\"Generate n random bytes.\"\"\"\n",
            "        # os.urandom(n) fails with ValueError for n < 0\n",
            "        # and returns an empty bytes string for n == 0.\n",
            "        return _urandom(n)\n",
            "\n",
            "    def seed(self, *args, **kwds):\n",
            "        \"Stub method.  Not used for a system random number generator.\"\n",
            "        return None\n",
            "\n",
            "    def _notimplemented(self, *args, **kwds):\n",
            "        \"Method should not be called for a system random number generator.\"\n",
            "        raise NotImplementedError('System entropy source does not have state.')\n",
            "    getstate = setstate = _notimplemented\n",
            "\n",
            "\n",
            "# ----------------------------------------------------------------------\n",
            "# Create one instance, seeded from current time, and export its methods\n",
            "# as module-level functions.  The functions share state across all uses\n",
            "# (both in the user's code and in the Python libraries), but that's fine\n",
            "# for most programs and is easier for the casual user than making them\n",
            "# instantiate their own Random() instance.\n",
            "\n",
            "_inst = Random()\n",
            "seed = _inst.seed\n",
            "random = _inst.random\n",
            "uniform = _inst.uniform\n",
            "triangular = _inst.triangular\n",
            "randint = _inst.randint\n",
            "choice = _inst.choice\n",
            "randrange = _inst.randrange\n",
            "sample = _inst.sample\n",
            "shuffle = _inst.shuffle\n",
            "choices = _inst.choices\n",
            "normalvariate = _inst.normalvariate\n",
            "lognormvariate = _inst.lognormvariate\n",
            "expovariate = _inst.expovariate\n",
            "vonmisesvariate = _inst.vonmisesvariate\n",
            "gammavariate = _inst.gammavariate\n",
            "gauss = _inst.gauss\n",
            "betavariate = _inst.betavariate\n",
            "paretovariate = _inst.paretovariate\n",
            "weibullvariate = _inst.weibullvariate\n",
            "getstate = _inst.getstate\n",
            "setstate = _inst.setstate\n",
            "getrandbits = _inst.getrandbits\n",
            "randbytes = _inst.randbytes\n",
            "\n",
            "\n",
            "## ------------------------------------------------------\n",
            "## ----------------- test program -----------------------\n",
            "\n",
            "def _test_generator(n, func, args):\n",
            "    from statistics import stdev, fmean as mean\n",
            "    from time import perf_counter\n",
            "\n",
            "    t0 = perf_counter()\n",
            "    data = [func(*args) for i in _repeat(None, n)]\n",
            "    t1 = perf_counter()\n",
            "\n",
            "    xbar = mean(data)\n",
            "    sigma = stdev(data, xbar)\n",
            "    low = min(data)\n",
            "    high = max(data)\n",
            "\n",
            "    print(f'{t1 - t0:.3f} sec, {n} times {func.__name__}')\n",
            "    print('avg %g, stddev %g, min %g, max %g\\n' % (xbar, sigma, low, high))\n",
            "\n",
            "\n",
            "def _test(N=2000):\n",
            "    _test_generator(N, random, ())\n",
            "    _test_generator(N, normalvariate, (0.0, 1.0))\n",
            "    _test_generator(N, lognormvariate, (0.0, 1.0))\n",
            "    _test_generator(N, vonmisesvariate, (0.0, 1.0))\n",
            "    _test_generator(N, gammavariate, (0.01, 1.0))\n",
            "    _test_generator(N, gammavariate, (0.1, 1.0))\n",
            "    _test_generator(N, gammavariate, (0.1, 2.0))\n",
            "    _test_generator(N, gammavariate, (0.5, 1.0))\n",
            "    _test_generator(N, gammavariate, (0.9, 1.0))\n",
            "    _test_generator(N, gammavariate, (1.0, 1.0))\n",
            "    _test_generator(N, gammavariate, (2.0, 1.0))\n",
            "    _test_generator(N, gammavariate, (20.0, 1.0))\n",
            "    _test_generator(N, gammavariate, (200.0, 1.0))\n",
            "    _test_generator(N, gauss, (0.0, 1.0))\n",
            "    _test_generator(N, betavariate, (3.0, 3.0))\n",
            "    _test_generator(N, triangular, (0.0, 1.0, 1.0 / 3.0))\n",
            "\n",
            "\n",
            "## ------------------------------------------------------\n",
            "## ------------------ fork support  ---------------------\n",
            "\n",
            "if hasattr(_os, \"fork\"):\n",
            "    _os.register_at_fork(after_in_child=_inst.seed)\n",
            "\n",
            "\n",
            "if __name__ == '__main__':\n",
            "    _test()\n"
          ]
        }
      ]
    },
    {
      "cell_type": "code",
      "source": [
        "import sys\n",
        "sys.path.append('/some/shared/dir')\n",
        "import something_that_is_in_shared_dir"
      ],
      "metadata": {
        "colab": {
          "base_uri": "https://localhost:8080/",
          "height": 357
        },
        "id": "Ec2gPN-1wBkd",
        "outputId": "5b7828b9-c695-4324-cdb0-26a5e5ff04d7"
      },
      "execution_count": 264,
      "outputs": [
        {
          "output_type": "error",
          "ename": "ModuleNotFoundError",
          "evalue": "No module named 'something_that_is_in_shared_dir'",
          "traceback": [
            "\u001b[0;31m---------------------------------------------------------------------------\u001b[0m",
            "\u001b[0;31mModuleNotFoundError\u001b[0m                       Traceback (most recent call last)",
            "\u001b[0;32m/tmp/ipython-input-264-2833965526.py\u001b[0m in \u001b[0;36m<cell line: 0>\u001b[0;34m()\u001b[0m\n\u001b[1;32m      1\u001b[0m \u001b[0;32mimport\u001b[0m \u001b[0msys\u001b[0m\u001b[0;34m\u001b[0m\u001b[0;34m\u001b[0m\u001b[0m\n\u001b[1;32m      2\u001b[0m \u001b[0msys\u001b[0m\u001b[0;34m.\u001b[0m\u001b[0mpath\u001b[0m\u001b[0;34m.\u001b[0m\u001b[0mappend\u001b[0m\u001b[0;34m(\u001b[0m\u001b[0;34m'/some/shared/dir'\u001b[0m\u001b[0;34m)\u001b[0m\u001b[0;34m\u001b[0m\u001b[0;34m\u001b[0m\u001b[0m\n\u001b[0;32m----> 3\u001b[0;31m \u001b[0;32mimport\u001b[0m \u001b[0msomething_that_is_in_shared_dir\u001b[0m\u001b[0;34m\u001b[0m\u001b[0;34m\u001b[0m\u001b[0m\n\u001b[0m",
            "\u001b[0;31mModuleNotFoundError\u001b[0m: No module named 'something_that_is_in_shared_dir'",
            "",
            "\u001b[0;31m---------------------------------------------------------------------------\u001b[0;32m\nNOTE: If your import is failing due to a missing package, you can\nmanually install dependencies using either !pip or !apt.\n\nTo view examples of installing some common dependencies, click the\n\"Open Examples\" button below.\n\u001b[0;31m---------------------------------------------------------------------------\u001b[0m\n"
          ],
          "errorDetails": {
            "actions": [
              {
                "action": "open_url",
                "actionText": "Open Examples",
                "url": "/notebooks/snippets/importing_libraries.ipynb"
              }
            ]
          }
        }
      ]
    },
    {
      "cell_type": "code",
      "source": [
        "import math"
      ],
      "metadata": {
        "id": "LxvFR3o6wE4k"
      },
      "execution_count": 252,
      "outputs": []
    },
    {
      "cell_type": "code",
      "source": [
        "dir(math)"
      ],
      "metadata": {
        "colab": {
          "base_uri": "https://localhost:8080/"
        },
        "id": "fP36HXkyx2eU",
        "outputId": "813e17e1-3e70-40c4-c13d-7de8d8416eb6"
      },
      "execution_count": 254,
      "outputs": [
        {
          "output_type": "execute_result",
          "data": {
            "text/plain": [
              "['__annotations__',\n",
              " '__doc__',\n",
              " '__loader__',\n",
              " '__name__',\n",
              " '__package__',\n",
              " '__spec__',\n",
              " 'acos',\n",
              " 'acosh',\n",
              " 'asin',\n",
              " 'asinh',\n",
              " 'atan',\n",
              " 'atan2',\n",
              " 'atanh',\n",
              " 'cbrt',\n",
              " 'ceil',\n",
              " 'comb',\n",
              " 'copysign',\n",
              " 'cos',\n",
              " 'cosh',\n",
              " 'degrees',\n",
              " 'dist',\n",
              " 'e',\n",
              " 'erf',\n",
              " 'erfc',\n",
              " 'exp',\n",
              " 'exp2',\n",
              " 'expm1',\n",
              " 'fabs',\n",
              " 'factorial',\n",
              " 'floor',\n",
              " 'fmod',\n",
              " 'frexp',\n",
              " 'fsum',\n",
              " 'gamma',\n",
              " 'gcd',\n",
              " 'hypot',\n",
              " 'inf',\n",
              " 'isclose',\n",
              " 'isfinite',\n",
              " 'isinf',\n",
              " 'isnan',\n",
              " 'isqrt',\n",
              " 'lcm',\n",
              " 'ldexp',\n",
              " 'lgamma',\n",
              " 'log',\n",
              " 'log10',\n",
              " 'log1p',\n",
              " 'log2',\n",
              " 'modf',\n",
              " 'nan',\n",
              " 'nextafter',\n",
              " 'perm',\n",
              " 'pi',\n",
              " 'pow',\n",
              " 'prod',\n",
              " 'radians',\n",
              " 'remainder',\n",
              " 'sin',\n",
              " 'sinh',\n",
              " 'sqrt',\n",
              " 'tan',\n",
              " 'tanh',\n",
              " 'tau',\n",
              " 'trunc',\n",
              " 'ulp']"
            ]
          },
          "metadata": {},
          "execution_count": 254
        }
      ]
    },
    {
      "cell_type": "code",
      "source": [
        "math.pi"
      ],
      "metadata": {
        "colab": {
          "base_uri": "https://localhost:8080/"
        },
        "id": "JSHr1kIix3Er",
        "outputId": "af05af7e-b6a0-4752-98b8-4267c6c754bf"
      },
      "execution_count": 255,
      "outputs": [
        {
          "output_type": "execute_result",
          "data": {
            "text/plain": [
              "3.141592653589793"
            ]
          },
          "metadata": {},
          "execution_count": 255
        }
      ]
    },
    {
      "cell_type": "code",
      "source": [
        "%%writefile blah.py\n",
        "def blah():\n",
        "    return 'hello'\n",
        "\n",
        "def something(x):\n",
        "    return x ** 2"
      ],
      "metadata": {
        "colab": {
          "base_uri": "https://localhost:8080/"
        },
        "id": "y3UAlZiFyA-v",
        "outputId": "1792ff89-c926-4ea9-f140-40ac63faae7a"
      },
      "execution_count": 256,
      "outputs": [
        {
          "output_type": "stream",
          "name": "stdout",
          "text": [
            "Writing blah.py\n"
          ]
        }
      ]
    },
    {
      "cell_type": "code",
      "source": [
        "import blah"
      ],
      "metadata": {
        "id": "OKhta8wMyYOQ"
      },
      "execution_count": 257,
      "outputs": []
    },
    {
      "cell_type": "code",
      "source": [
        "dir(blah)"
      ],
      "metadata": {
        "colab": {
          "base_uri": "https://localhost:8080/"
        },
        "id": "XUaTe05uyZi7",
        "outputId": "66ccbe82-65de-49f3-8484-b976ff143069"
      },
      "execution_count": 258,
      "outputs": [
        {
          "output_type": "execute_result",
          "data": {
            "text/plain": [
              "['__builtins__',\n",
              " '__cached__',\n",
              " '__doc__',\n",
              " '__file__',\n",
              " '__loader__',\n",
              " '__name__',\n",
              " '__package__',\n",
              " '__spec__',\n",
              " 'blah',\n",
              " 'something']"
            ]
          },
          "metadata": {},
          "execution_count": 258
        }
      ]
    },
    {
      "cell_type": "code",
      "source": [
        "blah.blah()"
      ],
      "metadata": {
        "colab": {
          "base_uri": "https://localhost:8080/",
          "height": 35
        },
        "id": "nOLrgZyTya3e",
        "outputId": "4b5e2a25-f4af-4504-c6af-aaaf9ce4e3cc"
      },
      "execution_count": 259,
      "outputs": [
        {
          "output_type": "execute_result",
          "data": {
            "text/plain": [
              "'hello'"
            ],
            "application/vnd.google.colaboratory.intrinsic+json": {
              "type": "string"
            }
          },
          "metadata": {},
          "execution_count": 259
        }
      ]
    },
    {
      "cell_type": "code",
      "source": [
        "blah.something(5)"
      ],
      "metadata": {
        "colab": {
          "base_uri": "https://localhost:8080/"
        },
        "id": "FdS2RjLcydu3",
        "outputId": "8b6d0dfb-c5ff-4e6b-eeea-b2907552e8f4"
      },
      "execution_count": 260,
      "outputs": [
        {
          "output_type": "execute_result",
          "data": {
            "text/plain": [
              "25"
            ]
          },
          "metadata": {},
          "execution_count": 260
        }
      ]
    },
    {
      "cell_type": "code",
      "source": [
        "sys.path.append('/shared/intuit/dir')"
      ],
      "metadata": {
        "id": "dATBEfF6ygQ0"
      },
      "execution_count": 261,
      "outputs": []
    },
    {
      "cell_type": "code",
      "source": [
        "sys.path"
      ],
      "metadata": {
        "colab": {
          "base_uri": "https://localhost:8080/"
        },
        "id": "0X-qbdIRy0NK",
        "outputId": "4d12204b-383e-46d2-a031-656f7ad06f58"
      },
      "execution_count": 262,
      "outputs": [
        {
          "output_type": "execute_result",
          "data": {
            "text/plain": [
              "['/content',\n",
              " '/env/python',\n",
              " '/usr/lib/python311.zip',\n",
              " '/usr/lib/python3.11',\n",
              " '/usr/lib/python3.11/lib-dynload',\n",
              " '',\n",
              " '/usr/local/lib/python3.11/dist-packages',\n",
              " '/usr/lib/python3/dist-packages',\n",
              " '/usr/local/lib/python3.11/dist-packages/IPython/extensions',\n",
              " '/usr/local/lib/python3.11/dist-packages/setuptools/_vendor',\n",
              " '/root/.ipython',\n",
              " '/shared/intuit/dir']"
            ]
          },
          "metadata": {},
          "execution_count": 262
        }
      ]
    },
    {
      "cell_type": "code",
      "source": [],
      "metadata": {
        "id": "Zt7-DS_gy05q"
      },
      "execution_count": null,
      "outputs": []
    }
  ]
}